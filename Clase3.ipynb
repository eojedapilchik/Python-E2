{
 "cells": [
  {
   "cell_type": "markdown",
   "id": "dbdebe99",
   "metadata": {},
   "source": [
    "## Ejercicio Grafica 2"
   ]
  },
  {
   "cell_type": "code",
   "execution_count": 1,
   "id": "0fc072ce",
   "metadata": {},
   "outputs": [],
   "source": [
    "import pandas as pd"
   ]
  },
  {
   "cell_type": "code",
   "execution_count": 3,
   "id": "44baa240",
   "metadata": {},
   "outputs": [
    {
     "data": {
      "text/plain": [
       "<AxesSubplot:xlabel='Date'>"
      ]
     },
     "execution_count": 3,
     "metadata": {},
     "output_type": "execute_result"
    },
    {
     "data": {
      "image/png": "[encoded data removed]",
      "text/plain": [
       "<Figure size 432x288 with 1 Axes>"
      ]
     },
     "metadata": {
      "needs_background": "light"
     },
     "output_type": "display_data"
    }
   ],
   "source": [
    "data = pd.read_csv('MRNA.csv', parse_dates = True)\n",
    "data.plot(x='Date', y='Adj Close')"
   ]
  },
  {
   "cell_type": "markdown",
   "id": "eaa8bf11",
   "metadata": {},
   "source": [
    "## Strings - Cadena de Caracteres (Texto)"
   ]
  },
  {
   "cell_type": "code",
   "execution_count": 4,
   "id": "d86973ce",
   "metadata": {},
   "outputs": [
    {
     "data": {
      "text/plain": [
       "'Hola Mundo'"
      ]
     },
     "execution_count": 4,
     "metadata": {},
     "output_type": "execute_result"
    }
   ],
   "source": [
    "\"Hola Mundo\"\n",
    "'Hola Mundo'"
   ]
  },
  {
   "cell_type": "code",
   "execution_count": 5,
   "id": "e3370fd3",
   "metadata": {},
   "outputs": [],
   "source": [
    "texto1 = \"Mary's restaurant\""
   ]
  },
  {
   "cell_type": "code",
   "execution_count": 6,
   "id": "efabd182",
   "metadata": {},
   "outputs": [],
   "source": [
    "texto = 'Ella dijo: \"Hola!\" '"
   ]
  },
  {
   "cell_type": "code",
   "execution_count": 7,
   "id": "69967000",
   "metadata": {},
   "outputs": [
    {
     "ename": "SyntaxError",
     "evalue": "invalid syntax (<ipython-input-7-5b0bf202c5f7>, line 2)",
     "output_type": "error",
     "traceback": [
      "\u001b[1;36m  File \u001b[1;32m\"<ipython-input-7-5b0bf202c5f7>\"\u001b[1;36m, line \u001b[1;32m2\u001b[0m\n\u001b[1;33m    texto = \"Ella dijo: \"Hola como estas\"\"\u001b[0m\n\u001b[1;37m                         ^\u001b[0m\n\u001b[1;31mSyntaxError\u001b[0m\u001b[1;31m:\u001b[0m invalid syntax\n"
     ]
    }
   ],
   "source": [
    "#error\n",
    "texto = \"Ella dijo: \"Hola como estas\"\""
   ]
  },
  {
   "cell_type": "markdown",
   "id": "bcbfbc79",
   "metadata": {},
   "source": [
    "### Escaping de String"
   ]
  },
  {
   "cell_type": "code",
   "execution_count": 8,
   "id": "8f53072c",
   "metadata": {},
   "outputs": [
    {
     "name": "stdout",
     "output_type": "stream",
     "text": [
      "Ella dijo:\"Hola!\"\n"
     ]
    }
   ],
   "source": [
    "## Escaping \n",
    "texto3 = \"Ella dijo:\\\"Hola!\\\"\"\n",
    "print(texto3)"
   ]
  },
  {
   "cell_type": "code",
   "execution_count": 9,
   "id": "a340b0fe",
   "metadata": {},
   "outputs": [
    {
     "name": "stdout",
     "output_type": "stream",
     "text": [
      "Ella dijo:'Hola!'\n"
     ]
    }
   ],
   "source": [
    "texto4 = 'Ella dijo:\\'Hola!\\''\n",
    "print(texto4)"
   ]
  },
  {
   "cell_type": "code",
   "execution_count": 10,
   "id": "1a9fbccc",
   "metadata": {},
   "outputs": [
    {
     "name": "stdout",
     "output_type": "stream",
     "text": [
      "Esto es la linea 1 \n",
      " Esto es la segunda linea \t\t\t Valor \n",
      " Esto es la tercera linea\n"
     ]
    }
   ],
   "source": [
    "#\\n(salto de linea) \\t(tabulación)\n",
    "\n",
    "texto =\"Esto es la linea 1 \\n Esto es la segunda linea \\t\\t\\t Valor \\n Esto es la tercera linea\"\n",
    "print(texto)"
   ]
  },
  {
   "cell_type": "markdown",
   "id": "fec14af9",
   "metadata": {},
   "source": [
    "### Concatenación"
   ]
  },
  {
   "cell_type": "code",
   "execution_count": 11,
   "id": "fe7e41c2",
   "metadata": {},
   "outputs": [],
   "source": [
    "ticker = \"SPY\"\n",
    "precio = 445\n",
    "valor = '445.0'"
   ]
  },
  {
   "cell_type": "code",
   "execution_count": 14,
   "id": "5dae52f4",
   "metadata": {},
   "outputs": [
    {
     "name": "stdout",
     "output_type": "stream",
     "text": [
      "El valor actual del SPY es: 445.0\n"
     ]
    }
   ],
   "source": [
    "print(\"El valor actual del \"+ticker+\" es: \"+valor)"
   ]
  },
  {
   "cell_type": "code",
   "execution_count": 15,
   "id": "a17aaccf",
   "metadata": {},
   "outputs": [
    {
     "name": "stdout",
     "output_type": "stream",
     "text": [
      "El valor actual del SPY es:  445\n"
     ]
    }
   ],
   "source": [
    "print(\"El valor actual del \"+ticker+\" es: \",precio)"
   ]
  },
  {
   "cell_type": "code",
   "execution_count": 17,
   "id": "b039fed6",
   "metadata": {},
   "outputs": [
    {
     "name": "stdout",
     "output_type": "stream",
     "text": [
      "El valor actual del SPY es: 445\n"
     ]
    }
   ],
   "source": [
    "##Casting de tipo de datos\n",
    "\n",
    "print(\"El valor actual del \"+ticker+\" es: \"+str(precio))"
   ]
  },
  {
   "cell_type": "code",
   "execution_count": 31,
   "id": "5e127af9",
   "metadata": {},
   "outputs": [],
   "source": [
    "total = int('4450') *5  # cast de cualquier valor (rep. numerica entera) a un tipo de dato entero\n",
    "total2 = float(445.0) *5"
   ]
  },
  {
   "cell_type": "code",
   "execution_count": 32,
   "id": "4c292cd8",
   "metadata": {},
   "outputs": [
    {
     "name": "stdout",
     "output_type": "stream",
     "text": [
      "22250\n",
      "2225.0\n"
     ]
    }
   ],
   "source": [
    "print(total)\n",
    "print(total2)"
   ]
  },
  {
   "cell_type": "markdown",
   "id": "7124caf3",
   "metadata": {},
   "source": [
    "## Función Print"
   ]
  },
  {
   "cell_type": "code",
   "execution_count": 33,
   "id": "2cf0d8ea",
   "metadata": {},
   "outputs": [
    {
     "name": "stdout",
     "output_type": "stream",
     "text": [
      "esto es un texto\n"
     ]
    }
   ],
   "source": [
    "print(\"esto es un texto\")"
   ]
  },
  {
   "cell_type": "code",
   "execution_count": 34,
   "id": "14820c7d",
   "metadata": {},
   "outputs": [
    {
     "name": "stdout",
     "output_type": "stream",
     "text": [
      "Esto es una cadena \n",
      " de varias lineas \n",
      " linea 3 \n",
      " linea 4\n"
     ]
    }
   ],
   "source": [
    "print(\"Esto es una cadena \\n de varias lineas \\n linea 3 \\n linea 4\")"
   ]
  },
  {
   "cell_type": "code",
   "execution_count": 35,
   "id": "3620d526",
   "metadata": {},
   "outputs": [
    {
     "name": "stdout",
     "output_type": "stream",
     "text": [
      "C:\n",
      "ombre\\directorio\n"
     ]
    }
   ],
   "source": [
    "print(\"C:\\nombre\\directorio\")"
   ]
  },
  {
   "cell_type": "code",
   "execution_count": 36,
   "id": "92a60917",
   "metadata": {},
   "outputs": [
    {
     "name": "stdout",
     "output_type": "stream",
     "text": [
      "C:\\nombre\\directorio\n"
     ]
    }
   ],
   "source": [
    "# Raw String => crudo => Imprime el texto tal como aparece dentro de las comillas\n",
    "print(r\"C:\\nombre\\directorio\")"
   ]
  },
  {
   "cell_type": "code",
   "execution_count": 37,
   "id": "64af5989",
   "metadata": {},
   "outputs": [
    {
     "name": "stdout",
     "output_type": "stream",
     "text": [
      "c:\\nombre\\directorio\n"
     ]
    }
   ],
   "source": [
    "directorio = r\"c:\\nombre\\directorio\"\n",
    "print(directorio)"
   ]
  },
  {
   "cell_type": "code",
   "execution_count": 39,
   "id": "711b3b97",
   "metadata": {},
   "outputs": [
    {
     "name": "stdout",
     "output_type": "stream",
     "text": [
      " Linea1\n",
      "Linea2\n",
      "\n",
      "Linea4\n",
      "\n"
     ]
    }
   ],
   "source": [
    "texto_varia_lin = \"\"\" Linea1\n",
    "Linea2\n",
    "\n",
    "Linea4\n",
    "\"\"\"\n",
    "print(texto_varia_lin)"
   ]
  },
  {
   "cell_type": "markdown",
   "id": "9ff9c912",
   "metadata": {},
   "source": [
    "## String formatting"
   ]
  },
  {
   "cell_type": "code",
   "execution_count": 40,
   "id": "20585613",
   "metadata": {},
   "outputs": [
    {
     "name": "stdout",
     "output_type": "stream",
     "text": [
      " El precio AAPL es de 140 y esta en el portafolio: True\n"
     ]
    }
   ],
   "source": [
    "accion =\"AAPL\"\n",
    "precio =  140\n",
    "en_portafolio = True\n",
    "# print(\"El precio de \"+accion+\" es de: \"+str(precio)+\" y se encuentra en el port.: \"+str(en_portafolio))\n",
    "print(f\" El precio {accion} es de {precio} y esta en el portafolio: {en_portafolio}\")"
   ]
  },
  {
   "cell_type": "markdown",
   "id": "166ad9e3",
   "metadata": {},
   "source": [
    "## Conversion de Datos (Casting)"
   ]
  },
  {
   "cell_type": "code",
   "execution_count": 45,
   "id": "10302022",
   "metadata": {},
   "outputs": [],
   "source": [
    "#cualquier tipo de dato a string\n",
    "x = str(200)\n",
    "y = str(30.1)\n",
    "z = str(False)\n",
    "\n",
    "#cualquier tipo de dato a numero\n",
    "a = int('20')\n",
    "b = float('20.8')\n",
    "c = int(20.3)\n",
    "#d = int('veinte') => da error\n",
    "\n",
    "#cualquier tipo de dato a boolean\n",
    "b1 = bool(1)\n",
    "b2 = bool(0)"
   ]
  },
  {
   "cell_type": "markdown",
   "id": "0e6cb9e9",
   "metadata": {},
   "source": [
    "## Función Input (entrada de datos)"
   ]
  },
  {
   "cell_type": "code",
   "execution_count": 66,
   "id": "dbe64c5f",
   "metadata": {},
   "outputs": [
    {
     "name": "stdout",
     "output_type": "stream",
     "text": [
      "Por favor, ingresa la accción que quieres analizar \n",
      "AAPL\n"
     ]
    }
   ],
   "source": [
    "accion = input (\"Por favor, ingresa la accción que quieres analizar \\n\")"
   ]
  },
  {
   "cell_type": "code",
   "execution_count": 67,
   "id": "cd39c62e",
   "metadata": {},
   "outputs": [
    {
     "name": "stdout",
     "output_type": "stream",
     "text": [
      "AAPL\n"
     ]
    }
   ],
   "source": [
    "print(accion)"
   ]
  },
  {
   "cell_type": "code",
   "execution_count": 69,
   "id": "bc05dfc2",
   "metadata": {},
   "outputs": [
    {
     "name": "stdout",
     "output_type": "stream",
     "text": [
      "Por favor, ingresa la tasa de retorno que deseas usar (numerico 12%=>0.12) \n",
      "0.13\n"
     ]
    }
   ],
   "source": [
    "tasa = input(\"Por favor, ingresa la tasa de retorno que deseas usar (numerico 12%=>0.12) \\n\")"
   ]
  },
  {
   "cell_type": "code",
   "execution_count": 70,
   "id": "1efa852e",
   "metadata": {},
   "outputs": [
    {
     "ename": "TypeError",
     "evalue": "unsupported operand type(s) for +: 'int' and 'str'",
     "output_type": "error",
     "traceback": [
      "\u001b[1;31m---------------------------------------------------------------------------\u001b[0m",
      "\u001b[1;31mTypeError\u001b[0m                                 Traceback (most recent call last)",
      "\u001b[1;32m<ipython-input-70-c0dea84b9861>\u001b[0m in \u001b[0;36m<module>\u001b[1;34m\u001b[0m\n\u001b[1;32m----> 1\u001b[1;33m \u001b[0mvf\u001b[0m \u001b[1;33m=\u001b[0m \u001b[1;36m100\u001b[0m\u001b[1;33m*\u001b[0m\u001b[1;33m(\u001b[0m\u001b[1;36m1\u001b[0m\u001b[1;33m+\u001b[0m\u001b[0mtasa\u001b[0m\u001b[1;33m)\u001b[0m\u001b[1;33m\u001b[0m\u001b[1;33m\u001b[0m\u001b[0m\n\u001b[0m",
      "\u001b[1;31mTypeError\u001b[0m: unsupported operand type(s) for +: 'int' and 'str'"
     ]
    }
   ],
   "source": [
    "vf = 100*(1+tasa)"
   ]
  },
  {
   "cell_type": "code",
   "execution_count": 73,
   "id": "72b4f999",
   "metadata": {},
   "outputs": [],
   "source": [
    "# casting del input a float para poder hacer la operacion, porque input SIEMPRE retorna un String\n",
    "vf = 100*(1+ float(tasa))"
   ]
  },
  {
   "cell_type": "code",
   "execution_count": 74,
   "id": "105e06c2",
   "metadata": {},
   "outputs": [
    {
     "data": {
      "text/plain": [
       "112.99999999999999"
      ]
     },
     "execution_count": 74,
     "metadata": {},
     "output_type": "execute_result"
    }
   ],
   "source": [
    "vf"
   ]
  },
  {
   "cell_type": "code",
   "execution_count": 75,
   "id": "aef3229c",
   "metadata": {},
   "outputs": [
    {
     "name": "stdout",
     "output_type": "stream",
     "text": [
      "Por favor, ingresa tu edad (en numero de años)treinta y ocho\n"
     ]
    }
   ],
   "source": [
    "edad = input(\"Por favor, ingresa tu edad (en numero de años)\")"
   ]
  },
  {
   "cell_type": "code",
   "execution_count": 76,
   "id": "dc778b4d",
   "metadata": {},
   "outputs": [
    {
     "ename": "TypeError",
     "evalue": "can't multiply sequence by non-int of type 'float'",
     "output_type": "error",
     "traceback": [
      "\u001b[1;31m---------------------------------------------------------------------------\u001b[0m",
      "\u001b[1;31mTypeError\u001b[0m                                 Traceback (most recent call last)",
      "\u001b[1;32m<ipython-input-76-a1783f9751c0>\u001b[0m in \u001b[0;36m<module>\u001b[1;34m\u001b[0m\n\u001b[1;32m----> 1\u001b[1;33m \u001b[0mtotal_retiro\u001b[0m\u001b[1;33m=\u001b[0m\u001b[1;33m(\u001b[0m\u001b[0medad\u001b[0m \u001b[1;33m*\u001b[0m \u001b[1;36m1.2\u001b[0m\u001b[1;33m)\u001b[0m \u001b[1;33m/\u001b[0m \u001b[1;36m1000\u001b[0m\u001b[1;33m\u001b[0m\u001b[1;33m\u001b[0m\u001b[0m\n\u001b[0m",
      "\u001b[1;31mTypeError\u001b[0m: can't multiply sequence by non-int of type 'float'"
     ]
    }
   ],
   "source": [
    "total_retiro=(edad * 1.2) / 1000"
   ]
  },
  {
   "cell_type": "code",
   "execution_count": 78,
   "id": "7203afe8",
   "metadata": {},
   "outputs": [
    {
     "name": "stdout",
     "output_type": "stream",
     "text": [
      "Por favor, ingresa tu edad33\n",
      "El valor de edad es 33\n"
     ]
    }
   ],
   "source": [
    "variable = \"edad\"\n",
    "valor = input(f\"Por favor, ingresa tu {variable}\")\n",
    "print(f'El valor de {variable} es { valor}')"
   ]
  },
  {
   "cell_type": "markdown",
   "id": "ad0e9506",
   "metadata": {},
   "source": [
    "## Ejercicio - Calculadora de Retiro"
   ]
  },
  {
   "cell_type": "code",
   "execution_count": 2,
   "id": "c8ecae6e",
   "metadata": {},
   "outputs": [
    {
     "name": "stdout",
     "output_type": "stream",
     "text": [
      "¿Cúal es tu nombre?\n",
      "Alcides\n",
      "¿Cúal es tu edad? - Introduce solo números \n",
      "30\n",
      "Introduzca el monto de sus ingresos anuales despues de impuesto (USD)\n",
      "50000\n",
      "Introduzca el monto de sus gastos anuales (totales USD)\n",
      "36000\n",
      "Introduzca el valor actual de su portafolio de inversión (USD) - Si no tiene coloque 0\n",
      "100000\n",
      "Introduzca el monto que ahorras anualmente (USD)\n",
      "10000\n",
      "Indique la tasa de retorno anual del portafolio/inversiones/ahorros (Numero 0 a 1: 0.xx)\n",
      ".08\n"
     ]
    }
   ],
   "source": [
    "# Solicitud de datos:\n",
    "nombre = input(\"¿Cúal es tu nombre?\\n\")\n",
    "edad = input(\"¿Cúal es tu edad? - Introduce solo números \\n\")\n",
    "ingresos_di_an = input(\"Introduzca el monto de sus ingresos anuales despues de impuesto (USD)\\n\")\n",
    "gastos_an = input(\"Introduzca el monto de sus gastos anuales (totales USD)\\n\")\n",
    "portafolio = input(\"Introduzca el valor actual de su portafolio de inversión (USD) - Si no tiene coloque 0\\n\")\n",
    "aporte_aho = input(\"Introduzca el monto que ahorras anualmente (USD)\\n\")\n",
    "tasa = input(\"Indique la tasa de retorno anual del portafolio/inversiones/ahorros (Numero 0 a 1: 0.xx)\\n\")\n",
    "TR = 0.04 #Tasa de retiro 4% anual despues de la edad de retiro"
   ]
  },
  {
   "cell_type": "code",
   "execution_count": 3,
   "id": "6b071062",
   "metadata": {},
   "outputs": [
    {
     "name": "stdout",
     "output_type": "stream",
     "text": [
      "************************************************************\n",
      "\t\t CALCULADORA DE RETIRO\n",
      "============================================================\n",
      "\n"
     ]
    }
   ],
   "source": [
    "# Cabezal de ticket/impresion\n",
    "cabezal = \"*\"*60\n",
    "cabezal = cabezal+\"\\n\\t\\t CALCULADORA DE RETIRO\\n\"\n",
    "cabezal += \"=\"*60+\"\\n\"\n",
    "print(cabezal)"
   ]
  },
  {
   "cell_type": "code",
   "execution_count": 4,
   "id": "ad213522",
   "metadata": {
    "scrolled": true
   },
   "outputs": [
    {
     "name": "stdout",
     "output_type": "stream",
     "text": [
      "************************************************************\n",
      "\t\t CALCULADORA DE RETIRO\n",
      "============================================================\n",
      "\t Nombre: \t\t\tAlcides\n",
      "\t Edad: \t\t\t\t30\n",
      "\t Ingreso DI: \t\t\t50,000.00\n",
      "\t Gastos Anuales: \t\t36,000.00\n",
      "\t Valor Portafolio: \t\t100,000.00\n",
      "\t Contrib. Ahorros: \t\t10,000.00\n",
      "\t Tasa Ret. Anual: \t\t8.00%\n",
      "\t Tasa Retiro: \t\t\t4.00%\n",
      "============================================================\n"
     ]
    }
   ],
   "source": [
    "# Seccion de Impresion de la Data de Entrada\n",
    "datos = f\"\\t Nombre: \\t\\t\\t{nombre}\\n\"\n",
    "datos+= f\"\\t Edad: \\t\\t\\t\\t{edad}\\n\"\n",
    "datos+= f\"\\t Ingreso DI: \\t\\t\\t{float(ingresos_di_an):,.2f}\\n\"\n",
    "datos+= f\"\\t Gastos Anuales: \\t\\t{float(gastos_an):,.2f}\\n\"\n",
    "datos+= f\"\\t Valor Portafolio: \\t\\t{float(portafolio):,.2f}\\n\"\n",
    "datos+= f\"\\t Contrib. Ahorros: \\t\\t{float(aporte_aho):,.2f}\\n\"\n",
    "datos+= f\"\\t Tasa Ret. Anual: \\t\\t{float(tasa):.2%}\\n\"\n",
    "datos+= f\"\\t Tasa Retiro: \\t\\t\\t{TR*100:.2f}%\\n\"\n",
    "datos+= \"=\"*60\n",
    "print(cabezal+datos)"
   ]
  },
  {
   "cell_type": "code",
   "execution_count": 5,
   "id": "d7039bdf",
   "metadata": {},
   "outputs": [
    {
     "name": "stdout",
     "output_type": "stream",
     "text": [
      "El monto que deberias tener ahorrado para retiro es de: 900,000.00 USD\n"
     ]
    }
   ],
   "source": [
    "# Calculo del monto necesario para retiro (Tomando en cuanta la tasa de Retiro y los gastos anuales)\n",
    "# Cuanto debo tener ahorrado para retirar x% (Tasa de retiro) anualmente de mi portafolio\n",
    "# y cubrir mis gastos anuales.\n",
    "\n",
    "monto_meta = float(gastos_an)/TR\n",
    "\n",
    "print(f\"El monto que deberias tener ahorrado para retiro es de: {monto_meta:,.2f} USD\")"
   ]
  },
  {
   "cell_type": "code",
   "execution_count": 6,
   "id": "3cd1c7a7",
   "metadata": {
    "scrolled": true
   },
   "outputs": [
    {
     "name": "stdout",
     "output_type": "stream",
     "text": [
      "900000.0\n"
     ]
    }
   ],
   "source": [
    "print(monto_meta)"
   ]
  },
  {
   "cell_type": "code",
   "execution_count": 14,
   "id": "a329df08",
   "metadata": {},
   "outputs": [
    {
     "name": "stdout",
     "output_type": "stream",
     "text": [
      "La cantidad de años necesaria para juntar el monto meta de 900,000.00 es 20\n"
     ]
    }
   ],
   "source": [
    "## Calculo de la edad de retiro - asumiendo que se hace la contrib. de ahorros a final de años\n",
    "acumulador = float(portafolio)\n",
    "years = 0\n",
    "while(acumulador < monto_meta):\n",
    "    acumulador = (acumulador * (1+float(tasa))) + float(aporte_aho)\n",
    "    years+=1\n",
    "    #print(f\"El valor de acumulador es {acumulador}\")\n",
    "print(f\"La cantidad de años necesaria para juntar el monto meta de {monto_meta:,.2f} es {years}\")"
   ]
  },
  {
   "cell_type": "code",
   "execution_count": 16,
   "id": "a88b559c",
   "metadata": {},
   "outputs": [
    {
     "name": "stdout",
     "output_type": "stream",
     "text": [
      "************************************************************\n",
      "\t\t CALCULADORA DE RETIRO\n",
      "============================================================\n",
      "\t Nombre: \t\t\tAlcides\n",
      "\t Edad: \t\t\t\t30\n",
      "\t Ingreso DI: \t\t\t50,000.00\n",
      "\t Gastos Anuales: \t\t36,000.00\n",
      "\t Valor Portafolio: \t\t100,000.00\n",
      "\t Contrib. Ahorros: \t\t10,000.00\n",
      "\t Tasa Ret. Anual: \t\t8.00%\n",
      "\t Tasa Retiro: \t\t\t4.00%\n",
      "============================================================\n",
      "\t\tRESULTADO\n",
      "\tEdad:\t\t\t\t 50\n",
      "\tMonto Meta:\t\t\t 900,000.00\n",
      "\n"
     ]
    }
   ],
   "source": [
    "# Impresion del bloque de resultado\n",
    "resultado = \"\\n\\t\\tRESULTADO\\n\"\n",
    "resultado += f\"\\tEdad:\\t\\t\\t\\t {int(edad)+years}\\n\"\n",
    "resultado += f\"\\tMonto Meta:\\t\\t\\t {monto_meta:,.2f}\\n\"\n",
    "print(cabezal+datos+resultado)"
   ]
  },
  {
   "cell_type": "code",
   "execution_count": 20,
   "id": "df8c0a0e",
   "metadata": {},
   "outputs": [
    {
     "name": "stdout",
     "output_type": "stream",
     "text": [
      "19.702793348208203\n"
     ]
    }
   ],
   "source": [
    "import numpy_financial as npf\n",
    "tiempo = npf.nper(float(tasa),-float(aporte_aho),-float(portafolio), monto_meta)\n",
    "print(tiempo)"
   ]
  },
  {
   "cell_type": "markdown",
   "id": "96ccfbc8",
   "metadata": {},
   "source": [
    "## Libreria yfinance"
   ]
  },
  {
   "cell_type": "code",
   "execution_count": 21,
   "id": "a0637059",
   "metadata": {},
   "outputs": [],
   "source": [
    "# pip install yfinance\n",
    "# pip install -i https://pypi.anaconda.org/ranaroussi/simple yfinance\n",
    "\n",
    "#DOCUMENTACIÓN: https://pypi.org/project/yfinance/\n",
    "\n",
    "import yfinance as yf"
   ]
  },
  {
   "cell_type": "code",
   "execution_count": 10,
   "id": "54c0e234",
   "metadata": {},
   "outputs": [
    {
     "name": "stdout",
     "output_type": "stream",
     "text": [
      "Escribe el ticker/simbolo de la accion que quieres analizarAAPL\n"
     ]
    }
   ],
   "source": [
    "accion = input(\"Escribe el ticker/simbolo de la accion que quieres analizar\")"
   ]
  },
  {
   "cell_type": "code",
   "execution_count": 25,
   "id": "21595f81",
   "metadata": {},
   "outputs": [
    {
     "ename": "AttributeError",
     "evalue": "'list' object has no attribute 'upper'",
     "output_type": "error",
     "traceback": [
      "\u001b[1;31m---------------------------------------------------------------------------\u001b[0m",
      "\u001b[1;31mAttributeError\u001b[0m                            Traceback (most recent call last)",
      "\u001b[1;32m<ipython-input-25-7ad53317d13b>\u001b[0m in \u001b[0;36m<module>\u001b[1;34m\u001b[0m\n\u001b[1;32m----> 1\u001b[1;33m \u001b[0mdata_yf\u001b[0m \u001b[1;33m=\u001b[0m \u001b[0myf\u001b[0m\u001b[1;33m.\u001b[0m\u001b[0mTicker\u001b[0m\u001b[1;33m(\u001b[0m\u001b[0maccion\u001b[0m\u001b[1;33m)\u001b[0m\u001b[1;33m\u001b[0m\u001b[1;33m\u001b[0m\u001b[0m\n\u001b[0m",
      "\u001b[1;32m~\\anaconda3\\lib\\site-packages\\yfinance\\base.py\u001b[0m in \u001b[0;36m__init__\u001b[1;34m(self, ticker, session)\u001b[0m\n\u001b[0;32m     44\u001b[0m \u001b[1;32mclass\u001b[0m \u001b[0mTickerBase\u001b[0m\u001b[1;33m(\u001b[0m\u001b[1;33m)\u001b[0m\u001b[1;33m:\u001b[0m\u001b[1;33m\u001b[0m\u001b[1;33m\u001b[0m\u001b[0m\n\u001b[0;32m     45\u001b[0m     \u001b[1;32mdef\u001b[0m \u001b[0m__init__\u001b[0m\u001b[1;33m(\u001b[0m\u001b[0mself\u001b[0m\u001b[1;33m,\u001b[0m \u001b[0mticker\u001b[0m\u001b[1;33m,\u001b[0m \u001b[0msession\u001b[0m\u001b[1;33m=\u001b[0m\u001b[1;32mNone\u001b[0m\u001b[1;33m)\u001b[0m\u001b[1;33m:\u001b[0m\u001b[1;33m\u001b[0m\u001b[1;33m\u001b[0m\u001b[0m\n\u001b[1;32m---> 46\u001b[1;33m         \u001b[0mself\u001b[0m\u001b[1;33m.\u001b[0m\u001b[0mticker\u001b[0m \u001b[1;33m=\u001b[0m \u001b[0mticker\u001b[0m\u001b[1;33m.\u001b[0m\u001b[0mupper\u001b[0m\u001b[1;33m(\u001b[0m\u001b[1;33m)\u001b[0m\u001b[1;33m\u001b[0m\u001b[1;33m\u001b[0m\u001b[0m\n\u001b[0m\u001b[0;32m     47\u001b[0m         \u001b[0mself\u001b[0m\u001b[1;33m.\u001b[0m\u001b[0msession\u001b[0m \u001b[1;33m=\u001b[0m \u001b[0msession\u001b[0m \u001b[1;32mor\u001b[0m \u001b[0m_requests\u001b[0m\u001b[1;33m\u001b[0m\u001b[1;33m\u001b[0m\u001b[0m\n\u001b[0;32m     48\u001b[0m         \u001b[0mself\u001b[0m\u001b[1;33m.\u001b[0m\u001b[0m_history\u001b[0m \u001b[1;33m=\u001b[0m \u001b[1;32mNone\u001b[0m\u001b[1;33m\u001b[0m\u001b[1;33m\u001b[0m\u001b[0m\n",
      "\u001b[1;31mAttributeError\u001b[0m: 'list' object has no attribute 'upper'"
     ]
    }
   ],
   "source": [
    "data_yf = yf.Ticker(accion)"
   ]
  },
  {
   "cell_type": "code",
   "execution_count": 13,
   "id": "8d22a361",
   "metadata": {},
   "outputs": [
    {
     "data": {
      "text/plain": [
       "yfinance.Ticker object <AAPL>"
      ]
     },
     "execution_count": 13,
     "metadata": {},
     "output_type": "execute_result"
    }
   ],
   "source": [
    "data_yf"
   ]
  },
  {
   "cell_type": "code",
   "execution_count": 140,
   "id": "ba7ddd58",
   "metadata": {},
   "outputs": [
    {
     "data": {
      "text/plain": [
       "{'zip': '10017',\n",
       " 'sector': 'Healthcare',\n",
       " 'fullTimeEmployees': 78500,\n",
       " 'longBusinessSummary': 'Pfizer Inc. discovers, develops, manufactures, markets, distributes, and sells biopharmaceutical products worldwide. It offers medicines and vaccines in various therapeutic areas, including cardiovascular metabolic and pain under the Eliquis, Chantix/Champix, and Premarin family brands; biologics, small molecules, immunotherapies, and biosimilars under the Ibrance, Xtandi, Sutent, Inlyta, Retacrit, Lorbrena, and Braftovi brands; and sterile injectable and anti-infective medicines under the Sulperazon, Medrol, Zithromax, Vfend, and Panzyga brands. The company also provides medicines and vaccines in various therapeutic areas, such as pneumococcal disease, meningococcal disease, tick-borne encephalitis, and COVID-19 under the Prevnar 13/Prevenar 13 (pediatric/adult), Nimenrix, FSME/IMMUN-TicoVac, Trumenba, and the Pfizer-BioNTech COVID-19 vaccine brands; biosimilars for chronic immune and inflammatory diseases under the Xeljanz, Enbrel, Inflectra, and Eucrisa/Staquis brands; and amyloidosis, hemophilia, and endocrine diseases under the Vyndaqel/Vyndamax, BeneFIX, and Genotropin brands. In addition, the company is involved in the contract manufacturing business. It serves wholesalers, retailers, hospitals, clinics, government agencies, pharmacies, and individual provider offices, as well as disease control and prevention centers. The company has collaboration agreements with Bristol-Myers Squibb Company; Astellas Pharma US, Inc.; Myovant Sciences Ltd.; Akcea Therapeutics, Inc; Merck KGaA; Valneva SE; BioNTech SE; Arvinas, Inc.; and Syapse, Inc. Pfizer Inc. was founded in 1849 and is headquartered in New York, New York.',\n",
       " 'city': 'New York',\n",
       " 'phone': '212 733 2323',\n",
       " 'state': 'NY',\n",
       " 'country': 'United States',\n",
       " 'companyOfficers': [],\n",
       " 'website': 'http://www.pfizer.com',\n",
       " 'maxAge': 1,\n",
       " 'address1': '235 East 42nd Street',\n",
       " 'industry': 'Drug Manufacturers—General',\n",
       " 'ebitdaMargins': 0.36270002,\n",
       " 'profitMargins': 0.23798999,\n",
       " 'grossMargins': 0.7112,\n",
       " 'operatingCashflow': 23552000000,\n",
       " 'revenueGrowth': 0.924,\n",
       " 'operatingMargins': 0.2732,\n",
       " 'ebitda': 20137000960,\n",
       " 'targetLowPrice': 38,\n",
       " 'recommendationKey': 'hold',\n",
       " 'grossProfits': 33334000000,\n",
       " 'freeCashflow': 31606624256,\n",
       " 'targetMedianPrice': 44,\n",
       " 'currentPrice': 50.42,\n",
       " 'earningsGrowth': 0.59,\n",
       " 'currentRatio': 1.369,\n",
       " 'returnOnAssets': 0.0545,\n",
       " 'numberOfAnalystOpinions': 20,\n",
       " 'targetMeanPrice': 44.32,\n",
       " 'debtToEquity': 55.809,\n",
       " 'returnOnEquity': 0.18354,\n",
       " 'targetHighPrice': 53,\n",
       " 'totalCash': 21702000640,\n",
       " 'totalDebt': 39241998336,\n",
       " 'totalRevenue': 55520002048,\n",
       " 'totalCashPerShare': 3.871,\n",
       " 'financialCurrency': 'USD',\n",
       " 'revenuePerShare': 9.958,\n",
       " 'quickRatio': 1.011,\n",
       " 'recommendationMean': 2.6,\n",
       " 'exchange': 'NYQ',\n",
       " 'shortName': 'Pfizer, Inc.',\n",
       " 'longName': 'Pfizer Inc.',\n",
       " 'exchangeTimezoneName': 'America/New_York',\n",
       " 'exchangeTimezoneShortName': 'EDT',\n",
       " 'isEsgPopulated': False,\n",
       " 'gmtOffSetMilliseconds': '-14400000',\n",
       " 'quoteType': 'EQUITY',\n",
       " 'symbol': 'PFE',\n",
       " 'messageBoardId': 'finmb_162270',\n",
       " 'market': 'us_market',\n",
       " 'annualHoldingsTurnover': None,\n",
       " 'enterpriseToRevenue': 5.26,\n",
       " 'beta3Year': None,\n",
       " 'enterpriseToEbitda': 14.502,\n",
       " '52WeekChange': 0.34387743,\n",
       " 'morningStarRiskRating': None,\n",
       " 'forwardEps': 3.59,\n",
       " 'revenueQuarterlyGrowth': None,\n",
       " 'sharesOutstanding': 5606689792,\n",
       " 'fundInceptionDate': None,\n",
       " 'annualReportExpenseRatio': None,\n",
       " 'totalAssets': None,\n",
       " 'bookValue': 12.51,\n",
       " 'sharesShort': 54504661,\n",
       " 'sharesPercentSharesOut': 0.0097,\n",
       " 'fundFamily': None,\n",
       " 'lastFiscalYearEnd': 1609372800,\n",
       " 'heldPercentInstitutions': 0.67262,\n",
       " 'netIncomeToCommon': 12323999744,\n",
       " 'trailingEps': 2.342,\n",
       " 'lastDividendValue': None,\n",
       " 'SandP52WeekChange': 0.31953692,\n",
       " 'priceToBook': 4.0303755,\n",
       " 'heldPercentInsiders': 0.00039,\n",
       " 'nextFiscalYearEnd': 1672444800,\n",
       " 'yield': None,\n",
       " 'mostRecentQuarter': 1625356800,\n",
       " 'shortRatio': 2.19,\n",
       " 'sharesShortPreviousMonthDate': 1625011200,\n",
       " 'floatShares': 5600016397,\n",
       " 'beta': 0.67079,\n",
       " 'enterpriseValue': 292036116480,\n",
       " 'priceHint': 2,\n",
       " 'threeYearAverageReturn': None,\n",
       " 'lastSplitDate': None,\n",
       " 'lastSplitFactor': None,\n",
       " 'legalType': None,\n",
       " 'lastDividendDate': None,\n",
       " 'morningStarOverallRating': None,\n",
       " 'earningsQuarterlyGrowth': 0.594,\n",
       " 'priceToSalesTrailing12Months': 5.0916653,\n",
       " 'dateShortInterest': 1627603200,\n",
       " 'pegRatio': 0.94,\n",
       " 'ytdReturn': None,\n",
       " 'forwardPE': 14.044568,\n",
       " 'lastCapGain': None,\n",
       " 'shortPercentOfFloat': 0.0097,\n",
       " 'sharesShortPriorMonth': 63146117,\n",
       " 'impliedSharesOutstanding': None,\n",
       " 'category': None,\n",
       " 'fiveYearAverageReturn': None,\n",
       " 'previousClose': 48.91,\n",
       " 'regularMarketOpen': 48.78,\n",
       " 'twoHundredDayAverage': 38.532463,\n",
       " 'trailingAnnualDividendYield': 0.031486403,\n",
       " 'payoutRatio': 0.7064,\n",
       " 'volume24Hr': None,\n",
       " 'regularMarketDayHigh': 50.49,\n",
       " 'navPrice': None,\n",
       " 'averageDailyVolume10Day': 44584216,\n",
       " 'regularMarketPreviousClose': 48.91,\n",
       " 'fiftyDayAverage': 42.353428,\n",
       " 'trailingAnnualDividendRate': 1.54,\n",
       " 'open': 48.78,\n",
       " 'toCurrency': None,\n",
       " 'averageVolume10days': 44584216,\n",
       " 'expireDate': None,\n",
       " 'algorithm': None,\n",
       " 'dividendRate': 1.56,\n",
       " 'exDividendDate': 1627516800,\n",
       " 'circulatingSupply': None,\n",
       " 'startDate': None,\n",
       " 'regularMarketDayLow': 48.71,\n",
       " 'currency': 'USD',\n",
       " 'trailingPE': 21.528606,\n",
       " 'regularMarketVolume': 68816994,\n",
       " 'lastMarket': None,\n",
       " 'maxSupply': None,\n",
       " 'openInterest': None,\n",
       " 'marketCap': 282689273856,\n",
       " 'volumeAllCurrencies': None,\n",
       " 'strikePrice': None,\n",
       " 'averageVolume': 26157243,\n",
       " 'dayLow': 48.71,\n",
       " 'ask': 50.32,\n",
       " 'askSize': 1200,\n",
       " 'volume': 68816994,\n",
       " 'fiftyTwoWeekHigh': 50.49,\n",
       " 'fromCurrency': None,\n",
       " 'fiveYearAvgDividendYield': 3.7,\n",
       " 'fiftyTwoWeekLow': 32.827324,\n",
       " 'bid': 50.35,\n",
       " 'tradeable': False,\n",
       " 'dividendYield': 0.0319,\n",
       " 'bidSize': 800,\n",
       " 'dayHigh': 50.49,\n",
       " 'regularMarketPrice': 50.42,\n",
       " 'logo_url': 'https://logo.clearbit.com/pfizer.com'}"
      ]
     },
     "execution_count": 140,
     "metadata": {},
     "output_type": "execute_result"
    }
   ],
   "source": [
    "data_yf.info"
   ]
  },
  {
   "cell_type": "code",
   "execution_count": 14,
   "id": "f653eed6",
   "metadata": {},
   "outputs": [],
   "source": [
    "data_accion=data_yf.info"
   ]
  },
  {
   "cell_type": "code",
   "execution_count": 16,
   "id": "095e0c18",
   "metadata": {},
   "outputs": [
    {
     "data": {
      "text/plain": [
       "{'zip': '95014',\n",
       " 'sector': 'Technology',\n",
       " 'fullTimeEmployees': 147000,\n",
       " 'longBusinessSummary': 'Apple Inc. designs, manufactures, and markets smartphones, personal computers, tablets, wearables, and accessories worldwide. It also sells various related services. The company offers iPhone, a line of smartphones; Mac, a line of personal computers; iPad, a line of multi-purpose tablets; and wearables, home, and accessories comprising AirPods, Apple TV, Apple Watch, Beats products, HomePod, iPod touch, and other Apple-branded and third-party accessories. It also provides AppleCare support services; cloud services store services; and operates various platforms, including the App Store, that allow customers to discover and download applications and digital content, such as books, music, video, games, and podcasts. In addition, the company offers various services, such as Apple Arcade, a game subscription service; Apple Music, which offers users a curated listening experience with on-demand radio stations; Apple News+, a subscription news and magazine service; Apple TV+, which offers exclusive original content; Apple Card, a co-branded credit card; and Apple Pay, a cashless payment service, as well as licenses its intellectual property. The company serves consumers, and small and mid-sized businesses; and the education, enterprise, and government markets. It sells and delivers third-party applications for its products through the App Store. The company also sells its products through its retail and online stores, and direct sales force; and third-party cellular network carriers, wholesalers, retailers, and resellers. Apple Inc. was founded in 1977 and is headquartered in Cupertino, California.',\n",
       " 'city': 'Cupertino',\n",
       " 'phone': '408-996-1010',\n",
       " 'state': 'CA',\n",
       " 'country': 'United States',\n",
       " 'companyOfficers': [],\n",
       " 'website': 'http://www.apple.com',\n",
       " 'maxAge': 1,\n",
       " 'address1': 'One Apple Park Way',\n",
       " 'industry': 'Consumer Electronics',\n",
       " 'ebitdaMargins': 0.31955,\n",
       " 'profitMargins': 0.25004,\n",
       " 'grossMargins': 0.41005,\n",
       " 'operatingCashflow': 104414003200,\n",
       " 'revenueGrowth': 0.364,\n",
       " 'operatingMargins': 0.28788,\n",
       " 'ebitda': 110934999040,\n",
       " 'targetLowPrice': 132,\n",
       " 'recommendationKey': 'buy',\n",
       " 'grossProfits': 104956000000,\n",
       " 'freeCashflow': 80625876992,\n",
       " 'targetMedianPrice': 168,\n",
       " 'currentPrice': 146.7,\n",
       " 'earningsGrowth': 1,\n",
       " 'currentRatio': 1.062,\n",
       " 'returnOnAssets': 0.19302,\n",
       " 'numberOfAnalystOpinions': 41,\n",
       " 'targetMeanPrice': 165.87,\n",
       " 'debtToEquity': 210.782,\n",
       " 'returnOnEquity': 1.27125,\n",
       " 'targetHighPrice': 190,\n",
       " 'totalCash': 61696000000,\n",
       " 'totalDebt': 135491002368,\n",
       " 'totalRevenue': 347155005440,\n",
       " 'totalCashPerShare': 3.732,\n",
       " 'financialCurrency': 'USD',\n",
       " 'revenuePerShare': 20.61,\n",
       " 'quickRatio': 0.887,\n",
       " 'recommendationMean': 2,\n",
       " 'exchange': 'NMS',\n",
       " 'shortName': 'Apple Inc.',\n",
       " 'longName': 'Apple Inc.',\n",
       " 'exchangeTimezoneName': 'America/New_York',\n",
       " 'exchangeTimezoneShortName': 'EDT',\n",
       " 'isEsgPopulated': False,\n",
       " 'gmtOffSetMilliseconds': '-14400000',\n",
       " 'quoteType': 'EQUITY',\n",
       " 'symbol': 'AAPL',\n",
       " 'messageBoardId': 'finmb_24937',\n",
       " 'market': 'us_market',\n",
       " 'annualHoldingsTurnover': None,\n",
       " 'enterpriseToRevenue': 7.182,\n",
       " 'beta3Year': None,\n",
       " 'enterpriseToEbitda': 22.474,\n",
       " '52WeekChange': 0.23745513,\n",
       " 'morningStarRiskRating': None,\n",
       " 'forwardEps': 5.67,\n",
       " 'revenueQuarterlyGrowth': None,\n",
       " 'sharesOutstanding': 16530199552,\n",
       " 'fundInceptionDate': None,\n",
       " 'annualReportExpenseRatio': None,\n",
       " 'totalAssets': None,\n",
       " 'bookValue': 3.882,\n",
       " 'sharesShort': 93114834,\n",
       " 'sharesPercentSharesOut': 0.0056,\n",
       " 'fundFamily': None,\n",
       " 'lastFiscalYearEnd': 1601078400,\n",
       " 'heldPercentInstitutions': 0.58448005,\n",
       " 'netIncomeToCommon': 86801997824,\n",
       " 'trailingEps': 5.108,\n",
       " 'lastDividendValue': None,\n",
       " 'SandP52WeekChange': 0.29973626,\n",
       " 'priceToBook': 37.7898,\n",
       " 'heldPercentInsiders': 0.00071000005,\n",
       " 'nextFiscalYearEnd': 1664150400,\n",
       " 'yield': None,\n",
       " 'mostRecentQuarter': 1624665600,\n",
       " 'shortRatio': 1.03,\n",
       " 'sharesShortPreviousMonthDate': 1625011200,\n",
       " 'floatShares': 16508015578,\n",
       " 'beta': 1.202797,\n",
       " 'enterpriseValue': 2493150134272,\n",
       " 'priceHint': 2,\n",
       " 'threeYearAverageReturn': None,\n",
       " 'lastSplitDate': None,\n",
       " 'lastSplitFactor': None,\n",
       " 'legalType': None,\n",
       " 'lastDividendDate': None,\n",
       " 'morningStarOverallRating': None,\n",
       " 'earningsQuarterlyGrowth': 0.932,\n",
       " 'priceToSalesTrailing12Months': 6.985295,\n",
       " 'dateShortInterest': 1627603200,\n",
       " 'pegRatio': 1.34,\n",
       " 'ytdReturn': None,\n",
       " 'forwardPE': 25.873014,\n",
       " 'lastCapGain': None,\n",
       " 'shortPercentOfFloat': 0.0056,\n",
       " 'sharesShortPriorMonth': 90213531,\n",
       " 'impliedSharesOutstanding': None,\n",
       " 'category': None,\n",
       " 'fiveYearAverageReturn': None,\n",
       " 'previousClose': 146.36,\n",
       " 'regularMarketOpen': 145.03,\n",
       " 'twoHundredDayAverage': 132.58382,\n",
       " 'trailingAnnualDividendYield': 0.0057051107,\n",
       " 'payoutRatio': 0.16309999,\n",
       " 'volume24Hr': None,\n",
       " 'regularMarketDayHigh': 148,\n",
       " 'navPrice': None,\n",
       " 'averageDailyVolume10Day': 72283475,\n",
       " 'regularMarketPreviousClose': 146.36,\n",
       " 'fiftyDayAverage': 145.74657,\n",
       " 'trailingAnnualDividendRate': 0.835,\n",
       " 'open': 145.03,\n",
       " 'toCurrency': None,\n",
       " 'averageVolume10days': 72283475,\n",
       " 'expireDate': None,\n",
       " 'algorithm': None,\n",
       " 'dividendRate': 0.88,\n",
       " 'exDividendDate': 1628208000,\n",
       " 'circulatingSupply': None,\n",
       " 'startDate': None,\n",
       " 'regularMarketDayLow': 144.52,\n",
       " 'currency': 'USD',\n",
       " 'trailingPE': 28.719656,\n",
       " 'regularMarketVolume': 81030081,\n",
       " 'lastMarket': None,\n",
       " 'maxSupply': None,\n",
       " 'openInterest': None,\n",
       " 'marketCap': 2424980111360,\n",
       " 'volumeAllCurrencies': None,\n",
       " 'strikePrice': None,\n",
       " 'averageVolume': 78042403,\n",
       " 'dayLow': 144.52,\n",
       " 'ask': 146.63,\n",
       " 'askSize': 1000,\n",
       " 'volume': 81030081,\n",
       " 'fiftyTwoWeekHigh': 151.68,\n",
       " 'fromCurrency': None,\n",
       " 'fiveYearAvgDividendYield': 1.29,\n",
       " 'fiftyTwoWeekLow': 103.1,\n",
       " 'bid': 146.7,\n",
       " 'tradeable': False,\n",
       " 'dividendYield': 0.006,\n",
       " 'bidSize': 1100,\n",
       " 'dayHigh': 148,\n",
       " 'regularMarketPrice': 146.7,\n",
       " 'logo_url': 'https://logo.clearbit.com/apple.com'}"
      ]
     },
     "execution_count": 16,
     "metadata": {},
     "output_type": "execute_result"
    }
   ],
   "source": [
    "data_accion"
   ]
  },
  {
   "cell_type": "code",
   "execution_count": 18,
   "id": "4d233d37",
   "metadata": {},
   "outputs": [
    {
     "name": "stdout",
     "output_type": "stream",
     "text": [
      "La Beta de la accion AAPL es 1.202797\n"
     ]
    }
   ],
   "source": [
    "data_accion['ebitda']\n",
    "data_accion['bookValue']\n",
    "\n",
    "print(f\"La Beta de la accion {accion} es {data_accion['beta']}\")"
   ]
  },
  {
   "cell_type": "code",
   "execution_count": 143,
   "id": "f50a939d",
   "metadata": {},
   "outputs": [
    {
     "data": {
      "text/plain": [
       "Date\n",
       "1972-08-29    0.003163\n",
       "1972-11-28    0.004151\n",
       "1973-02-28    0.003163\n",
       "1973-05-30    0.003163\n",
       "1973-08-28    0.003163\n",
       "                ...   \n",
       "2020-07-30    0.360531\n",
       "2020-11-05    0.360531\n",
       "2021-01-28    0.390000\n",
       "2021-05-06    0.390000\n",
       "2021-07-29    0.390000\n",
       "Name: Dividends, Length: 197, dtype: float64"
      ]
     },
     "execution_count": 143,
     "metadata": {},
     "output_type": "execute_result"
    }
   ],
   "source": [
    "data_yf.dividends"
   ]
  },
  {
   "cell_type": "code",
   "execution_count": 146,
   "id": "756438df",
   "metadata": {},
   "outputs": [
    {
     "data": {
      "text/html": [
       "<div>\n",
       "<style scoped>\n",
       "    .dataframe tbody tr th:only-of-type {\n",
       "        vertical-align: middle;\n",
       "    }\n",
       "\n",
       "    .dataframe tbody tr th {\n",
       "        vertical-align: top;\n",
       "    }\n",
       "\n",
       "    .dataframe thead th {\n",
       "        text-align: right;\n",
       "    }\n",
       "</style>\n",
       "<table border=\"1\" class=\"dataframe\">\n",
       "  <thead>\n",
       "    <tr style=\"text-align: right;\">\n",
       "      <th></th>\n",
       "      <th>2021-07-04</th>\n",
       "      <th>2021-04-04</th>\n",
       "      <th>2020-12-31</th>\n",
       "      <th>2020-09-27</th>\n",
       "    </tr>\n",
       "  </thead>\n",
       "  <tbody>\n",
       "    <tr>\n",
       "      <th>Research Development</th>\n",
       "      <td>2271000000.0</td>\n",
       "      <td>2011000000.0</td>\n",
       "      <td>2828000000.0</td>\n",
       "      <td>2352000000.0</td>\n",
       "    </tr>\n",
       "    <tr>\n",
       "      <th>Effect Of Accounting Charges</th>\n",
       "      <td>None</td>\n",
       "      <td>None</td>\n",
       "      <td>None</td>\n",
       "      <td>None</td>\n",
       "    </tr>\n",
       "    <tr>\n",
       "      <th>Income Before Tax</th>\n",
       "      <td>6608000000.0</td>\n",
       "      <td>5682000000.0</td>\n",
       "      <td>178000000.0</td>\n",
       "      <td>2176000000.0</td>\n",
       "    </tr>\n",
       "    <tr>\n",
       "      <th>Minority Interest</th>\n",
       "      <td>NaN</td>\n",
       "      <td>245000000.0</td>\n",
       "      <td>235000000.0</td>\n",
       "      <td>236000000.0</td>\n",
       "    </tr>\n",
       "    <tr>\n",
       "      <th>Net Income</th>\n",
       "      <td>5563000000.0</td>\n",
       "      <td>4877000000.0</td>\n",
       "      <td>594000000.0</td>\n",
       "      <td>2194000000.0</td>\n",
       "    </tr>\n",
       "    <tr>\n",
       "      <th>Selling General Administrative</th>\n",
       "      <td>2556000000.0</td>\n",
       "      <td>2385000000.0</td>\n",
       "      <td>3481000000.0</td>\n",
       "      <td>2923000000.0</td>\n",
       "    </tr>\n",
       "    <tr>\n",
       "      <th>Gross Profit</th>\n",
       "      <td>11985000000.0</td>\n",
       "      <td>10410000000.0</td>\n",
       "      <td>8797000000.0</td>\n",
       "      <td>9634000000.0</td>\n",
       "    </tr>\n",
       "    <tr>\n",
       "      <th>Ebit</th>\n",
       "      <td>6227000000.0</td>\n",
       "      <td>5142000000.0</td>\n",
       "      <td>1632000000.0</td>\n",
       "      <td>3461000000.0</td>\n",
       "    </tr>\n",
       "    <tr>\n",
       "      <th>Operating Income</th>\n",
       "      <td>6227000000.0</td>\n",
       "      <td>5142000000.0</td>\n",
       "      <td>1632000000.0</td>\n",
       "      <td>3461000000.0</td>\n",
       "    </tr>\n",
       "    <tr>\n",
       "      <th>Other Operating Expenses</th>\n",
       "      <td>None</td>\n",
       "      <td>None</td>\n",
       "      <td>None</td>\n",
       "      <td>None</td>\n",
       "    </tr>\n",
       "    <tr>\n",
       "      <th>Interest Expense</th>\n",
       "      <td>-316000000.0</td>\n",
       "      <td>-336000000.0</td>\n",
       "      <td>-347000000.0</td>\n",
       "      <td>-416000000.0</td>\n",
       "    </tr>\n",
       "    <tr>\n",
       "      <th>Extraordinary Items</th>\n",
       "      <td>None</td>\n",
       "      <td>None</td>\n",
       "      <td>None</td>\n",
       "      <td>None</td>\n",
       "    </tr>\n",
       "    <tr>\n",
       "      <th>Non Recurring</th>\n",
       "      <td>None</td>\n",
       "      <td>None</td>\n",
       "      <td>None</td>\n",
       "      <td>None</td>\n",
       "    </tr>\n",
       "    <tr>\n",
       "      <th>Other Items</th>\n",
       "      <td>None</td>\n",
       "      <td>None</td>\n",
       "      <td>None</td>\n",
       "      <td>None</td>\n",
       "    </tr>\n",
       "    <tr>\n",
       "      <th>Income Tax Expense</th>\n",
       "      <td>1043000000.0</td>\n",
       "      <td>805000000.0</td>\n",
       "      <td>-170000000.0</td>\n",
       "      <td>-26000000.0</td>\n",
       "    </tr>\n",
       "    <tr>\n",
       "      <th>Total Revenue</th>\n",
       "      <td>18977000000.0</td>\n",
       "      <td>14582000000.0</td>\n",
       "      <td>11684000000.0</td>\n",
       "      <td>12131000000.0</td>\n",
       "    </tr>\n",
       "    <tr>\n",
       "      <th>Total Operating Expenses</th>\n",
       "      <td>12750000000.0</td>\n",
       "      <td>9440000000.0</td>\n",
       "      <td>10052000000.0</td>\n",
       "      <td>8670000000.0</td>\n",
       "    </tr>\n",
       "    <tr>\n",
       "      <th>Cost Of Revenue</th>\n",
       "      <td>6992000000.0</td>\n",
       "      <td>4172000000.0</td>\n",
       "      <td>2887000000.0</td>\n",
       "      <td>2497000000.0</td>\n",
       "    </tr>\n",
       "    <tr>\n",
       "      <th>Total Other Income Expense Net</th>\n",
       "      <td>381000000.0</td>\n",
       "      <td>540000000.0</td>\n",
       "      <td>-1454000000.0</td>\n",
       "      <td>-1285000000.0</td>\n",
       "    </tr>\n",
       "    <tr>\n",
       "      <th>Discontinued Operations</th>\n",
       "      <td>24000000.0</td>\n",
       "      <td>9000000.0</td>\n",
       "      <td>257000000.0</td>\n",
       "      <td>257000000.0</td>\n",
       "    </tr>\n",
       "    <tr>\n",
       "      <th>Net Income From Continuing Ops</th>\n",
       "      <td>5565000000.0</td>\n",
       "      <td>4877000000.0</td>\n",
       "      <td>348000000.0</td>\n",
       "      <td>2202000000.0</td>\n",
       "    </tr>\n",
       "    <tr>\n",
       "      <th>Net Income Applicable To Common Shares</th>\n",
       "      <td>5563000000.0</td>\n",
       "      <td>4877000000.0</td>\n",
       "      <td>594000000.0</td>\n",
       "      <td>2194000000.0</td>\n",
       "    </tr>\n",
       "  </tbody>\n",
       "</table>\n",
       "</div>"
      ],
      "text/plain": [
       "                                           2021-07-04     2021-04-04  \\\n",
       "Research Development                     2271000000.0   2011000000.0   \n",
       "Effect Of Accounting Charges                     None           None   \n",
       "Income Before Tax                        6608000000.0   5682000000.0   \n",
       "Minority Interest                                 NaN    245000000.0   \n",
       "Net Income                               5563000000.0   4877000000.0   \n",
       "Selling General Administrative           2556000000.0   2385000000.0   \n",
       "Gross Profit                            11985000000.0  10410000000.0   \n",
       "Ebit                                     6227000000.0   5142000000.0   \n",
       "Operating Income                         6227000000.0   5142000000.0   \n",
       "Other Operating Expenses                         None           None   \n",
       "Interest Expense                         -316000000.0   -336000000.0   \n",
       "Extraordinary Items                              None           None   \n",
       "Non Recurring                                    None           None   \n",
       "Other Items                                      None           None   \n",
       "Income Tax Expense                       1043000000.0    805000000.0   \n",
       "Total Revenue                           18977000000.0  14582000000.0   \n",
       "Total Operating Expenses                12750000000.0   9440000000.0   \n",
       "Cost Of Revenue                          6992000000.0   4172000000.0   \n",
       "Total Other Income Expense Net            381000000.0    540000000.0   \n",
       "Discontinued Operations                    24000000.0      9000000.0   \n",
       "Net Income From Continuing Ops           5565000000.0   4877000000.0   \n",
       "Net Income Applicable To Common Shares   5563000000.0   4877000000.0   \n",
       "\n",
       "                                           2020-12-31     2020-09-27  \n",
       "Research Development                     2828000000.0   2352000000.0  \n",
       "Effect Of Accounting Charges                     None           None  \n",
       "Income Before Tax                         178000000.0   2176000000.0  \n",
       "Minority Interest                         235000000.0    236000000.0  \n",
       "Net Income                                594000000.0   2194000000.0  \n",
       "Selling General Administrative           3481000000.0   2923000000.0  \n",
       "Gross Profit                             8797000000.0   9634000000.0  \n",
       "Ebit                                     1632000000.0   3461000000.0  \n",
       "Operating Income                         1632000000.0   3461000000.0  \n",
       "Other Operating Expenses                         None           None  \n",
       "Interest Expense                         -347000000.0   -416000000.0  \n",
       "Extraordinary Items                              None           None  \n",
       "Non Recurring                                    None           None  \n",
       "Other Items                                      None           None  \n",
       "Income Tax Expense                       -170000000.0    -26000000.0  \n",
       "Total Revenue                           11684000000.0  12131000000.0  \n",
       "Total Operating Expenses                10052000000.0   8670000000.0  \n",
       "Cost Of Revenue                          2887000000.0   2497000000.0  \n",
       "Total Other Income Expense Net          -1454000000.0  -1285000000.0  \n",
       "Discontinued Operations                   257000000.0    257000000.0  \n",
       "Net Income From Continuing Ops            348000000.0   2202000000.0  \n",
       "Net Income Applicable To Common Shares    594000000.0   2194000000.0  "
      ]
     },
     "execution_count": 146,
     "metadata": {},
     "output_type": "execute_result"
    }
   ],
   "source": [
    "data_yf.quarterly_financials"
   ]
  },
  {
   "cell_type": "code",
   "execution_count": 19,
   "id": "3f10c916",
   "metadata": {},
   "outputs": [
    {
     "data": {
      "text/html": [
       "<div>\n",
       "<style scoped>\n",
       "    .dataframe tbody tr th:only-of-type {\n",
       "        vertical-align: middle;\n",
       "    }\n",
       "\n",
       "    .dataframe tbody tr th {\n",
       "        vertical-align: top;\n",
       "    }\n",
       "\n",
       "    .dataframe thead th {\n",
       "        text-align: right;\n",
       "    }\n",
       "</style>\n",
       "<table border=\"1\" class=\"dataframe\">\n",
       "  <thead>\n",
       "    <tr style=\"text-align: right;\">\n",
       "      <th></th>\n",
       "      <th>Dividends</th>\n",
       "      <th>Stock Splits</th>\n",
       "    </tr>\n",
       "    <tr>\n",
       "      <th>Date</th>\n",
       "      <th></th>\n",
       "      <th></th>\n",
       "    </tr>\n",
       "  </thead>\n",
       "  <tbody>\n",
       "    <tr>\n",
       "      <th>1987-05-11</th>\n",
       "      <td>0.000536</td>\n",
       "      <td>0.0</td>\n",
       "    </tr>\n",
       "    <tr>\n",
       "      <th>1987-06-16</th>\n",
       "      <td>0.000000</td>\n",
       "      <td>2.0</td>\n",
       "    </tr>\n",
       "    <tr>\n",
       "      <th>1987-08-10</th>\n",
       "      <td>0.000536</td>\n",
       "      <td>0.0</td>\n",
       "    </tr>\n",
       "    <tr>\n",
       "      <th>1987-11-17</th>\n",
       "      <td>0.000714</td>\n",
       "      <td>0.0</td>\n",
       "    </tr>\n",
       "    <tr>\n",
       "      <th>1988-02-12</th>\n",
       "      <td>0.000714</td>\n",
       "      <td>0.0</td>\n",
       "    </tr>\n",
       "    <tr>\n",
       "      <th>...</th>\n",
       "      <td>...</td>\n",
       "      <td>...</td>\n",
       "    </tr>\n",
       "    <tr>\n",
       "      <th>2020-08-31</th>\n",
       "      <td>0.000000</td>\n",
       "      <td>4.0</td>\n",
       "    </tr>\n",
       "    <tr>\n",
       "      <th>2020-11-06</th>\n",
       "      <td>0.205000</td>\n",
       "      <td>0.0</td>\n",
       "    </tr>\n",
       "    <tr>\n",
       "      <th>2021-02-05</th>\n",
       "      <td>0.205000</td>\n",
       "      <td>0.0</td>\n",
       "    </tr>\n",
       "    <tr>\n",
       "      <th>2021-05-07</th>\n",
       "      <td>0.220000</td>\n",
       "      <td>0.0</td>\n",
       "    </tr>\n",
       "    <tr>\n",
       "      <th>2021-08-06</th>\n",
       "      <td>0.220000</td>\n",
       "      <td>0.0</td>\n",
       "    </tr>\n",
       "  </tbody>\n",
       "</table>\n",
       "<p>77 rows × 2 columns</p>\n",
       "</div>"
      ],
      "text/plain": [
       "            Dividends  Stock Splits\n",
       "Date                               \n",
       "1987-05-11   0.000536           0.0\n",
       "1987-06-16   0.000000           2.0\n",
       "1987-08-10   0.000536           0.0\n",
       "1987-11-17   0.000714           0.0\n",
       "1988-02-12   0.000714           0.0\n",
       "...               ...           ...\n",
       "2020-08-31   0.000000           4.0\n",
       "2020-11-06   0.205000           0.0\n",
       "2021-02-05   0.205000           0.0\n",
       "2021-05-07   0.220000           0.0\n",
       "2021-08-06   0.220000           0.0\n",
       "\n",
       "[77 rows x 2 columns]"
      ]
     },
     "execution_count": 19,
     "metadata": {},
     "output_type": "execute_result"
    }
   ],
   "source": [
    "data_yf.actions"
   ]
  },
  {
   "cell_type": "code",
   "execution_count": 20,
   "id": "53d56cf9",
   "metadata": {},
   "outputs": [
    {
     "data": {
      "text/html": [
       "<div>\n",
       "<style scoped>\n",
       "    .dataframe tbody tr th:only-of-type {\n",
       "        vertical-align: middle;\n",
       "    }\n",
       "\n",
       "    .dataframe tbody tr th {\n",
       "        vertical-align: top;\n",
       "    }\n",
       "\n",
       "    .dataframe thead th {\n",
       "        text-align: right;\n",
       "    }\n",
       "</style>\n",
       "<table border=\"1\" class=\"dataframe\">\n",
       "  <thead>\n",
       "    <tr style=\"text-align: right;\">\n",
       "      <th></th>\n",
       "      <th>Value</th>\n",
       "    </tr>\n",
       "    <tr>\n",
       "      <th>2021-5</th>\n",
       "      <th></th>\n",
       "    </tr>\n",
       "  </thead>\n",
       "  <tbody>\n",
       "    <tr>\n",
       "      <th>palmOil</th>\n",
       "      <td>False</td>\n",
       "    </tr>\n",
       "    <tr>\n",
       "      <th>controversialWeapons</th>\n",
       "      <td>False</td>\n",
       "    </tr>\n",
       "    <tr>\n",
       "      <th>gambling</th>\n",
       "      <td>False</td>\n",
       "    </tr>\n",
       "    <tr>\n",
       "      <th>socialScore</th>\n",
       "      <td>7.69</td>\n",
       "    </tr>\n",
       "    <tr>\n",
       "      <th>nuclear</th>\n",
       "      <td>False</td>\n",
       "    </tr>\n",
       "    <tr>\n",
       "      <th>furLeather</th>\n",
       "      <td>False</td>\n",
       "    </tr>\n",
       "    <tr>\n",
       "      <th>alcoholic</th>\n",
       "      <td>False</td>\n",
       "    </tr>\n",
       "    <tr>\n",
       "      <th>gmo</th>\n",
       "      <td>False</td>\n",
       "    </tr>\n",
       "    <tr>\n",
       "      <th>catholic</th>\n",
       "      <td>False</td>\n",
       "    </tr>\n",
       "    <tr>\n",
       "      <th>socialPercentile</th>\n",
       "      <td>None</td>\n",
       "    </tr>\n",
       "    <tr>\n",
       "      <th>peerCount</th>\n",
       "      <td>55</td>\n",
       "    </tr>\n",
       "    <tr>\n",
       "      <th>governanceScore</th>\n",
       "      <td>8.94</td>\n",
       "    </tr>\n",
       "    <tr>\n",
       "      <th>environmentPercentile</th>\n",
       "      <td>None</td>\n",
       "    </tr>\n",
       "    <tr>\n",
       "      <th>animalTesting</th>\n",
       "      <td>False</td>\n",
       "    </tr>\n",
       "    <tr>\n",
       "      <th>tobacco</th>\n",
       "      <td>False</td>\n",
       "    </tr>\n",
       "    <tr>\n",
       "      <th>totalEsg</th>\n",
       "      <td>16.92</td>\n",
       "    </tr>\n",
       "    <tr>\n",
       "      <th>highestControversy</th>\n",
       "      <td>3</td>\n",
       "    </tr>\n",
       "    <tr>\n",
       "      <th>esgPerformance</th>\n",
       "      <td>UNDER_PERF</td>\n",
       "    </tr>\n",
       "    <tr>\n",
       "      <th>coal</th>\n",
       "      <td>False</td>\n",
       "    </tr>\n",
       "    <tr>\n",
       "      <th>pesticides</th>\n",
       "      <td>False</td>\n",
       "    </tr>\n",
       "    <tr>\n",
       "      <th>adult</th>\n",
       "      <td>False</td>\n",
       "    </tr>\n",
       "    <tr>\n",
       "      <th>percentile</th>\n",
       "      <td>12.58</td>\n",
       "    </tr>\n",
       "    <tr>\n",
       "      <th>peerGroup</th>\n",
       "      <td>Technology Hardware</td>\n",
       "    </tr>\n",
       "    <tr>\n",
       "      <th>smallArms</th>\n",
       "      <td>False</td>\n",
       "    </tr>\n",
       "    <tr>\n",
       "      <th>environmentScore</th>\n",
       "      <td>0.29</td>\n",
       "    </tr>\n",
       "    <tr>\n",
       "      <th>governancePercentile</th>\n",
       "      <td>None</td>\n",
       "    </tr>\n",
       "    <tr>\n",
       "      <th>militaryContract</th>\n",
       "      <td>False</td>\n",
       "    </tr>\n",
       "  </tbody>\n",
       "</table>\n",
       "</div>"
      ],
      "text/plain": [
       "                                     Value\n",
       "2021-5                                    \n",
       "palmOil                              False\n",
       "controversialWeapons                 False\n",
       "gambling                             False\n",
       "socialScore                           7.69\n",
       "nuclear                              False\n",
       "furLeather                           False\n",
       "alcoholic                            False\n",
       "gmo                                  False\n",
       "catholic                             False\n",
       "socialPercentile                      None\n",
       "peerCount                               55\n",
       "governanceScore                       8.94\n",
       "environmentPercentile                 None\n",
       "animalTesting                        False\n",
       "tobacco                              False\n",
       "totalEsg                             16.92\n",
       "highestControversy                       3\n",
       "esgPerformance                  UNDER_PERF\n",
       "coal                                 False\n",
       "pesticides                           False\n",
       "adult                                False\n",
       "percentile                           12.58\n",
       "peerGroup              Technology Hardware\n",
       "smallArms                            False\n",
       "environmentScore                      0.29\n",
       "governancePercentile                  None\n",
       "militaryContract                     False"
      ]
     },
     "execution_count": 20,
     "metadata": {},
     "output_type": "execute_result"
    }
   ],
   "source": [
    "data_yf.sustainability"
   ]
  },
  {
   "cell_type": "code",
   "execution_count": 21,
   "id": "9d826d07",
   "metadata": {},
   "outputs": [
    {
     "data": {
      "text/html": [
       "<div>\n",
       "<style scoped>\n",
       "    .dataframe tbody tr th:only-of-type {\n",
       "        vertical-align: middle;\n",
       "    }\n",
       "\n",
       "    .dataframe tbody tr th {\n",
       "        vertical-align: top;\n",
       "    }\n",
       "\n",
       "    .dataframe thead th {\n",
       "        text-align: right;\n",
       "    }\n",
       "</style>\n",
       "<table border=\"1\" class=\"dataframe\">\n",
       "  <thead>\n",
       "    <tr style=\"text-align: right;\">\n",
       "      <th></th>\n",
       "      <th>Firm</th>\n",
       "      <th>To Grade</th>\n",
       "      <th>From Grade</th>\n",
       "      <th>Action</th>\n",
       "    </tr>\n",
       "    <tr>\n",
       "      <th>Date</th>\n",
       "      <th></th>\n",
       "      <th></th>\n",
       "      <th></th>\n",
       "      <th></th>\n",
       "    </tr>\n",
       "  </thead>\n",
       "  <tbody>\n",
       "    <tr>\n",
       "      <th>2012-02-09 08:17:00</th>\n",
       "      <td>Canaccord Genuity</td>\n",
       "      <td>Buy</td>\n",
       "      <td></td>\n",
       "      <td>main</td>\n",
       "    </tr>\n",
       "    <tr>\n",
       "      <th>2012-03-08 07:33:00</th>\n",
       "      <td>FBN Securities</td>\n",
       "      <td>Outperform</td>\n",
       "      <td></td>\n",
       "      <td>main</td>\n",
       "    </tr>\n",
       "    <tr>\n",
       "      <th>2012-03-13 06:08:00</th>\n",
       "      <td>Jefferies</td>\n",
       "      <td>Buy</td>\n",
       "      <td></td>\n",
       "      <td>main</td>\n",
       "    </tr>\n",
       "    <tr>\n",
       "      <th>2012-03-14 06:13:00</th>\n",
       "      <td>Morgan Stanley</td>\n",
       "      <td>Overweight</td>\n",
       "      <td></td>\n",
       "      <td>main</td>\n",
       "    </tr>\n",
       "    <tr>\n",
       "      <th>2012-03-14 08:21:00</th>\n",
       "      <td>Canaccord Genuity</td>\n",
       "      <td>Buy</td>\n",
       "      <td></td>\n",
       "      <td>main</td>\n",
       "    </tr>\n",
       "    <tr>\n",
       "      <th>...</th>\n",
       "      <td>...</td>\n",
       "      <td>...</td>\n",
       "      <td>...</td>\n",
       "      <td>...</td>\n",
       "    </tr>\n",
       "    <tr>\n",
       "      <th>2021-07-28 12:30:58</th>\n",
       "      <td>Wells Fargo</td>\n",
       "      <td>Overweight</td>\n",
       "      <td></td>\n",
       "      <td>main</td>\n",
       "    </tr>\n",
       "    <tr>\n",
       "      <th>2021-07-28 13:19:21</th>\n",
       "      <td>Canaccord Genuity</td>\n",
       "      <td>Buy</td>\n",
       "      <td></td>\n",
       "      <td>main</td>\n",
       "    </tr>\n",
       "    <tr>\n",
       "      <th>2021-07-28 14:04:02</th>\n",
       "      <td>Piper Sandler</td>\n",
       "      <td>Overweight</td>\n",
       "      <td></td>\n",
       "      <td>main</td>\n",
       "    </tr>\n",
       "    <tr>\n",
       "      <th>2021-07-28 14:08:03</th>\n",
       "      <td>Deutsche Bank</td>\n",
       "      <td>Buy</td>\n",
       "      <td></td>\n",
       "      <td>main</td>\n",
       "    </tr>\n",
       "    <tr>\n",
       "      <th>2021-07-28 14:20:34</th>\n",
       "      <td>Loop Capital</td>\n",
       "      <td>Buy</td>\n",
       "      <td></td>\n",
       "      <td>main</td>\n",
       "    </tr>\n",
       "  </tbody>\n",
       "</table>\n",
       "<p>804 rows × 4 columns</p>\n",
       "</div>"
      ],
      "text/plain": [
       "                                  Firm    To Grade From Grade Action\n",
       "Date                                                                \n",
       "2012-02-09 08:17:00  Canaccord Genuity         Buy              main\n",
       "2012-03-08 07:33:00     FBN Securities  Outperform              main\n",
       "2012-03-13 06:08:00          Jefferies         Buy              main\n",
       "2012-03-14 06:13:00     Morgan Stanley  Overweight              main\n",
       "2012-03-14 08:21:00  Canaccord Genuity         Buy              main\n",
       "...                                ...         ...        ...    ...\n",
       "2021-07-28 12:30:58        Wells Fargo  Overweight              main\n",
       "2021-07-28 13:19:21  Canaccord Genuity         Buy              main\n",
       "2021-07-28 14:04:02      Piper Sandler  Overweight              main\n",
       "2021-07-28 14:08:03      Deutsche Bank         Buy              main\n",
       "2021-07-28 14:20:34       Loop Capital         Buy              main\n",
       "\n",
       "[804 rows x 4 columns]"
      ]
     },
     "execution_count": 21,
     "metadata": {},
     "output_type": "execute_result"
    }
   ],
   "source": [
    "data_yf.recommendations"
   ]
  },
  {
   "cell_type": "code",
   "execution_count": 28,
   "id": "e005ad21",
   "metadata": {},
   "outputs": [],
   "source": [
    "opt = data_yf.option_chain('2021-12-17')"
   ]
  },
  {
   "cell_type": "code",
   "execution_count": 30,
   "id": "bd64b571",
   "metadata": {},
   "outputs": [
    {
     "data": {
      "text/plain": [
       "Options(calls=         contractSymbol       lastTradeDate  strike  lastPrice    bid    ask  \\\n",
       "0   AAPL211217C00065000 2021-07-29 16:16:47    65.0      81.02  81.85  82.10   \n",
       "1   AAPL211217C00070000 2021-07-29 19:25:43    70.0      78.91  76.90  77.15   \n",
       "2   AAPL211217C00075000 2021-08-17 15:04:30    75.0      76.35  72.00  72.20   \n",
       "3   AAPL211217C00080000 2021-08-18 17:21:41    80.0      68.85  67.10  67.30   \n",
       "4   AAPL211217C00085000 2021-08-13 13:52:21    85.0      64.45  62.15  62.40   \n",
       "5   AAPL211217C00090000 2021-08-12 16:17:27    90.0      58.50  57.30  57.50   \n",
       "6   AAPL211217C00095000 2021-08-19 18:53:10    95.0      52.30  52.40  52.60   \n",
       "7   AAPL211217C00100000 2021-08-19 19:33:53   100.0      48.15  47.55  47.75   \n",
       "8   AAPL211217C00105000 2021-08-18 19:49:38   105.0      42.65  42.75  42.95   \n",
       "9   AAPL211217C00110000 2021-08-19 17:23:08   110.0      38.65  38.00  38.25   \n",
       "10  AAPL211217C00115000 2021-08-19 19:45:21   115.0      33.50  33.35  33.55   \n",
       "11  AAPL211217C00120000 2021-08-19 15:05:12   120.0      28.87  28.85  29.00   \n",
       "12  AAPL211217C00125000 2021-08-19 19:22:09   125.0      24.85  24.50  24.70   \n",
       "13  AAPL211217C00130000 2021-08-19 19:42:05   130.0      20.55  20.40  20.55   \n",
       "14  AAPL211217C00135000 2021-08-19 19:02:25   135.0      16.65  16.60  16.75   \n",
       "15  AAPL211217C00140000 2021-08-19 17:09:10   140.0      13.60  13.25  13.35   \n",
       "16  AAPL211217C00145000 2021-08-19 19:33:54   145.0      10.39  10.30  10.40   \n",
       "17  AAPL211217C00150000 2021-08-19 19:53:55   150.0       7.85   7.85   7.95   \n",
       "18  AAPL211217C00155000 2021-08-19 18:21:56   155.0       5.95   5.80   5.90   \n",
       "19  AAPL211217C00160000 2021-08-19 19:53:05   160.0       4.20   4.25   4.40   \n",
       "20  AAPL211217C00165000 2021-08-19 19:34:33   165.0       3.05   3.05   3.20   \n",
       "21  AAPL211217C00170000 2021-08-19 18:22:49   170.0       2.22   2.23   2.31   \n",
       "22  AAPL211217C00175000 2021-08-19 18:01:36   175.0       1.55   1.61   1.68   \n",
       "23  AAPL211217C00180000 2021-08-19 17:39:06   180.0       1.25   1.17   1.23   \n",
       "24  AAPL211217C00185000 2021-08-19 17:53:03   185.0       0.86   0.87   0.94   \n",
       "25  AAPL211217C00190000 2021-08-19 17:02:22   190.0       0.69   0.67   0.70   \n",
       "26  AAPL211217C00195000 2021-08-19 17:00:37   195.0       0.57   0.51   0.56   \n",
       "27  AAPL211217C00200000 2021-08-19 19:57:01   200.0       0.43   0.40   0.44   \n",
       "\n",
       "      change  percentChange  volume  openInterest  impliedVolatility  \\\n",
       "0   0.000000       0.000000       1           175           0.685550   \n",
       "1   0.000000       0.000000       1            86           0.645511   \n",
       "2   0.000000       0.000000      40           142           0.611332   \n",
       "3   0.000000       0.000000       2           196           0.581547   \n",
       "4   0.000000       0.000000       1           225           0.544194   \n",
       "5   0.000000       0.000000      61           512           0.514409   \n",
       "6  -1.090000      -2.041581      20           191           0.491704   \n",
       "7  -1.849999      -3.699997     286           902           0.459356   \n",
       "8  -0.189999      -0.443508      20           556           0.429937   \n",
       "9  -1.899998      -4.685568      14           696           0.405524   \n",
       "10 -0.980000      -2.842226      61           800           0.377081   \n",
       "11  0.370001       1.298248       1          1395           0.353400   \n",
       "12  0.200001       0.811362     232          2165           0.336249   \n",
       "13  0.549999       2.749996     123          2954           0.317695   \n",
       "14  0.150000       0.909089     216          3104           0.303657   \n",
       "15  0.700001       5.426362     154         18105           0.292854   \n",
       "16  0.440001       4.422116     903         11267           0.284614   \n",
       "17  0.350000       4.666666    1295         26351           0.279304   \n",
       "18  0.300000       5.309729     864          6112           0.273811   \n",
       "19  0.130000       3.194094     355         34992           0.273628   \n",
       "20  0.070000       2.348991     511          4385           0.272468   \n",
       "21  0.070000       3.255810     263          6516           0.272529   \n",
       "22 -0.020000      -1.273892     201          6500           0.274482   \n",
       "23  0.090000       7.758624      53          3192           0.277473   \n",
       "24 -0.060000      -6.521739      55          1955           0.283577   \n",
       "25  0.040000       6.153850     158          3988           0.287483   \n",
       "26 -0.030000      -5.000005     122           631           0.295417   \n",
       "27  0.000000       0.000000      77          2368           0.301521   \n",
       "\n",
       "    inTheMoney contractSize currency  \n",
       "0         True      REGULAR      USD  \n",
       "1         True      REGULAR      USD  \n",
       "2         True      REGULAR      USD  \n",
       "3         True      REGULAR      USD  \n",
       "4         True      REGULAR      USD  \n",
       "5         True      REGULAR      USD  \n",
       "6         True      REGULAR      USD  \n",
       "7         True      REGULAR      USD  \n",
       "8         True      REGULAR      USD  \n",
       "9         True      REGULAR      USD  \n",
       "10        True      REGULAR      USD  \n",
       "11        True      REGULAR      USD  \n",
       "12        True      REGULAR      USD  \n",
       "13        True      REGULAR      USD  \n",
       "14        True      REGULAR      USD  \n",
       "15        True      REGULAR      USD  \n",
       "16        True      REGULAR      USD  \n",
       "17       False      REGULAR      USD  \n",
       "18       False      REGULAR      USD  \n",
       "19       False      REGULAR      USD  \n",
       "20       False      REGULAR      USD  \n",
       "21       False      REGULAR      USD  \n",
       "22       False      REGULAR      USD  \n",
       "23       False      REGULAR      USD  \n",
       "24       False      REGULAR      USD  \n",
       "25       False      REGULAR      USD  \n",
       "26       False      REGULAR      USD  \n",
       "27       False      REGULAR      USD  , puts=         contractSymbol       lastTradeDate  strike  lastPrice    bid    ask  \\\n",
       "0   AAPL211217P00065000 2021-08-19 17:58:29    65.0       0.23   0.22   0.25   \n",
       "1   AAPL211217P00070000 2021-08-18 19:16:21    70.0       0.23   0.28   0.32   \n",
       "2   AAPL211217P00075000 2021-08-12 19:57:23    75.0       0.29   0.36   0.40   \n",
       "3   AAPL211217P00080000 2021-08-19 13:47:22    80.0       0.43   0.44   0.48   \n",
       "4   AAPL211217P00085000 2021-08-18 19:35:54    85.0       0.51   0.53   0.58   \n",
       "5   AAPL211217P00090000 2021-08-18 16:37:43    90.0       0.53   0.64   0.68   \n",
       "6   AAPL211217P00095000 2021-08-19 14:14:15    95.0       0.78   0.76   0.81   \n",
       "7   AAPL211217P00100000 2021-08-19 19:13:58   100.0       0.94   0.91   0.97   \n",
       "8   AAPL211217P00105000 2021-08-19 17:57:31   105.0       1.10   1.11   1.16   \n",
       "9   AAPL211217P00110000 2021-08-19 19:26:53   110.0       1.39   1.36   1.42   \n",
       "10  AAPL211217P00115000 2021-08-19 19:00:40   115.0       1.74   1.71   1.76   \n",
       "11  AAPL211217P00120000 2021-08-19 19:58:14   120.0       2.22   2.17   2.24   \n",
       "12  AAPL211217P00125000 2021-08-19 18:53:06   125.0       2.85   2.83   2.89   \n",
       "13  AAPL211217P00130000 2021-08-19 19:00:40   130.0       3.75   3.70   3.80   \n",
       "14  AAPL211217P00135000 2021-08-19 17:59:37   135.0       4.89   4.90   5.05   \n",
       "15  AAPL211217P00140000 2021-08-19 19:53:07   140.0       6.65   6.50   6.65   \n",
       "16  AAPL211217P00145000 2021-08-19 19:13:58   145.0       8.52   8.55   8.70   \n",
       "17  AAPL211217P00150000 2021-08-19 17:39:12   150.0      11.50  11.10  11.20   \n",
       "18  AAPL211217P00155000 2021-08-19 18:49:11   155.0      14.40  14.05  14.20   \n",
       "19  AAPL211217P00160000 2021-08-18 19:35:59   160.0      17.70  17.50  17.65   \n",
       "20  AAPL211217P00165000 2021-08-19 14:03:09   165.0      21.48  21.30  21.45   \n",
       "21  AAPL211217P00170000 2021-08-19 18:02:07   170.0      25.39  25.45  25.60   \n",
       "22  AAPL211217P00175000 2021-08-17 16:32:50   175.0      29.80  29.85  30.00   \n",
       "23  AAPL211217P00180000 2021-08-16 19:19:12   180.0      33.45  34.35  34.60   \n",
       "24  AAPL211217P00185000 2021-08-16 19:19:12   185.0      36.20  39.05  39.30   \n",
       "25  AAPL211217P00190000 2021-08-18 14:00:33   190.0      41.07  43.85  44.10   \n",
       "26  AAPL211217P00195000 2021-08-06 18:00:04   195.0      49.50  48.70  48.95   \n",
       "27  AAPL211217P00200000 2021-08-18 14:00:33   200.0      50.74  53.60  53.80   \n",
       "\n",
       "      change  percentChange  volume  openInterest  impliedVolatility  \\\n",
       "0   0.050000      27.777777      23          2337           0.670902   \n",
       "1   0.000000       0.000000       2           285           0.637699   \n",
       "2   0.000000       0.000000       1          1436           0.606938   \n",
       "3   0.070000      19.444443       1           680           0.573246   \n",
       "4   0.060000      13.333334       1           763           0.541020   \n",
       "5   0.000000       0.000000     230          1066           0.508794   \n",
       "6   0.100000      14.705877     119           950           0.480718   \n",
       "7   0.090000      10.588232      20          2965           0.451177   \n",
       "8   0.100000      10.000002     109          3447           0.422125   \n",
       "9   0.110000       8.593752     389         10512           0.396002   \n",
       "10  0.110000       6.748467     252          4934           0.371588   \n",
       "11  0.160000       7.766995     324          7622           0.350348   \n",
       "12  0.210000       7.954538     344          7859           0.331428   \n",
       "13  0.250000       7.142858     100          4616           0.315925   \n",
       "14  0.090000       1.874993     280          9961           0.303840   \n",
       "15  0.150000       2.307694     177         26312           0.292976   \n",
       "16 -0.129999      -1.502881     248         24595           0.284736   \n",
       "17  0.390000       3.510354     291         10427           0.277961   \n",
       "18  0.700000       5.109488      71           547           0.273994   \n",
       "19  0.450001       2.608700       2           819           0.272102   \n",
       "20  1.529999       7.669167       3           559           0.270759   \n",
       "21  1.389999       5.791664      41           602           0.272346   \n",
       "22  2.119999       7.658956      20           945           0.275764   \n",
       "23  1.900001       6.022192       3           456           0.282112   \n",
       "24  0.000000       0.000000       5           151           0.288337   \n",
       "25  0.000000       0.000000       1            93           0.296638   \n",
       "26  0.000000       0.000000       1             1           0.305061   \n",
       "27  0.000000       0.000000       1            48           0.309577   \n",
       "\n",
       "    inTheMoney contractSize currency  \n",
       "0        False      REGULAR      USD  \n",
       "1        False      REGULAR      USD  \n",
       "2        False      REGULAR      USD  \n",
       "3        False      REGULAR      USD  \n",
       "4        False      REGULAR      USD  \n",
       "5        False      REGULAR      USD  \n",
       "6        False      REGULAR      USD  \n",
       "7        False      REGULAR      USD  \n",
       "8        False      REGULAR      USD  \n",
       "9        False      REGULAR      USD  \n",
       "10       False      REGULAR      USD  \n",
       "11       False      REGULAR      USD  \n",
       "12       False      REGULAR      USD  \n",
       "13       False      REGULAR      USD  \n",
       "14       False      REGULAR      USD  \n",
       "15       False      REGULAR      USD  \n",
       "16       False      REGULAR      USD  \n",
       "17        True      REGULAR      USD  \n",
       "18        True      REGULAR      USD  \n",
       "19        True      REGULAR      USD  \n",
       "20        True      REGULAR      USD  \n",
       "21        True      REGULAR      USD  \n",
       "22        True      REGULAR      USD  \n",
       "23        True      REGULAR      USD  \n",
       "24        True      REGULAR      USD  \n",
       "25        True      REGULAR      USD  \n",
       "26        True      REGULAR      USD  \n",
       "27        True      REGULAR      USD  )"
      ]
     },
     "execution_count": 30,
     "metadata": {},
     "output_type": "execute_result"
    }
   ],
   "source": [
    "opt"
   ]
  },
  {
   "cell_type": "code",
   "execution_count": null,
   "id": "0cf202e3",
   "metadata": {},
   "outputs": [],
   "source": []
  }
 ],
 "metadata": {
  "kernelspec": {
   "display_name": "Python 3",
   "language": "python",
   "name": "python3"
  },
  "language_info": {
   "codemirror_mode": {
    "name": "ipython",
    "version": 3
   },
   "file_extension": ".py",
   "mimetype": "text/x-python",
   "name": "python",
   "nbconvert_exporter": "python",
   "pygments_lexer": "ipython3",
   "version": "3.8.5"
  }
 },
 "nbformat": 4,
 "nbformat_minor": 5
}
