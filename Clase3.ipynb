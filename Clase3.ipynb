{
 "cells": [
  {
   "cell_type": "markdown",
   "id": "dbdebe99",
   "metadata": {},
   "source": [
    "## Ejercicio Grafica 2"
   ]
  },
  {
   "cell_type": "code",
   "execution_count": 1,
   "id": "0fc072ce",
   "metadata": {},
   "outputs": [],
   "source": [
    "import pandas as pd"
   ]
  },
  {
   "cell_type": "code",
   "execution_count": 3,
   "id": "44baa240",
   "metadata": {},
   "outputs": [
    {
     "data": {
      "text/plain": [
       "<AxesSubplot:xlabel='Date'>"
      ]
     },
     "execution_count": 3,
     "metadata": {},
     "output_type": "execute_result"
    },
    {
     "data": {
      "image/png": "[encoded data removed]",
      "text/plain": [
       "<Figure size 432x288 with 1 Axes>"
      ]
     },
     "metadata": {
      "needs_background": "light"
     },
     "output_type": "display_data"
    }
   ],
   "source": [
    "data = pd.read_csv('MRNA.csv', parse_dates = True)\n",
    "data.plot(x='Date', y='Adj Close')"
   ]
  },
  {
   "cell_type": "markdown",
   "id": "eaa8bf11",
   "metadata": {},
   "source": [
    "## Strings - Cadena de Caracteres (Texto)"
   ]
  },
  {
   "cell_type": "code",
   "execution_count": 4,
   "id": "d86973ce",
   "metadata": {},
   "outputs": [
    {
     "data": {
      "text/plain": [
       "'Hola Mundo'"
      ]
     },
     "execution_count": 4,
     "metadata": {},
     "output_type": "execute_result"
    }
   ],
   "source": [
    "\"Hola Mundo\"\n",
    "'Hola Mundo'"
   ]
  },
  {
   "cell_type": "code",
   "execution_count": 5,
   "id": "e3370fd3",
   "metadata": {},
   "outputs": [],
   "source": [
    "texto1 = \"Mary's restaurant\""
   ]
  },
  {
   "cell_type": "code",
   "execution_count": 6,
   "id": "efabd182",
   "metadata": {},
   "outputs": [],
   "source": [
    "texto = 'Ella dijo: \"Hola!\" '"
   ]
  },
  {
   "cell_type": "code",
   "execution_count": 7,
   "id": "69967000",
   "metadata": {},
   "outputs": [
    {
     "ename": "SyntaxError",
     "evalue": "invalid syntax (<ipython-input-7-5b0bf202c5f7>, line 2)",
     "output_type": "error",
     "traceback": [
      "\u001b[1;36m  File \u001b[1;32m\"<ipython-input-7-5b0bf202c5f7>\"\u001b[1;36m, line \u001b[1;32m2\u001b[0m\n\u001b[1;33m    texto = \"Ella dijo: \"Hola como estas\"\"\u001b[0m\n\u001b[1;37m                         ^\u001b[0m\n\u001b[1;31mSyntaxError\u001b[0m\u001b[1;31m:\u001b[0m invalid syntax\n"
     ]
    }
   ],
   "source": [
    "#error\n",
    "texto = \"Ella dijo: \"Hola como estas\"\""
   ]
  },
  {
   "cell_type": "markdown",
   "id": "bcbfbc79",
   "metadata": {},
   "source": [
    "### Escaping de String"
   ]
  },
  {
   "cell_type": "code",
   "execution_count": 8,
   "id": "8f53072c",
   "metadata": {},
   "outputs": [
    {
     "name": "stdout",
     "output_type": "stream",
     "text": [
      "Ella dijo:\"Hola!\"\n"
     ]
    }
   ],
   "source": [
    "## Escaping \n",
    "texto3 = \"Ella dijo:\\\"Hola!\\\"\"\n",
    "print(texto3)"
   ]
  },
  {
   "cell_type": "code",
   "execution_count": 9,
   "id": "a340b0fe",
   "metadata": {},
   "outputs": [
    {
     "name": "stdout",
     "output_type": "stream",
     "text": [
      "Ella dijo:'Hola!'\n"
     ]
    }
   ],
   "source": [
    "texto4 = 'Ella dijo:\\'Hola!\\''\n",
    "print(texto4)"
   ]
  },
  {
   "cell_type": "code",
   "execution_count": 10,
   "id": "1a9fbccc",
   "metadata": {},
   "outputs": [
    {
     "name": "stdout",
     "output_type": "stream",
     "text": [
      "Esto es la linea 1 \n",
      " Esto es la segunda linea \t\t\t Valor \n",
      " Esto es la tercera linea\n"
     ]
    }
   ],
   "source": [
    "#\\n(salto de linea) \\t(tabulación)\n",
    "\n",
    "texto =\"Esto es la linea 1 \\n Esto es la segunda linea \\t\\t\\t Valor \\n Esto es la tercera linea\"\n",
    "print(texto)"
   ]
  },
  {
   "cell_type": "markdown",
   "id": "fec14af9",
   "metadata": {},
   "source": [
    "### Concatenación"
   ]
  },
  {
   "cell_type": "code",
   "execution_count": 11,
   "id": "fe7e41c2",
   "metadata": {},
   "outputs": [],
   "source": [
    "ticker = \"SPY\"\n",
    "precio = 445\n",
    "valor = '445.0'"
   ]
  },
  {
   "cell_type": "code",
   "execution_count": 14,
   "id": "5dae52f4",
   "metadata": {},
   "outputs": [
    {
     "name": "stdout",
     "output_type": "stream",
     "text": [
      "El valor actual del SPY es: 445.0\n"
     ]
    }
   ],
   "source": [
    "print(\"El valor actual del \"+ticker+\" es: \"+valor)"
   ]
  },
  {
   "cell_type": "code",
   "execution_count": 15,
   "id": "a17aaccf",
   "metadata": {},
   "outputs": [
    {
     "name": "stdout",
     "output_type": "stream",
     "text": [
      "El valor actual del SPY es:  445\n"
     ]
    }
   ],
   "source": [
    "print(\"El valor actual del \"+ticker+\" es: \",precio)"
   ]
  },
  {
   "cell_type": "code",
   "execution_count": 17,
   "id": "b039fed6",
   "metadata": {},
   "outputs": [
    {
     "name": "stdout",
     "output_type": "stream",
     "text": [
      "El valor actual del SPY es: 445\n"
     ]
    }
   ],
   "source": [
    "##Casting de tipo de datos\n",
    "\n",
    "print(\"El valor actual del \"+ticker+\" es: \"+str(precio))"
   ]
  },
  {
   "cell_type": "code",
   "execution_count": 31,
   "id": "5e127af9",
   "metadata": {},
   "outputs": [],
   "source": [
    "total = int('4450') *5  # cast de cualquier valor (rep. numerica entera) a un tipo de dato entero\n",
    "total2 = float(445.0) *5"
   ]
  },
  {
   "cell_type": "code",
   "execution_count": 32,
   "id": "4c292cd8",
   "metadata": {},
   "outputs": [
    {
     "name": "stdout",
     "output_type": "stream",
     "text": [
      "22250\n",
      "2225.0\n"
     ]
    }
   ],
   "source": [
    "print(total)\n",
    "print(total2)"
   ]
  },
  {
   "cell_type": "markdown",
   "id": "7124caf3",
   "metadata": {},
   "source": [
    "## Función Print"
   ]
  },
  {
   "cell_type": "code",
   "execution_count": 33,
   "id": "2cf0d8ea",
   "metadata": {},
   "outputs": [
    {
     "name": "stdout",
     "output_type": "stream",
     "text": [
      "esto es un texto\n"
     ]
    }
   ],
   "source": [
    "print(\"esto es un texto\")"
   ]
  },
  {
   "cell_type": "code",
   "execution_count": 34,
   "id": "14820c7d",
   "metadata": {},
   "outputs": [
    {
     "name": "stdout",
     "output_type": "stream",
     "text": [
      "Esto es una cadena \n",
      " de varias lineas \n",
      " linea 3 \n",
      " linea 4\n"
     ]
    }
   ],
   "source": [
    "print(\"Esto es una cadena \\n de varias lineas \\n linea 3 \\n linea 4\")"
   ]
  },
  {
   "cell_type": "code",
   "execution_count": 35,
   "id": "3620d526",
   "metadata": {},
   "outputs": [
    {
     "name": "stdout",
     "output_type": "stream",
     "text": [
      "C:\n",
      "ombre\\directorio\n"
     ]
    }
   ],
   "source": [
    "print(\"C:\\nombre\\directorio\")"
   ]
  },
  {
   "cell_type": "code",
   "execution_count": 36,
   "id": "92a60917",
   "metadata": {},
   "outputs": [
    {
     "name": "stdout",
     "output_type": "stream",
     "text": [
      "C:\\nombre\\directorio\n"
     ]
    }
   ],
   "source": [
    "# Raw String => crudo => Imprime el texto tal como aparece dentro de las comillas\n",
    "print(r\"C:\\nombre\\directorio\")"
   ]
  },
  {
   "cell_type": "code",
   "execution_count": 37,
   "id": "64af5989",
   "metadata": {},
   "outputs": [
    {
     "name": "stdout",
     "output_type": "stream",
     "text": [
      "c:\\nombre\\directorio\n"
     ]
    }
   ],
   "source": [
    "directorio = r\"c:\\nombre\\directorio\"\n",
    "print(directorio)"
   ]
  },
  {
   "cell_type": "code",
   "execution_count": 39,
   "id": "711b3b97",
   "metadata": {},
   "outputs": [
    {
     "name": "stdout",
     "output_type": "stream",
     "text": [
      " Linea1\n",
      "Linea2\n",
      "\n",
      "Linea4\n",
      "\n"
     ]
    }
   ],
   "source": [
    "texto_varia_lin = \"\"\" Linea1\n",
    "Linea2\n",
    "\n",
    "Linea4\n",
    "\"\"\"\n",
    "print(texto_varia_lin)"
   ]
  },
  {
   "cell_type": "markdown",
   "id": "9ff9c912",
   "metadata": {},
   "source": [
    "## String formatting"
   ]
  },
  {
   "cell_type": "code",
   "execution_count": 40,
   "id": "20585613",
   "metadata": {},
   "outputs": [
    {
     "name": "stdout",
     "output_type": "stream",
     "text": [
      " El precio AAPL es de 140 y esta en el portafolio: True\n"
     ]
    }
   ],
   "source": [
    "accion =\"AAPL\"\n",
    "precio =  140\n",
    "en_portafolio = True\n",
    "# print(\"El precio de \"+accion+\" es de: \"+str(precio)+\" y se encuentra en el port.: \"+str(en_portafolio))\n",
    "print(f\" El precio {accion} es de {precio} y esta en el portafolio: {en_portafolio}\")"
   ]
  },
  {
   "cell_type": "markdown",
   "id": "166ad9e3",
   "metadata": {},
   "source": [
    "## Conversion de Datos (Casting)"
   ]
  },
  {
   "cell_type": "code",
   "execution_count": 45,
   "id": "10302022",
   "metadata": {},
   "outputs": [],
   "source": [
    "#cualquier tipo de dato a string\n",
    "x = str(200)\n",
    "y = str(30.1)\n",
    "z = str(False)\n",
    "\n",
    "#cualquier tipo de dato a numero\n",
    "a = int('20')\n",
    "b = float('20.8')\n",
    "c = int(20.3)\n",
    "#d = int('veinte') => da error\n",
    "\n",
    "#cualquier tipo de dato a boolean\n",
    "b1 = bool(1)\n",
    "b2 = bool(0)"
   ]
  },
  {
   "cell_type": "markdown",
   "id": "0e6cb9e9",
   "metadata": {},
   "source": [
    "## Función Input (entrada de datos)"
   ]
  },
  {
   "cell_type": "code",
   "execution_count": 66,
   "id": "dbe64c5f",
   "metadata": {},
   "outputs": [
    {
     "name": "stdout",
     "output_type": "stream",
     "text": [
      "Por favor, ingresa la accción que quieres analizar \n",
      "AAPL\n"
     ]
    }
   ],
   "source": [
    "accion = input (\"Por favor, ingresa la accción que quieres analizar \\n\")"
   ]
  },
  {
   "cell_type": "code",
   "execution_count": 67,
   "id": "cd39c62e",
   "metadata": {},
   "outputs": [
    {
     "name": "stdout",
     "output_type": "stream",
     "text": [
      "AAPL\n"
     ]
    }
   ],
   "source": [
    "print(accion)"
   ]
  },
  {
   "cell_type": "code",
   "execution_count": 69,
   "id": "bc05dfc2",
   "metadata": {},
   "outputs": [
    {
     "name": "stdout",
     "output_type": "stream",
     "text": [
      "Por favor, ingresa la tasa de retorno que deseas usar (numerico 12%=>0.12) \n",
      "0.13\n"
     ]
    }
   ],
   "source": [
    "tasa = input(\"Por favor, ingresa la tasa de retorno que deseas usar (numerico 12%=>0.12) \\n\")"
   ]
  },
  {
   "cell_type": "code",
   "execution_count": 70,
   "id": "1efa852e",
   "metadata": {},
   "outputs": [
    {
     "ename": "TypeError",
     "evalue": "unsupported operand type(s) for +: 'int' and 'str'",
     "output_type": "error",
     "traceback": [
      "\u001b[1;31m---------------------------------------------------------------------------\u001b[0m",
      "\u001b[1;31mTypeError\u001b[0m                                 Traceback (most recent call last)",
      "\u001b[1;32m<ipython-input-70-c0dea84b9861>\u001b[0m in \u001b[0;36m<module>\u001b[1;34m\u001b[0m\n\u001b[1;32m----> 1\u001b[1;33m \u001b[0mvf\u001b[0m \u001b[1;33m=\u001b[0m \u001b[1;36m100\u001b[0m\u001b[1;33m*\u001b[0m\u001b[1;33m(\u001b[0m\u001b[1;36m1\u001b[0m\u001b[1;33m+\u001b[0m\u001b[0mtasa\u001b[0m\u001b[1;33m)\u001b[0m\u001b[1;33m\u001b[0m\u001b[1;33m\u001b[0m\u001b[0m\n\u001b[0m",
      "\u001b[1;31mTypeError\u001b[0m: unsupported operand type(s) for +: 'int' and 'str'"
     ]
    }
   ],
   "source": [
    "vf = 100*(1+tasa)"
   ]
  },
  {
   "cell_type": "code",
   "execution_count": 73,
   "id": "72b4f999",
   "metadata": {},
   "outputs": [],
   "source": [
    "# casting del input a float para poder hacer la operacion, porque input SIEMPRE retorna un String\n",
    "vf = 100*(1+ float(tasa))"
   ]
  },
  {
   "cell_type": "code",
   "execution_count": 74,
   "id": "105e06c2",
   "metadata": {},
   "outputs": [
    {
     "data": {
      "text/plain": [
       "112.99999999999999"
      ]
     },
     "execution_count": 74,
     "metadata": {},
     "output_type": "execute_result"
    }
   ],
   "source": [
    "vf"
   ]
  },
  {
   "cell_type": "code",
   "execution_count": 75,
   "id": "aef3229c",
   "metadata": {},
   "outputs": [
    {
     "name": "stdout",
     "output_type": "stream",
     "text": [
      "Por favor, ingresa tu edad (en numero de años)treinta y ocho\n"
     ]
    }
   ],
   "source": [
    "edad = input(\"Por favor, ingresa tu edad (en numero de años)\")"
   ]
  },
  {
   "cell_type": "code",
   "execution_count": 76,
   "id": "dc778b4d",
   "metadata": {},
   "outputs": [
    {
     "ename": "TypeError",
     "evalue": "can't multiply sequence by non-int of type 'float'",
     "output_type": "error",
     "traceback": [
      "\u001b[1;31m---------------------------------------------------------------------------\u001b[0m",
      "\u001b[1;31mTypeError\u001b[0m                                 Traceback (most recent call last)",
      "\u001b[1;32m<ipython-input-76-a1783f9751c0>\u001b[0m in \u001b[0;36m<module>\u001b[1;34m\u001b[0m\n\u001b[1;32m----> 1\u001b[1;33m \u001b[0mtotal_retiro\u001b[0m\u001b[1;33m=\u001b[0m\u001b[1;33m(\u001b[0m\u001b[0medad\u001b[0m \u001b[1;33m*\u001b[0m \u001b[1;36m1.2\u001b[0m\u001b[1;33m)\u001b[0m \u001b[1;33m/\u001b[0m \u001b[1;36m1000\u001b[0m\u001b[1;33m\u001b[0m\u001b[1;33m\u001b[0m\u001b[0m\n\u001b[0m",
      "\u001b[1;31mTypeError\u001b[0m: can't multiply sequence by non-int of type 'float'"
     ]
    }
   ],
   "source": [
    "total_retiro=(edad * 1.2) / 1000"
   ]
  },
  {
   "cell_type": "code",
   "execution_count": 78,
   "id": "7203afe8",
   "metadata": {},
   "outputs": [
    {
     "name": "stdout",
     "output_type": "stream",
     "text": [
      "Por favor, ingresa tu edad33\n",
      "El valor de edad es 33\n"
     ]
    }
   ],
   "source": [
    "variable = \"edad\"\n",
    "valor = input(f\"Por favor, ingresa tu {variable}\")\n",
    "print(f'El valor de {variable} es { valor}')"
   ]
  },
  {
   "cell_type": "markdown",
   "id": "ad0e9506",
   "metadata": {},
   "source": [
    "## Ejercicio - Calculadora de Retiro"
   ]
  },
  {
   "cell_type": "code",
   "execution_count": 118,
   "id": "c8ecae6e",
   "metadata": {},
   "outputs": [
    {
     "name": "stdout",
     "output_type": "stream",
     "text": [
      "¿Cúal es tu nombre?\n",
      "Luisa\n",
      "¿Cúal es tu edad? - Introduce solo números \n",
      "32\n",
      "Introduzca el monto de sus ingresos anuales despues de impuesto (USD)\n",
      "120_000\n",
      "Introduzca el monto de sus gastos anuales (totales USD)\n",
      "60_000\n",
      "Introduzca el valor actual de su portafolio de inversión (USD) - Si no tiene coloque 0\n",
      "250_000\n",
      "Introduzca el monto que ahorras anualmente (USD)\n",
      "40_000\n",
      "Indique la tasa de retorno anual del portafolio/inversiones/ahorros (Numero 0 a 1: 0.xx)\n",
      "0.18\n"
     ]
    }
   ],
   "source": [
    "# Solicitud de datos:\n",
    "nombre = input(\"¿Cúal es tu nombre?\\n\")\n",
    "edad = input(\"¿Cúal es tu edad? - Introduce solo números \\n\")\n",
    "ingresos_di_an = input(\"Introduzca el monto de sus ingresos anuales despues de impuesto (USD)\\n\")\n",
    "gastos_an = input(\"Introduzca el monto de sus gastos anuales (totales USD)\\n\")\n",
    "portafolio = input(\"Introduzca el valor actual de su portafolio de inversión (USD) - Si no tiene coloque 0\\n\")\n",
    "aporte_aho = input(\"Introduzca el monto que ahorras anualmente (USD)\\n\")\n",
    "tasa = input(\"Indique la tasa de retorno anual del portafolio/inversiones/ahorros (Numero 0 a 1: 0.xx)\\n\")\n",
    "TR = 0.04 #Tasa de retiro 4% anual despues de la edad de retiro"
   ]
  },
  {
   "cell_type": "code",
   "execution_count": 119,
   "id": "6b071062",
   "metadata": {},
   "outputs": [
    {
     "name": "stdout",
     "output_type": "stream",
     "text": [
      "************************************************************\n",
      "\t\t CALCULADORA DE RETIRO\n",
      "============================================================\n",
      "\n"
     ]
    }
   ],
   "source": [
    "# Cabezal de ticket/impresion\n",
    "cabezal = \"*\"*60\n",
    "cabezal = cabezal+\"\\n\\t\\t CALCULADORA DE RETIRO\\n\"\n",
    "cabezal += \"=\"*60+\"\\n\"\n",
    "print(cabezal)"
   ]
  },
  {
   "cell_type": "code",
   "execution_count": 122,
   "id": "ad213522",
   "metadata": {},
   "outputs": [
    {
     "name": "stdout",
     "output_type": "stream",
     "text": [
      "************************************************************\n",
      "\t\t CALCULADORA DE RETIRO\n",
      "============================================================\n",
      "\t Nombre: \t\t\tLuisa\n",
      "\t Edad: \t\t\t\t32\n",
      "\t Ingreso DI: \t\t\t120,000.00\n",
      "\t Gastos Anuales: \t\t60,000.00\n",
      "\t Valor Portafolio: \t\t250,000.00\n",
      "\t Contrib. Ahorros: \t\t40,000.00\n",
      "\t Tasa Ret. Anual: \t\t18.00%\n",
      "\t Tasa Retiro: \t\t\t4.00%\n",
      "============================================================\n"
     ]
    }
   ],
   "source": [
    "# Seccion de Impresion de la Data de Entrada\n",
    "datos = f\"\\t Nombre: \\t\\t\\t{nombre}\\n\"\n",
    "datos+= f\"\\t Edad: \\t\\t\\t\\t{edad}\\n\"\n",
    "datos+= f\"\\t Ingreso DI: \\t\\t\\t{float(ingresos_di_an):,.2f}\\n\"\n",
    "datos+= f\"\\t Gastos Anuales: \\t\\t{float(gastos_an):,.2f}\\n\"\n",
    "datos+= f\"\\t Valor Portafolio: \\t\\t{float(portafolio):,.2f}\\n\"\n",
    "datos+= f\"\\t Contrib. Ahorros: \\t\\t{float(aporte_aho):,.2f}\\n\"\n",
    "datos+= f\"\\t Tasa Ret. Anual: \\t\\t{float(tasa):.2%}\\n\"\n",
    "datos+= f\"\\t Tasa Retiro: \\t\\t\\t{TR*100:.2f}%\\n\"\n",
    "datos+= \"=\"*60\n",
    "print(cabezal+datos)"
   ]
  },
  {
   "cell_type": "markdown",
   "id": "96ccfbc8",
   "metadata": {},
   "source": [
    "## Libreria yfinance"
   ]
  },
  {
   "cell_type": "code",
   "execution_count": 147,
   "id": "a0637059",
   "metadata": {},
   "outputs": [],
   "source": [
    "# pip install yfinance\n",
    "# pip install -i https://pypi.anaconda.org/ranaroussi/simple yfinance\n",
    "\n",
    "#DOCUMENTACIÓN: https://pypi.org/project/yfinance/\n",
    "\n",
    "import yfinance as yf"
   ]
  },
  {
   "cell_type": "code",
   "execution_count": 124,
   "id": "54c0e234",
   "metadata": {},
   "outputs": [
    {
     "name": "stdout",
     "output_type": "stream",
     "text": [
      "Escribe el ticker/simbolo de la accion que quieres analizarPFE\n"
     ]
    }
   ],
   "source": [
    "accion = input(\"Escribe el ticker/simbolo de la accion que quieres analizar\")"
   ]
  },
  {
   "cell_type": "code",
   "execution_count": 138,
   "id": "21595f81",
   "metadata": {},
   "outputs": [],
   "source": [
    "data_yf = yf.Ticker(accion)"
   ]
  },
  {
   "cell_type": "code",
   "execution_count": 139,
   "id": "8d22a361",
   "metadata": {},
   "outputs": [
    {
     "data": {
      "text/plain": [
       "yfinance.Ticker object <PFE>"
      ]
     },
     "execution_count": 139,
     "metadata": {},
     "output_type": "execute_result"
    }
   ],
   "source": [
    "data_yf"
   ]
  },
  {
   "cell_type": "code",
   "execution_count": 140,
   "id": "ba7ddd58",
   "metadata": {},
   "outputs": [
    {
     "data": {
      "text/plain": [
       "{'zip': '10017',\n",
       " 'sector': 'Healthcare',\n",
       " 'fullTimeEmployees': 78500,\n",
       " 'longBusinessSummary': 'Pfizer Inc. discovers, develops, manufactures, markets, distributes, and sells biopharmaceutical products worldwide. It offers medicines and vaccines in various therapeutic areas, including cardiovascular metabolic and pain under the Eliquis, Chantix/Champix, and Premarin family brands; biologics, small molecules, immunotherapies, and biosimilars under the Ibrance, Xtandi, Sutent, Inlyta, Retacrit, Lorbrena, and Braftovi brands; and sterile injectable and anti-infective medicines under the Sulperazon, Medrol, Zithromax, Vfend, and Panzyga brands. The company also provides medicines and vaccines in various therapeutic areas, such as pneumococcal disease, meningococcal disease, tick-borne encephalitis, and COVID-19 under the Prevnar 13/Prevenar 13 (pediatric/adult), Nimenrix, FSME/IMMUN-TicoVac, Trumenba, and the Pfizer-BioNTech COVID-19 vaccine brands; biosimilars for chronic immune and inflammatory diseases under the Xeljanz, Enbrel, Inflectra, and Eucrisa/Staquis brands; and amyloidosis, hemophilia, and endocrine diseases under the Vyndaqel/Vyndamax, BeneFIX, and Genotropin brands. In addition, the company is involved in the contract manufacturing business. It serves wholesalers, retailers, hospitals, clinics, government agencies, pharmacies, and individual provider offices, as well as disease control and prevention centers. The company has collaboration agreements with Bristol-Myers Squibb Company; Astellas Pharma US, Inc.; Myovant Sciences Ltd.; Akcea Therapeutics, Inc; Merck KGaA; Valneva SE; BioNTech SE; Arvinas, Inc.; and Syapse, Inc. Pfizer Inc. was founded in 1849 and is headquartered in New York, New York.',\n",
       " 'city': 'New York',\n",
       " 'phone': '212 733 2323',\n",
       " 'state': 'NY',\n",
       " 'country': 'United States',\n",
       " 'companyOfficers': [],\n",
       " 'website': 'http://www.pfizer.com',\n",
       " 'maxAge': 1,\n",
       " 'address1': '235 East 42nd Street',\n",
       " 'industry': 'Drug Manufacturers—General',\n",
       " 'ebitdaMargins': 0.36270002,\n",
       " 'profitMargins': 0.23798999,\n",
       " 'grossMargins': 0.7112,\n",
       " 'operatingCashflow': 23552000000,\n",
       " 'revenueGrowth': 0.924,\n",
       " 'operatingMargins': 0.2732,\n",
       " 'ebitda': 20137000960,\n",
       " 'targetLowPrice': 38,\n",
       " 'recommendationKey': 'hold',\n",
       " 'grossProfits': 33334000000,\n",
       " 'freeCashflow': 31606624256,\n",
       " 'targetMedianPrice': 44,\n",
       " 'currentPrice': 50.42,\n",
       " 'earningsGrowth': 0.59,\n",
       " 'currentRatio': 1.369,\n",
       " 'returnOnAssets': 0.0545,\n",
       " 'numberOfAnalystOpinions': 20,\n",
       " 'targetMeanPrice': 44.32,\n",
       " 'debtToEquity': 55.809,\n",
       " 'returnOnEquity': 0.18354,\n",
       " 'targetHighPrice': 53,\n",
       " 'totalCash': 21702000640,\n",
       " 'totalDebt': 39241998336,\n",
       " 'totalRevenue': 55520002048,\n",
       " 'totalCashPerShare': 3.871,\n",
       " 'financialCurrency': 'USD',\n",
       " 'revenuePerShare': 9.958,\n",
       " 'quickRatio': 1.011,\n",
       " 'recommendationMean': 2.6,\n",
       " 'exchange': 'NYQ',\n",
       " 'shortName': 'Pfizer, Inc.',\n",
       " 'longName': 'Pfizer Inc.',\n",
       " 'exchangeTimezoneName': 'America/New_York',\n",
       " 'exchangeTimezoneShortName': 'EDT',\n",
       " 'isEsgPopulated': False,\n",
       " 'gmtOffSetMilliseconds': '-14400000',\n",
       " 'quoteType': 'EQUITY',\n",
       " 'symbol': 'PFE',\n",
       " 'messageBoardId': 'finmb_162270',\n",
       " 'market': 'us_market',\n",
       " 'annualHoldingsTurnover': None,\n",
       " 'enterpriseToRevenue': 5.26,\n",
       " 'beta3Year': None,\n",
       " 'enterpriseToEbitda': 14.502,\n",
       " '52WeekChange': 0.34387743,\n",
       " 'morningStarRiskRating': None,\n",
       " 'forwardEps': 3.59,\n",
       " 'revenueQuarterlyGrowth': None,\n",
       " 'sharesOutstanding': 5606689792,\n",
       " 'fundInceptionDate': None,\n",
       " 'annualReportExpenseRatio': None,\n",
       " 'totalAssets': None,\n",
       " 'bookValue': 12.51,\n",
       " 'sharesShort': 54504661,\n",
       " 'sharesPercentSharesOut': 0.0097,\n",
       " 'fundFamily': None,\n",
       " 'lastFiscalYearEnd': 1609372800,\n",
       " 'heldPercentInstitutions': 0.67262,\n",
       " 'netIncomeToCommon': 12323999744,\n",
       " 'trailingEps': 2.342,\n",
       " 'lastDividendValue': None,\n",
       " 'SandP52WeekChange': 0.31953692,\n",
       " 'priceToBook': 4.0303755,\n",
       " 'heldPercentInsiders': 0.00039,\n",
       " 'nextFiscalYearEnd': 1672444800,\n",
       " 'yield': None,\n",
       " 'mostRecentQuarter': 1625356800,\n",
       " 'shortRatio': 2.19,\n",
       " 'sharesShortPreviousMonthDate': 1625011200,\n",
       " 'floatShares': 5600016397,\n",
       " 'beta': 0.67079,\n",
       " 'enterpriseValue': 292036116480,\n",
       " 'priceHint': 2,\n",
       " 'threeYearAverageReturn': None,\n",
       " 'lastSplitDate': None,\n",
       " 'lastSplitFactor': None,\n",
       " 'legalType': None,\n",
       " 'lastDividendDate': None,\n",
       " 'morningStarOverallRating': None,\n",
       " 'earningsQuarterlyGrowth': 0.594,\n",
       " 'priceToSalesTrailing12Months': 5.0916653,\n",
       " 'dateShortInterest': 1627603200,\n",
       " 'pegRatio': 0.94,\n",
       " 'ytdReturn': None,\n",
       " 'forwardPE': 14.044568,\n",
       " 'lastCapGain': None,\n",
       " 'shortPercentOfFloat': 0.0097,\n",
       " 'sharesShortPriorMonth': 63146117,\n",
       " 'impliedSharesOutstanding': None,\n",
       " 'category': None,\n",
       " 'fiveYearAverageReturn': None,\n",
       " 'previousClose': 48.91,\n",
       " 'regularMarketOpen': 48.78,\n",
       " 'twoHundredDayAverage': 38.532463,\n",
       " 'trailingAnnualDividendYield': 0.031486403,\n",
       " 'payoutRatio': 0.7064,\n",
       " 'volume24Hr': None,\n",
       " 'regularMarketDayHigh': 50.49,\n",
       " 'navPrice': None,\n",
       " 'averageDailyVolume10Day': 44584216,\n",
       " 'regularMarketPreviousClose': 48.91,\n",
       " 'fiftyDayAverage': 42.353428,\n",
       " 'trailingAnnualDividendRate': 1.54,\n",
       " 'open': 48.78,\n",
       " 'toCurrency': None,\n",
       " 'averageVolume10days': 44584216,\n",
       " 'expireDate': None,\n",
       " 'algorithm': None,\n",
       " 'dividendRate': 1.56,\n",
       " 'exDividendDate': 1627516800,\n",
       " 'circulatingSupply': None,\n",
       " 'startDate': None,\n",
       " 'regularMarketDayLow': 48.71,\n",
       " 'currency': 'USD',\n",
       " 'trailingPE': 21.528606,\n",
       " 'regularMarketVolume': 68816994,\n",
       " 'lastMarket': None,\n",
       " 'maxSupply': None,\n",
       " 'openInterest': None,\n",
       " 'marketCap': 282689273856,\n",
       " 'volumeAllCurrencies': None,\n",
       " 'strikePrice': None,\n",
       " 'averageVolume': 26157243,\n",
       " 'dayLow': 48.71,\n",
       " 'ask': 50.32,\n",
       " 'askSize': 1200,\n",
       " 'volume': 68816994,\n",
       " 'fiftyTwoWeekHigh': 50.49,\n",
       " 'fromCurrency': None,\n",
       " 'fiveYearAvgDividendYield': 3.7,\n",
       " 'fiftyTwoWeekLow': 32.827324,\n",
       " 'bid': 50.35,\n",
       " 'tradeable': False,\n",
       " 'dividendYield': 0.0319,\n",
       " 'bidSize': 800,\n",
       " 'dayHigh': 50.49,\n",
       " 'regularMarketPrice': 50.42,\n",
       " 'logo_url': 'https://logo.clearbit.com/pfizer.com'}"
      ]
     },
     "execution_count": 140,
     "metadata": {},
     "output_type": "execute_result"
    }
   ],
   "source": [
    "data_yf.info"
   ]
  },
  {
   "cell_type": "code",
   "execution_count": 141,
   "id": "f653eed6",
   "metadata": {},
   "outputs": [],
   "source": [
    "data_accion=data_yf.info"
   ]
  },
  {
   "cell_type": "code",
   "execution_count": 142,
   "id": "095e0c18",
   "metadata": {},
   "outputs": [
    {
     "data": {
      "text/plain": [
       "{'zip': '10017',\n",
       " 'sector': 'Healthcare',\n",
       " 'fullTimeEmployees': 78500,\n",
       " 'longBusinessSummary': 'Pfizer Inc. discovers, develops, manufactures, markets, distributes, and sells biopharmaceutical products worldwide. It offers medicines and vaccines in various therapeutic areas, including cardiovascular metabolic and pain under the Eliquis, Chantix/Champix, and Premarin family brands; biologics, small molecules, immunotherapies, and biosimilars under the Ibrance, Xtandi, Sutent, Inlyta, Retacrit, Lorbrena, and Braftovi brands; and sterile injectable and anti-infective medicines under the Sulperazon, Medrol, Zithromax, Vfend, and Panzyga brands. The company also provides medicines and vaccines in various therapeutic areas, such as pneumococcal disease, meningococcal disease, tick-borne encephalitis, and COVID-19 under the Prevnar 13/Prevenar 13 (pediatric/adult), Nimenrix, FSME/IMMUN-TicoVac, Trumenba, and the Pfizer-BioNTech COVID-19 vaccine brands; biosimilars for chronic immune and inflammatory diseases under the Xeljanz, Enbrel, Inflectra, and Eucrisa/Staquis brands; and amyloidosis, hemophilia, and endocrine diseases under the Vyndaqel/Vyndamax, BeneFIX, and Genotropin brands. In addition, the company is involved in the contract manufacturing business. It serves wholesalers, retailers, hospitals, clinics, government agencies, pharmacies, and individual provider offices, as well as disease control and prevention centers. The company has collaboration agreements with Bristol-Myers Squibb Company; Astellas Pharma US, Inc.; Myovant Sciences Ltd.; Akcea Therapeutics, Inc; Merck KGaA; Valneva SE; BioNTech SE; Arvinas, Inc.; and Syapse, Inc. Pfizer Inc. was founded in 1849 and is headquartered in New York, New York.',\n",
       " 'city': 'New York',\n",
       " 'phone': '212 733 2323',\n",
       " 'state': 'NY',\n",
       " 'country': 'United States',\n",
       " 'companyOfficers': [],\n",
       " 'website': 'http://www.pfizer.com',\n",
       " 'maxAge': 1,\n",
       " 'address1': '235 East 42nd Street',\n",
       " 'industry': 'Drug Manufacturers—General',\n",
       " 'ebitdaMargins': 0.36270002,\n",
       " 'profitMargins': 0.23798999,\n",
       " 'grossMargins': 0.7112,\n",
       " 'operatingCashflow': 23552000000,\n",
       " 'revenueGrowth': 0.924,\n",
       " 'operatingMargins': 0.2732,\n",
       " 'ebitda': 20137000960,\n",
       " 'targetLowPrice': 38,\n",
       " 'recommendationKey': 'hold',\n",
       " 'grossProfits': 33334000000,\n",
       " 'freeCashflow': 31606624256,\n",
       " 'targetMedianPrice': 44,\n",
       " 'currentPrice': 50.42,\n",
       " 'earningsGrowth': 0.59,\n",
       " 'currentRatio': 1.369,\n",
       " 'returnOnAssets': 0.0545,\n",
       " 'numberOfAnalystOpinions': 20,\n",
       " 'targetMeanPrice': 44.32,\n",
       " 'debtToEquity': 55.809,\n",
       " 'returnOnEquity': 0.18354,\n",
       " 'targetHighPrice': 53,\n",
       " 'totalCash': 21702000640,\n",
       " 'totalDebt': 39241998336,\n",
       " 'totalRevenue': 55520002048,\n",
       " 'totalCashPerShare': 3.871,\n",
       " 'financialCurrency': 'USD',\n",
       " 'revenuePerShare': 9.958,\n",
       " 'quickRatio': 1.011,\n",
       " 'recommendationMean': 2.6,\n",
       " 'exchange': 'NYQ',\n",
       " 'shortName': 'Pfizer, Inc.',\n",
       " 'longName': 'Pfizer Inc.',\n",
       " 'exchangeTimezoneName': 'America/New_York',\n",
       " 'exchangeTimezoneShortName': 'EDT',\n",
       " 'isEsgPopulated': False,\n",
       " 'gmtOffSetMilliseconds': '-14400000',\n",
       " 'quoteType': 'EQUITY',\n",
       " 'symbol': 'PFE',\n",
       " 'messageBoardId': 'finmb_162270',\n",
       " 'market': 'us_market',\n",
       " 'annualHoldingsTurnover': None,\n",
       " 'enterpriseToRevenue': 5.26,\n",
       " 'beta3Year': None,\n",
       " 'enterpriseToEbitda': 14.502,\n",
       " '52WeekChange': 0.34387743,\n",
       " 'morningStarRiskRating': None,\n",
       " 'forwardEps': 3.59,\n",
       " 'revenueQuarterlyGrowth': None,\n",
       " 'sharesOutstanding': 5606689792,\n",
       " 'fundInceptionDate': None,\n",
       " 'annualReportExpenseRatio': None,\n",
       " 'totalAssets': None,\n",
       " 'bookValue': 12.51,\n",
       " 'sharesShort': 54504661,\n",
       " 'sharesPercentSharesOut': 0.0097,\n",
       " 'fundFamily': None,\n",
       " 'lastFiscalYearEnd': 1609372800,\n",
       " 'heldPercentInstitutions': 0.67262,\n",
       " 'netIncomeToCommon': 12323999744,\n",
       " 'trailingEps': 2.342,\n",
       " 'lastDividendValue': None,\n",
       " 'SandP52WeekChange': 0.31953692,\n",
       " 'priceToBook': 4.0303755,\n",
       " 'heldPercentInsiders': 0.00039,\n",
       " 'nextFiscalYearEnd': 1672444800,\n",
       " 'yield': None,\n",
       " 'mostRecentQuarter': 1625356800,\n",
       " 'shortRatio': 2.19,\n",
       " 'sharesShortPreviousMonthDate': 1625011200,\n",
       " 'floatShares': 5600016397,\n",
       " 'beta': 0.67079,\n",
       " 'enterpriseValue': 292036116480,\n",
       " 'priceHint': 2,\n",
       " 'threeYearAverageReturn': None,\n",
       " 'lastSplitDate': None,\n",
       " 'lastSplitFactor': None,\n",
       " 'legalType': None,\n",
       " 'lastDividendDate': None,\n",
       " 'morningStarOverallRating': None,\n",
       " 'earningsQuarterlyGrowth': 0.594,\n",
       " 'priceToSalesTrailing12Months': 5.0916653,\n",
       " 'dateShortInterest': 1627603200,\n",
       " 'pegRatio': 0.94,\n",
       " 'ytdReturn': None,\n",
       " 'forwardPE': 14.044568,\n",
       " 'lastCapGain': None,\n",
       " 'shortPercentOfFloat': 0.0097,\n",
       " 'sharesShortPriorMonth': 63146117,\n",
       " 'impliedSharesOutstanding': None,\n",
       " 'category': None,\n",
       " 'fiveYearAverageReturn': None,\n",
       " 'previousClose': 48.91,\n",
       " 'regularMarketOpen': 48.78,\n",
       " 'twoHundredDayAverage': 38.532463,\n",
       " 'trailingAnnualDividendYield': 0.031486403,\n",
       " 'payoutRatio': 0.7064,\n",
       " 'volume24Hr': None,\n",
       " 'regularMarketDayHigh': 50.49,\n",
       " 'navPrice': None,\n",
       " 'averageDailyVolume10Day': 44584216,\n",
       " 'regularMarketPreviousClose': 48.91,\n",
       " 'fiftyDayAverage': 42.353428,\n",
       " 'trailingAnnualDividendRate': 1.54,\n",
       " 'open': 48.78,\n",
       " 'toCurrency': None,\n",
       " 'averageVolume10days': 44584216,\n",
       " 'expireDate': None,\n",
       " 'algorithm': None,\n",
       " 'dividendRate': 1.56,\n",
       " 'exDividendDate': 1627516800,\n",
       " 'circulatingSupply': None,\n",
       " 'startDate': None,\n",
       " 'regularMarketDayLow': 48.71,\n",
       " 'currency': 'USD',\n",
       " 'trailingPE': 21.528606,\n",
       " 'regularMarketVolume': 68816994,\n",
       " 'lastMarket': None,\n",
       " 'maxSupply': None,\n",
       " 'openInterest': None,\n",
       " 'marketCap': 282689273856,\n",
       " 'volumeAllCurrencies': None,\n",
       " 'strikePrice': None,\n",
       " 'averageVolume': 26157243,\n",
       " 'dayLow': 48.71,\n",
       " 'ask': 50.32,\n",
       " 'askSize': 1200,\n",
       " 'volume': 68816994,\n",
       " 'fiftyTwoWeekHigh': 50.49,\n",
       " 'fromCurrency': None,\n",
       " 'fiveYearAvgDividendYield': 3.7,\n",
       " 'fiftyTwoWeekLow': 32.827324,\n",
       " 'bid': 50.35,\n",
       " 'tradeable': False,\n",
       " 'dividendYield': 0.0319,\n",
       " 'bidSize': 800,\n",
       " 'dayHigh': 50.49,\n",
       " 'regularMarketPrice': 50.42,\n",
       " 'logo_url': 'https://logo.clearbit.com/pfizer.com'}"
      ]
     },
     "execution_count": 142,
     "metadata": {},
     "output_type": "execute_result"
    }
   ],
   "source": [
    "data_accion"
   ]
  },
  {
   "cell_type": "code",
   "execution_count": 136,
   "id": "4d233d37",
   "metadata": {},
   "outputs": [
    {
     "name": "stdout",
     "output_type": "stream",
     "text": [
      "La Beta de la accion PFE es 0.67079\n"
     ]
    }
   ],
   "source": [
    "data['ebitda']\n",
    "data['bookValue']\n",
    "\n",
    "print(f\"La Beta de la accion {accion} es {data['beta']}\")"
   ]
  },
  {
   "cell_type": "code",
   "execution_count": 143,
   "id": "f50a939d",
   "metadata": {},
   "outputs": [
    {
     "data": {
      "text/plain": [
       "Date\n",
       "1972-08-29    0.003163\n",
       "1972-11-28    0.004151\n",
       "1973-02-28    0.003163\n",
       "1973-05-30    0.003163\n",
       "1973-08-28    0.003163\n",
       "                ...   \n",
       "2020-07-30    0.360531\n",
       "2020-11-05    0.360531\n",
       "2021-01-28    0.390000\n",
       "2021-05-06    0.390000\n",
       "2021-07-29    0.390000\n",
       "Name: Dividends, Length: 197, dtype: float64"
      ]
     },
     "execution_count": 143,
     "metadata": {},
     "output_type": "execute_result"
    }
   ],
   "source": [
    "data_yf.dividends"
   ]
  },
  {
   "cell_type": "code",
   "execution_count": 146,
   "id": "756438df",
   "metadata": {},
   "outputs": [
    {
     "data": {
      "text/html": [
       "<div>\n",
       "<style scoped>\n",
       "    .dataframe tbody tr th:only-of-type {\n",
       "        vertical-align: middle;\n",
       "    }\n",
       "\n",
       "    .dataframe tbody tr th {\n",
       "        vertical-align: top;\n",
       "    }\n",
       "\n",
       "    .dataframe thead th {\n",
       "        text-align: right;\n",
       "    }\n",
       "</style>\n",
       "<table border=\"1\" class=\"dataframe\">\n",
       "  <thead>\n",
       "    <tr style=\"text-align: right;\">\n",
       "      <th></th>\n",
       "      <th>2021-07-04</th>\n",
       "      <th>2021-04-04</th>\n",
       "      <th>2020-12-31</th>\n",
       "      <th>2020-09-27</th>\n",
       "    </tr>\n",
       "  </thead>\n",
       "  <tbody>\n",
       "    <tr>\n",
       "      <th>Research Development</th>\n",
       "      <td>2271000000.0</td>\n",
       "      <td>2011000000.0</td>\n",
       "      <td>2828000000.0</td>\n",
       "      <td>2352000000.0</td>\n",
       "    </tr>\n",
       "    <tr>\n",
       "      <th>Effect Of Accounting Charges</th>\n",
       "      <td>None</td>\n",
       "      <td>None</td>\n",
       "      <td>None</td>\n",
       "      <td>None</td>\n",
       "    </tr>\n",
       "    <tr>\n",
       "      <th>Income Before Tax</th>\n",
       "      <td>6608000000.0</td>\n",
       "      <td>5682000000.0</td>\n",
       "      <td>178000000.0</td>\n",
       "      <td>2176000000.0</td>\n",
       "    </tr>\n",
       "    <tr>\n",
       "      <th>Minority Interest</th>\n",
       "      <td>NaN</td>\n",
       "      <td>245000000.0</td>\n",
       "      <td>235000000.0</td>\n",
       "      <td>236000000.0</td>\n",
       "    </tr>\n",
       "    <tr>\n",
       "      <th>Net Income</th>\n",
       "      <td>5563000000.0</td>\n",
       "      <td>4877000000.0</td>\n",
       "      <td>594000000.0</td>\n",
       "      <td>2194000000.0</td>\n",
       "    </tr>\n",
       "    <tr>\n",
       "      <th>Selling General Administrative</th>\n",
       "      <td>2556000000.0</td>\n",
       "      <td>2385000000.0</td>\n",
       "      <td>3481000000.0</td>\n",
       "      <td>2923000000.0</td>\n",
       "    </tr>\n",
       "    <tr>\n",
       "      <th>Gross Profit</th>\n",
       "      <td>11985000000.0</td>\n",
       "      <td>10410000000.0</td>\n",
       "      <td>8797000000.0</td>\n",
       "      <td>9634000000.0</td>\n",
       "    </tr>\n",
       "    <tr>\n",
       "      <th>Ebit</th>\n",
       "      <td>6227000000.0</td>\n",
       "      <td>5142000000.0</td>\n",
       "      <td>1632000000.0</td>\n",
       "      <td>3461000000.0</td>\n",
       "    </tr>\n",
       "    <tr>\n",
       "      <th>Operating Income</th>\n",
       "      <td>6227000000.0</td>\n",
       "      <td>5142000000.0</td>\n",
       "      <td>1632000000.0</td>\n",
       "      <td>3461000000.0</td>\n",
       "    </tr>\n",
       "    <tr>\n",
       "      <th>Other Operating Expenses</th>\n",
       "      <td>None</td>\n",
       "      <td>None</td>\n",
       "      <td>None</td>\n",
       "      <td>None</td>\n",
       "    </tr>\n",
       "    <tr>\n",
       "      <th>Interest Expense</th>\n",
       "      <td>-316000000.0</td>\n",
       "      <td>-336000000.0</td>\n",
       "      <td>-347000000.0</td>\n",
       "      <td>-416000000.0</td>\n",
       "    </tr>\n",
       "    <tr>\n",
       "      <th>Extraordinary Items</th>\n",
       "      <td>None</td>\n",
       "      <td>None</td>\n",
       "      <td>None</td>\n",
       "      <td>None</td>\n",
       "    </tr>\n",
       "    <tr>\n",
       "      <th>Non Recurring</th>\n",
       "      <td>None</td>\n",
       "      <td>None</td>\n",
       "      <td>None</td>\n",
       "      <td>None</td>\n",
       "    </tr>\n",
       "    <tr>\n",
       "      <th>Other Items</th>\n",
       "      <td>None</td>\n",
       "      <td>None</td>\n",
       "      <td>None</td>\n",
       "      <td>None</td>\n",
       "    </tr>\n",
       "    <tr>\n",
       "      <th>Income Tax Expense</th>\n",
       "      <td>1043000000.0</td>\n",
       "      <td>805000000.0</td>\n",
       "      <td>-170000000.0</td>\n",
       "      <td>-26000000.0</td>\n",
       "    </tr>\n",
       "    <tr>\n",
       "      <th>Total Revenue</th>\n",
       "      <td>18977000000.0</td>\n",
       "      <td>14582000000.0</td>\n",
       "      <td>11684000000.0</td>\n",
       "      <td>12131000000.0</td>\n",
       "    </tr>\n",
       "    <tr>\n",
       "      <th>Total Operating Expenses</th>\n",
       "      <td>12750000000.0</td>\n",
       "      <td>9440000000.0</td>\n",
       "      <td>10052000000.0</td>\n",
       "      <td>8670000000.0</td>\n",
       "    </tr>\n",
       "    <tr>\n",
       "      <th>Cost Of Revenue</th>\n",
       "      <td>6992000000.0</td>\n",
       "      <td>4172000000.0</td>\n",
       "      <td>2887000000.0</td>\n",
       "      <td>2497000000.0</td>\n",
       "    </tr>\n",
       "    <tr>\n",
       "      <th>Total Other Income Expense Net</th>\n",
       "      <td>381000000.0</td>\n",
       "      <td>540000000.0</td>\n",
       "      <td>-1454000000.0</td>\n",
       "      <td>-1285000000.0</td>\n",
       "    </tr>\n",
       "    <tr>\n",
       "      <th>Discontinued Operations</th>\n",
       "      <td>24000000.0</td>\n",
       "      <td>9000000.0</td>\n",
       "      <td>257000000.0</td>\n",
       "      <td>257000000.0</td>\n",
       "    </tr>\n",
       "    <tr>\n",
       "      <th>Net Income From Continuing Ops</th>\n",
       "      <td>5565000000.0</td>\n",
       "      <td>4877000000.0</td>\n",
       "      <td>348000000.0</td>\n",
       "      <td>2202000000.0</td>\n",
       "    </tr>\n",
       "    <tr>\n",
       "      <th>Net Income Applicable To Common Shares</th>\n",
       "      <td>5563000000.0</td>\n",
       "      <td>4877000000.0</td>\n",
       "      <td>594000000.0</td>\n",
       "      <td>2194000000.0</td>\n",
       "    </tr>\n",
       "  </tbody>\n",
       "</table>\n",
       "</div>"
      ],
      "text/plain": [
       "                                           2021-07-04     2021-04-04  \\\n",
       "Research Development                     2271000000.0   2011000000.0   \n",
       "Effect Of Accounting Charges                     None           None   \n",
       "Income Before Tax                        6608000000.0   5682000000.0   \n",
       "Minority Interest                                 NaN    245000000.0   \n",
       "Net Income                               5563000000.0   4877000000.0   \n",
       "Selling General Administrative           2556000000.0   2385000000.0   \n",
       "Gross Profit                            11985000000.0  10410000000.0   \n",
       "Ebit                                     6227000000.0   5142000000.0   \n",
       "Operating Income                         6227000000.0   5142000000.0   \n",
       "Other Operating Expenses                         None           None   \n",
       "Interest Expense                         -316000000.0   -336000000.0   \n",
       "Extraordinary Items                              None           None   \n",
       "Non Recurring                                    None           None   \n",
       "Other Items                                      None           None   \n",
       "Income Tax Expense                       1043000000.0    805000000.0   \n",
       "Total Revenue                           18977000000.0  14582000000.0   \n",
       "Total Operating Expenses                12750000000.0   9440000000.0   \n",
       "Cost Of Revenue                          6992000000.0   4172000000.0   \n",
       "Total Other Income Expense Net            381000000.0    540000000.0   \n",
       "Discontinued Operations                    24000000.0      9000000.0   \n",
       "Net Income From Continuing Ops           5565000000.0   4877000000.0   \n",
       "Net Income Applicable To Common Shares   5563000000.0   4877000000.0   \n",
       "\n",
       "                                           2020-12-31     2020-09-27  \n",
       "Research Development                     2828000000.0   2352000000.0  \n",
       "Effect Of Accounting Charges                     None           None  \n",
       "Income Before Tax                         178000000.0   2176000000.0  \n",
       "Minority Interest                         235000000.0    236000000.0  \n",
       "Net Income                                594000000.0   2194000000.0  \n",
       "Selling General Administrative           3481000000.0   2923000000.0  \n",
       "Gross Profit                             8797000000.0   9634000000.0  \n",
       "Ebit                                     1632000000.0   3461000000.0  \n",
       "Operating Income                         1632000000.0   3461000000.0  \n",
       "Other Operating Expenses                         None           None  \n",
       "Interest Expense                         -347000000.0   -416000000.0  \n",
       "Extraordinary Items                              None           None  \n",
       "Non Recurring                                    None           None  \n",
       "Other Items                                      None           None  \n",
       "Income Tax Expense                       -170000000.0    -26000000.0  \n",
       "Total Revenue                           11684000000.0  12131000000.0  \n",
       "Total Operating Expenses                10052000000.0   8670000000.0  \n",
       "Cost Of Revenue                          2887000000.0   2497000000.0  \n",
       "Total Other Income Expense Net          -1454000000.0  -1285000000.0  \n",
       "Discontinued Operations                   257000000.0    257000000.0  \n",
       "Net Income From Continuing Ops            348000000.0   2202000000.0  \n",
       "Net Income Applicable To Common Shares    594000000.0   2194000000.0  "
      ]
     },
     "execution_count": 146,
     "metadata": {},
     "output_type": "execute_result"
    }
   ],
   "source": [
    "data_yf.quarterly_financials"
   ]
  },
  {
   "cell_type": "code",
   "execution_count": null,
   "id": "3f10c916",
   "metadata": {},
   "outputs": [],
   "source": []
  }
 ],
 "metadata": {
  "kernelspec": {
   "display_name": "Python 3",
   "language": "python",
   "name": "python3"
  },
  "language_info": {
   "codemirror_mode": {
    "name": "ipython",
    "version": 3
   },
   "file_extension": ".py",
   "mimetype": "text/x-python",
   "name": "python",
   "nbconvert_exporter": "python",
   "pygments_lexer": "ipython3",
   "version": "3.8.5"
  }
 },
 "nbformat": 4,
 "nbformat_minor": 5
}
