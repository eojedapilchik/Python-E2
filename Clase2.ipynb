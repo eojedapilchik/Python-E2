{
 "cells": [
  {
   "cell_type": "markdown",
   "id": "6f037d40",
   "metadata": {},
   "source": [
    "## Tipos de Datos\n",
    "\n",
    "Relacionado con la variables y se refiere a qué tipo dato estoy almacenando o trabajando.  \n",
    "Numeros, Texto, Lógico (Verdadero o Falso)"
   ]
  },
  {
   "cell_type": "code",
   "execution_count": 1,
   "id": "3ecb8cf5",
   "metadata": {},
   "outputs": [
    {
     "name": "stdout",
     "output_type": "stream",
     "text": [
      "80\n"
     ]
    }
   ],
   "source": [
    "#Entero\n",
    "a = 50\n",
    "b = 30\n",
    "c = a + b\n",
    "print(c)"
   ]
  },
  {
   "cell_type": "code",
   "execution_count": 2,
   "id": "6fdb284a",
   "metadata": {},
   "outputs": [
    {
     "name": "stdout",
     "output_type": "stream",
     "text": [
      "30.02\n"
     ]
    }
   ],
   "source": [
    "#Float (Decimales)\n",
    "e = 10.0\n",
    "f = 20.02\n",
    "g = f + e\n",
    "print(g)"
   ]
  },
  {
   "cell_type": "code",
   "execution_count": 3,
   "id": "56f04b9e",
   "metadata": {},
   "outputs": [
    {
     "name": "stdout",
     "output_type": "stream",
     "text": [
      "1000050\n"
     ]
    }
   ],
   "source": [
    "## Manejo de cifras de los numeros.\n",
    "#precio = 10.000.000,00 ## no funciona\n",
    "precio = 1_000_000\n",
    "print(precio+a)"
   ]
  },
  {
   "cell_type": "code",
   "execution_count": 4,
   "id": "8e79330f",
   "metadata": {},
   "outputs": [],
   "source": [
    "# String (Cadenas de Caracteres)\n",
    "nombre = \"Luis\"\n",
    "appelido = \"Perez\""
   ]
  },
  {
   "cell_type": "code",
   "execution_count": 5,
   "id": "191716f0",
   "metadata": {},
   "outputs": [
    {
     "name": "stdout",
     "output_type": "stream",
     "text": [
      "Luis\n"
     ]
    }
   ],
   "source": [
    "print(nombre)"
   ]
  },
  {
   "cell_type": "code",
   "execution_count": 6,
   "id": "2513e4ea",
   "metadata": {},
   "outputs": [
    {
     "ename": "TypeError",
     "evalue": "unsupported operand type(s) for +: 'int' and 'str'",
     "output_type": "error",
     "traceback": [
      "\u001b[1;31m---------------------------------------------------------------------------\u001b[0m",
      "\u001b[1;31mTypeError\u001b[0m                                 Traceback (most recent call last)",
      "\u001b[1;32m<ipython-input-6-ce59849e94fe>\u001b[0m in \u001b[0;36m<module>\u001b[1;34m\u001b[0m\n\u001b[0;32m      1\u001b[0m \u001b[0mh\u001b[0m\u001b[1;33m=\u001b[0m\u001b[1;34m\"40\"\u001b[0m\u001b[1;33m\u001b[0m\u001b[1;33m\u001b[0m\u001b[0m\n\u001b[1;32m----> 2\u001b[1;33m \u001b[0mprint\u001b[0m\u001b[1;33m(\u001b[0m\u001b[0ma\u001b[0m\u001b[1;33m+\u001b[0m\u001b[0mh\u001b[0m\u001b[1;33m)\u001b[0m  \u001b[1;31m# esto genera un problema porque son dos tipos de datos distintos\u001b[0m\u001b[1;33m\u001b[0m\u001b[1;33m\u001b[0m\u001b[0m\n\u001b[0m",
      "\u001b[1;31mTypeError\u001b[0m: unsupported operand type(s) for +: 'int' and 'str'"
     ]
    }
   ],
   "source": [
    "h=\"40\"\n",
    "print(a+h)  # esto genera un problema porque son dos tipos de datos distintos"
   ]
  },
  {
   "cell_type": "code",
   "execution_count": 11,
   "id": "057de994",
   "metadata": {},
   "outputs": [
    {
     "ename": "TypeError",
     "evalue": "can only concatenate str (not \"int\") to str",
     "output_type": "error",
     "traceback": [
      "\u001b[1;31m---------------------------------------------------------------------------\u001b[0m",
      "\u001b[1;31mTypeError\u001b[0m                                 Traceback (most recent call last)",
      "\u001b[1;32m<ipython-input-11-d7dbe036b17c>\u001b[0m in \u001b[0;36m<module>\u001b[1;34m\u001b[0m\n\u001b[0;32m      1\u001b[0m \u001b[1;31m#entero y decimal si se pueden hacer las operaciones aritmeticas\u001b[0m\u001b[1;33m\u001b[0m\u001b[1;33m\u001b[0m\u001b[1;33m\u001b[0m\u001b[0m\n\u001b[1;32m----> 2\u001b[1;33m \u001b[0mprint\u001b[0m\u001b[1;33m(\u001b[0m\u001b[0ma\u001b[0m\u001b[1;33m+\u001b[0m\u001b[0mf\u001b[0m\u001b[1;33m+\u001b[0m\u001b[1;36m1\u001b[0m\u001b[1;33m)\u001b[0m\u001b[1;33m\u001b[0m\u001b[1;33m\u001b[0m\u001b[0m\n\u001b[0m",
      "\u001b[1;31mTypeError\u001b[0m: can only concatenate str (not \"int\") to str"
     ]
    }
   ],
   "source": [
    "#entero y decimal si se pueden hacer las operaciones aritmeticas\n",
    "print(a+f+1)"
   ]
  },
  {
   "cell_type": "markdown",
   "id": "049b1439",
   "metadata": {},
   "source": [
    "## Operadores"
   ]
  },
  {
   "cell_type": "code",
   "execution_count": 7,
   "id": "55f69b1b",
   "metadata": {},
   "outputs": [
    {
     "name": "stdout",
     "output_type": "stream",
     "text": [
      "80\n",
      "20\n",
      "2.5\n",
      "50\n",
      "2\n",
      "Residuo de la operacion modulo  0\n",
      "3.0\n",
      "8.0\n",
      "8\n",
      "2.0\n",
      "2.56\n",
      "3\n",
      "2\n"
     ]
    }
   ],
   "source": [
    "import math ## esto lo que hace es cargar la libreria math junto con el programa\n",
    "\n",
    "## Estas operaciones no requieren importar Math\n",
    "# Suma / restas\n",
    "print(a+b)\n",
    "print(a-b)\n",
    "\n",
    "# Multiplicación / division\n",
    "print(20/8)\n",
    "print(10*5)\n",
    "\n",
    "# division Entera\n",
    "print(20//8)\n",
    "\n",
    "# Modulo\n",
    "a = 30\n",
    "b = 15\n",
    "c = a % b\n",
    "print(\"Residuo de la operacion modulo \",c)\n",
    "############################################\n",
    "\n",
    "# SI SE NECESITA math\n",
    "#Raiz cuadrada\n",
    "raiz=math.sqrt(9)\n",
    "print(raiz)\n",
    "\n",
    "#Potencia\n",
    "print(math.pow(2,3))\n",
    "print(2**3)\n",
    "\n",
    "#Raiz cubica\n",
    "raiz_cubic = math.pow(8,(1/3))\n",
    "print(raiz_cubic)\n",
    "\n",
    "#Redondear\n",
    "numero = 2.555555\n",
    "print(round(numero, 2)) # redondear a 2 decimales (sin usar math)\n",
    "\n",
    "print(math.ceil(numero))\n",
    "print(math.floor(numero))"
   ]
  },
  {
   "cell_type": "code",
   "execution_count": 8,
   "id": "503c9b91",
   "metadata": {},
   "outputs": [
    {
     "name": "stdout",
     "output_type": "stream",
     "text": [
      "50\n",
      "El valor de a modificado  150\n",
      "El valor de b modificado  150\n",
      "40\n"
     ]
    }
   ],
   "source": [
    "# Simplificar operaciones\n",
    "a = 50\n",
    "print(a)\n",
    "a = a + 100 #lo que estaba en a sumale 100\n",
    "print(\"El valor de a modificado \",a)\n",
    "\n",
    "#Forma simplificado\n",
    "b= 50\n",
    "b+=100 # b = b + 100\n",
    "print(\"El valor de b modificado \",b)\n",
    "\n",
    "c = 20\n",
    "c*=2  # c = c*\n",
    "print(c)"
   ]
  },
  {
   "cell_type": "code",
   "execution_count": 9,
   "id": "6dabdf3f",
   "metadata": {
    "scrolled": true
   },
   "outputs": [
    {
     "name": "stdout",
     "output_type": "stream",
     "text": [
      "300\n",
      "0\n",
      "2.5\n",
      "50\n",
      "2.5\n",
      "residuo de la operación modulo 0\n"
     ]
    }
   ],
   "source": [
    "import math\n",
    "##esto carga la libreria math junto con el programa\n",
    "##Las operaciones simples como suma y resta no requieren importar librerias\n",
    "#Suma / resta\n",
    "print (a+b)\n",
    "print(b-a)\n",
    "#Multiplicación / división \n",
    "print(20/8)\n",
    "print(10*5)\n",
    "#división entera\n",
    "print(20/8)\n",
    "#Modulo arroja el residuo de una división, esto nos ayuda  saber si un numero es divisible entre otro\n",
    "d = 30\n",
    "e = 15 \n",
    "f = d % e\n",
    "print(\"residuo de la operación modulo\", f)"
   ]
  },
  {
   "cell_type": "markdown",
   "id": "c9ab00ca",
   "metadata": {},
   "source": [
    "## Valor de presente Neto (ejercicio)"
   ]
  },
  {
   "cell_type": "code",
   "execution_count": 27,
   "id": "12386301",
   "metadata": {},
   "outputs": [
    {
     "name": "stdout",
     "output_type": "stream",
     "text": [
      "El valor presente neto de este activo/proyecto es  0.9945283553311839\n"
     ]
    }
   ],
   "source": [
    "r = 0.07 # tasa de retorno\n",
    "t = 3 # numero de periodos (años)\n",
    "inversion_inicial =  120\n",
    "valor_nominal = 100 # valor nominal del bono / valor terminal\n",
    "cupon = 15 # flujos de efectivo anuales\n",
    "\n",
    "npv=((valor_nominal+cupon)/(1+r)**(t))+((cupon)/(1+r)**(t-1))+((cupon)/(1+r)**(t-2))-inversion_inicial\n",
    "\n",
    "print(\"El valor presente neto de este activo/proyecto es \",npv)"
   ]
  },
  {
   "cell_type": "code",
   "execution_count": 17,
   "id": "ec9daa19",
   "metadata": {},
   "outputs": [
    {
     "name": "stdout",
     "output_type": "stream",
     "text": [
      "el balance en el año tres seria:  25\n"
     ]
    }
   ],
   "source": [
    "ganancia_proy = -inversion_inicial+cupon+cupon+valor_nominal+cupon\n",
    "print(\"el balance en el año tres seria: \",balance_proy)"
   ]
  },
  {
   "cell_type": "code",
   "execution_count": 21,
   "id": "3815b89a",
   "metadata": {},
   "outputs": [],
   "source": [
    "ganancia_ahor = (inversion_inicial*(1+r)**3)-inversion_inicial"
   ]
  },
  {
   "cell_type": "code",
   "execution_count": 23,
   "id": "dfef5853",
   "metadata": {},
   "outputs": [
    {
     "name": "stdout",
     "output_type": "stream",
     "text": [
      "el balance en el año tres seria:  48.59136000000004\n"
     ]
    }
   ],
   "source": [
    "print(\"el balance en el año tres seria: \",ganancia_ahor)"
   ]
  },
  {
   "cell_type": "markdown",
   "id": "9c626ce3",
   "metadata": {},
   "source": [
    "## Ejercicio Grafico de Velas"
   ]
  },
  {
   "cell_type": "code",
   "execution_count": 48,
   "id": "fe3c867c",
   "metadata": {},
   "outputs": [
    {
     "data": {
      "text/html": [
       "<div>\n",
       "<style scoped>\n",
       "    .dataframe tbody tr th:only-of-type {\n",
       "        vertical-align: middle;\n",
       "    }\n",
       "\n",
       "    .dataframe tbody tr th {\n",
       "        vertical-align: top;\n",
       "    }\n",
       "\n",
       "    .dataframe thead th {\n",
       "        text-align: right;\n",
       "    }\n",
       "</style>\n",
       "<table border=\"1\" class=\"dataframe\">\n",
       "  <thead>\n",
       "    <tr style=\"text-align: right;\">\n",
       "      <th></th>\n",
       "      <th>Open</th>\n",
       "      <th>High</th>\n",
       "      <th>Low</th>\n",
       "      <th>Close</th>\n",
       "      <th>Adj Close</th>\n",
       "      <th>Volume</th>\n",
       "    </tr>\n",
       "    <tr>\n",
       "      <th>Date</th>\n",
       "      <th></th>\n",
       "      <th></th>\n",
       "      <th></th>\n",
       "      <th></th>\n",
       "      <th></th>\n",
       "      <th></th>\n",
       "    </tr>\n",
       "  </thead>\n",
       "  <tbody>\n",
       "    <tr>\n",
       "      <th>2020-08-13</th>\n",
       "      <td>69.089996</td>\n",
       "      <td>69.180000</td>\n",
       "      <td>67.050003</td>\n",
       "      <td>67.830002</td>\n",
       "      <td>67.830002</td>\n",
       "      <td>15055900</td>\n",
       "    </tr>\n",
       "    <tr>\n",
       "      <th>2020-08-14</th>\n",
       "      <td>68.059998</td>\n",
       "      <td>70.360001</td>\n",
       "      <td>67.860001</td>\n",
       "      <td>69.150002</td>\n",
       "      <td>69.150002</td>\n",
       "      <td>12799600</td>\n",
       "    </tr>\n",
       "    <tr>\n",
       "      <th>2020-08-17</th>\n",
       "      <td>69.139999</td>\n",
       "      <td>70.779999</td>\n",
       "      <td>68.379997</td>\n",
       "      <td>69.760002</td>\n",
       "      <td>69.760002</td>\n",
       "      <td>8749100</td>\n",
       "    </tr>\n",
       "    <tr>\n",
       "      <th>2020-08-18</th>\n",
       "      <td>68.279999</td>\n",
       "      <td>69.699997</td>\n",
       "      <td>65.230003</td>\n",
       "      <td>67.029999</td>\n",
       "      <td>67.029999</td>\n",
       "      <td>11329200</td>\n",
       "    </tr>\n",
       "    <tr>\n",
       "      <th>2020-08-19</th>\n",
       "      <td>66.739998</td>\n",
       "      <td>69.169998</td>\n",
       "      <td>66.599998</td>\n",
       "      <td>68.000000</td>\n",
       "      <td>68.000000</td>\n",
       "      <td>8558800</td>\n",
       "    </tr>\n",
       "    <tr>\n",
       "      <th>...</th>\n",
       "      <td>...</td>\n",
       "      <td>...</td>\n",
       "      <td>...</td>\n",
       "      <td>...</td>\n",
       "      <td>...</td>\n",
       "      <td>...</td>\n",
       "    </tr>\n",
       "    <tr>\n",
       "      <th>2021-08-06</th>\n",
       "      <td>410.299988</td>\n",
       "      <td>419.260010</td>\n",
       "      <td>393.609985</td>\n",
       "      <td>413.720001</td>\n",
       "      <td>413.720001</td>\n",
       "      <td>18906600</td>\n",
       "    </tr>\n",
       "    <tr>\n",
       "      <th>2021-08-09</th>\n",
       "      <td>411.300995</td>\n",
       "      <td>493.756989</td>\n",
       "      <td>409.660004</td>\n",
       "      <td>484.470001</td>\n",
       "      <td>484.470001</td>\n",
       "      <td>42269900</td>\n",
       "    </tr>\n",
       "    <tr>\n",
       "      <th>2021-08-10</th>\n",
       "      <td>485.500000</td>\n",
       "      <td>497.489990</td>\n",
       "      <td>454.000000</td>\n",
       "      <td>456.760010</td>\n",
       "      <td>456.760010</td>\n",
       "      <td>36201300</td>\n",
       "    </tr>\n",
       "    <tr>\n",
       "      <th>2021-08-11</th>\n",
       "      <td>443.570007</td>\n",
       "      <td>453.730011</td>\n",
       "      <td>372.000000</td>\n",
       "      <td>385.329987</td>\n",
       "      <td>385.329987</td>\n",
       "      <td>53483600</td>\n",
       "    </tr>\n",
       "    <tr>\n",
       "      <th>2021-08-12</th>\n",
       "      <td>400.000000</td>\n",
       "      <td>406.349915</td>\n",
       "      <td>377.090088</td>\n",
       "      <td>391.420013</td>\n",
       "      <td>391.420013</td>\n",
       "      <td>34214097</td>\n",
       "    </tr>\n",
       "  </tbody>\n",
       "</table>\n",
       "<p>252 rows × 6 columns</p>\n",
       "</div>"
      ],
      "text/plain": [
       "                  Open        High         Low       Close   Adj Close  \\\n",
       "Date                                                                     \n",
       "2020-08-13   69.089996   69.180000   67.050003   67.830002   67.830002   \n",
       "2020-08-14   68.059998   70.360001   67.860001   69.150002   69.150002   \n",
       "2020-08-17   69.139999   70.779999   68.379997   69.760002   69.760002   \n",
       "2020-08-18   68.279999   69.699997   65.230003   67.029999   67.029999   \n",
       "2020-08-19   66.739998   69.169998   66.599998   68.000000   68.000000   \n",
       "...                ...         ...         ...         ...         ...   \n",
       "2021-08-06  410.299988  419.260010  393.609985  413.720001  413.720001   \n",
       "2021-08-09  411.300995  493.756989  409.660004  484.470001  484.470001   \n",
       "2021-08-10  485.500000  497.489990  454.000000  456.760010  456.760010   \n",
       "2021-08-11  443.570007  453.730011  372.000000  385.329987  385.329987   \n",
       "2021-08-12  400.000000  406.349915  377.090088  391.420013  391.420013   \n",
       "\n",
       "              Volume  \n",
       "Date                  \n",
       "2020-08-13  15055900  \n",
       "2020-08-14  12799600  \n",
       "2020-08-17   8749100  \n",
       "2020-08-18  11329200  \n",
       "2020-08-19   8558800  \n",
       "...              ...  \n",
       "2021-08-06  18906600  \n",
       "2021-08-09  42269900  \n",
       "2021-08-10  36201300  \n",
       "2021-08-11  53483600  \n",
       "2021-08-12  34214097  \n",
       "\n",
       "[252 rows x 6 columns]"
      ]
     },
     "execution_count": 48,
     "metadata": {},
     "output_type": "execute_result"
    }
   ],
   "source": [
    "import pandas as pd\n",
    "import mplfinance as mpf\n",
    "stock_data = pd.read_csv('MRNA.csv', index_col=0, parse_dates= True)\n",
    "stock_data"
   ]
  },
  {
   "cell_type": "code",
   "execution_count": 49,
   "id": "04da7aec",
   "metadata": {},
   "outputs": [
    {
     "data": {
      "image/png": "[encoded data removed]",
      "text/plain": [
       "<Figure size 800x575 with 4 Axes>"
      ]
     },
     "metadata": {},
     "output_type": "display_data"
    }
   ],
   "source": [
    "mpf.plot(stock_data, style='yahoo', mav=(9,22,100), volume=True, ylabel=\"Precios\")"
   ]
  },
  {
   "cell_type": "code",
   "execution_count": 46,
   "id": "efe3cb19",
   "metadata": {},
   "outputs": [],
   "source": [
    "dolar_data = pd.read_excel('DOLAR.xlsx', parse_dates= True)"
   ]
  },
  {
   "cell_type": "code",
   "execution_count": 47,
   "id": "76767930",
   "metadata": {},
   "outputs": [
    {
     "data": {
      "text/plain": [
       "<AxesSubplot:xlabel='Fecha'>"
      ]
     },
     "execution_count": 47,
     "metadata": {},
     "output_type": "execute_result"
    },
    {
     "data": {
      "image/png": "[encoded data removed]",
      "text/plain": [
       "<Figure size 640x480 with 1 Axes>"
      ]
     },
     "metadata": {},
     "output_type": "display_data"
    }
   ],
   "source": [
    "dolar_data.plot(x=\"Fecha\", y='DolarToday')"
   ]
  },
  {
   "cell_type": "code",
   "execution_count": null,
   "id": "763a6da9",
   "metadata": {},
   "outputs": [],
   "source": []
  }
 ],
 "metadata": {
  "celltoolbar": "Raw Cell Format",
  "kernelspec": {
   "display_name": "Python 3",
   "language": "python",
   "name": "python3"
  },
  "language_info": {
   "codemirror_mode": {
    "name": "ipython",
    "version": 3
   },
   "file_extension": ".py",
   "mimetype": "text/x-python",
   "name": "python",
   "nbconvert_exporter": "python",
   "pygments_lexer": "ipython3",
   "version": "3.8.5"
  }
 },
 "nbformat": 4,
 "nbformat_minor": 5
}
