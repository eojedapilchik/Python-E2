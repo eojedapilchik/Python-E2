{
 "cells": [
  {
   "cell_type": "code",
   "execution_count": 4,
   "id": "7c3a11f2",
   "metadata": {},
   "outputs": [
    {
     "ename": "IndentationError",
     "evalue": "unexpected indent (<ipython-input-4-385f8179a72e>, line 3)",
     "output_type": "error",
     "traceback": [
      "\u001b[1;36m  File \u001b[1;32m\"<ipython-input-4-385f8179a72e>\"\u001b[1;36m, line \u001b[1;32m3\u001b[0m\n\u001b[1;33m    b = 1 # error tiene un espacio adelante, no respeta la indentación correcta.\u001b[0m\n\u001b[1;37m    ^\u001b[0m\n\u001b[1;31mIndentationError\u001b[0m\u001b[1;31m:\u001b[0m unexpected indent\n"
     ]
    }
   ],
   "source": [
    "#Indentación / espaciado en python\n",
    "a = 1\n",
    " b = 1 # error tiene un espacio adelante, no respeta la indentación correcta."
   ]
  },
  {
   "cell_type": "markdown",
   "id": "63da25ad",
   "metadata": {},
   "source": [
    "Cheat Sheet de Markdown  \n",
    "https://www.markdownguide.org/cheat-sheet/"
   ]
  },
  {
   "cell_type": "markdown",
   "id": "7eba4a28",
   "metadata": {},
   "source": [
    "## Estructuras de Decisión"
   ]
  },
  {
   "cell_type": "markdown",
   "id": "53b5935b",
   "metadata": {},
   "source": [
    "sirven para controlar el flujo de un programa -> bifurcar cuales acciones debe tomar el programa basado en ciertas condiciones\n",
    "\n",
    "a == b  (Si el valor de a es identico a el valor de b)  \n",
    "1 == 1 (SI -> True)  \n",
    "1 == 0 (NO -> False)  \n",
    "\n",
    "2 != 2 (True)   => != evalua si dos variables o datos son distintos  "
   ]
  },
  {
   "cell_type": "markdown",
   "id": "22a0f584",
   "metadata": {},
   "source": [
    "| Operador | Description | Ejemplo      |\n",
    "| ---------| ----------- |--------------|\n",
    "| ==     | Valores son iguales | 1 == 1|\n"
   ]
  },
  {
   "cell_type": "code",
   "execution_count": 9,
   "id": "7d42ac8c",
   "metadata": {},
   "outputs": [
    {
     "name": "stdout",
     "output_type": "stream",
     "text": [
      "True\n",
      "False\n",
      "False\n"
     ]
    }
   ],
   "source": [
    "## Operando de igualdad ( ==).\n",
    "print(1==1)\n",
    "print(1=='1') # no es igual porque son tipos de datos distintos\n",
    "print('Hola'=='hOla')"
   ]
  },
  {
   "cell_type": "code",
   "execution_count": 11,
   "id": "64d85c7f",
   "metadata": {},
   "outputs": [
    {
     "name": "stdout",
     "output_type": "stream",
     "text": [
      "True\n",
      "False\n"
     ]
    }
   ],
   "source": [
    "## Operando de desigualdad ( !=)\n",
    "a = 20\n",
    "b = 50\n",
    "print(a!=b)\n",
    "print(a!=a)"
   ]
  },
  {
   "cell_type": "code",
   "execution_count": 15,
   "id": "97360b7a",
   "metadata": {},
   "outputs": [
    {
     "name": "stdout",
     "output_type": "stream",
     "text": [
      "10 20 30\n"
     ]
    }
   ],
   "source": [
    "#multiple asignacion de variables en una sola linea de código\n",
    "a,b,c = 10,20,30\n",
    "print(a,b,c)"
   ]
  },
  {
   "cell_type": "code",
   "execution_count": 36,
   "id": "460d6981",
   "metadata": {},
   "outputs": [
    {
     "name": "stdout",
     "output_type": "stream",
     "text": [
      "False\n",
      "False\n",
      "True\n"
     ]
    }
   ],
   "source": [
    "# Mayor que >\n",
    "print(10>20)\n",
    "print(10>10)\n",
    "print(10.00000000000001>=10) # problema de precision"
   ]
  },
  {
   "cell_type": "code",
   "execution_count": 33,
   "id": "d75b775f",
   "metadata": {},
   "outputs": [
    {
     "name": "stdout",
     "output_type": "stream",
     "text": [
      "False\n",
      "True\n"
     ]
    }
   ],
   "source": [
    "# Menor que <\n",
    "print(20<10)\n",
    "print(2<10)"
   ]
  },
  {
   "cell_type": "code",
   "execution_count": 46,
   "id": "40cbf0a5",
   "metadata": {},
   "outputs": [
    {
     "name": "stdout",
     "output_type": "stream",
     "text": [
      "True\n",
      "True\n",
      "False\n"
     ]
    }
   ],
   "source": [
    "# Mayor o igual que >=\n",
    "print(10>=10)\n",
    "print(11>=10)\n",
    "print(9.999>=10)"
   ]
  },
  {
   "cell_type": "code",
   "execution_count": 47,
   "id": "c51e5af8",
   "metadata": {},
   "outputs": [
    {
     "name": "stdout",
     "output_type": "stream",
     "text": [
      "True\n",
      "False\n",
      "True\n"
     ]
    }
   ],
   "source": [
    "#Menor o igual que <=\n",
    "print(10<=10)\n",
    "print(11<=10)\n",
    "print(9.999<=10)"
   ]
  },
  {
   "cell_type": "code",
   "execution_count": 50,
   "id": "d46ae0fa",
   "metadata": {},
   "outputs": [
    {
     "name": "stdout",
     "output_type": "stream",
     "text": [
      "False\n",
      "True\n",
      "False\n"
     ]
    }
   ],
   "source": [
    "## AND (y) \n",
    "edad = 8\n",
    "genero = \"femenino\"\n",
    "nacionalidad = \"venezolana\"\n",
    "\n",
    "print(edad>=18 and genero==\"femenino\" and nacionalidad==\"Europa\")\n",
    "print(edad>=8 and genero==\"femenino\" and nacionalidad==\"venezolana\")\n",
    "print(edad>=8 and genero==\"femenina\" and nacionalidad==\"venezolano\")"
   ]
  },
  {
   "cell_type": "code",
   "execution_count": 53,
   "id": "47afb3cf",
   "metadata": {},
   "outputs": [
    {
     "name": "stdout",
     "output_type": "stream",
     "text": [
      "True\n",
      "True\n",
      "True\n",
      "False\n"
     ]
    }
   ],
   "source": [
    "## OR (o)  => ( True or False = True, \n",
    "# False Or True = True, \n",
    "# True or True = True, \n",
    "# False or False = False)\n",
    "edad = 8\n",
    "genero = \"femenino\"\n",
    "\n",
    "print(edad==8 or genero==\"femenino\")\n",
    "print(edad<=8 or genero==\"femenino\")\n",
    "print(edad>=8 or genero==\"femenina\")\n",
    "print(edad<8 or genero==\"femenina\")"
   ]
  },
  {
   "cell_type": "code",
   "execution_count": 10,
   "id": "cba8ea7d",
   "metadata": {},
   "outputs": [
    {
     "name": "stdout",
     "output_type": "stream",
     "text": [
      "False\n",
      "True\n"
     ]
    },
    {
     "ename": "NameError",
     "evalue": "name 'edad' is not defined",
     "output_type": "error",
     "traceback": [
      "\u001b[1;31m---------------------------------------------------------------------------\u001b[0m",
      "\u001b[1;31mNameError\u001b[0m                                 Traceback (most recent call last)",
      "\u001b[1;32m<ipython-input-10-9df700cae174>\u001b[0m in \u001b[0;36m<module>\u001b[1;34m\u001b[0m\n\u001b[0;32m      3\u001b[0m \u001b[0mprint\u001b[0m\u001b[1;33m(\u001b[0m \u001b[1;32mnot\u001b[0m \u001b[1;32mFalse\u001b[0m\u001b[1;33m)\u001b[0m\u001b[1;33m\u001b[0m\u001b[1;33m\u001b[0m\u001b[0m\n\u001b[0;32m      4\u001b[0m \u001b[1;33m\u001b[0m\u001b[0m\n\u001b[1;32m----> 5\u001b[1;33m \u001b[0mprint\u001b[0m\u001b[1;33m(\u001b[0m\u001b[1;32mnot\u001b[0m\u001b[1;33m(\u001b[0m\u001b[0medad\u001b[0m\u001b[1;33m>=\u001b[0m\u001b[1;36m8\u001b[0m \u001b[1;32mand\u001b[0m \u001b[0mgenero\u001b[0m\u001b[1;33m==\u001b[0m\u001b[1;34m\"femenino\"\u001b[0m\u001b[1;33m)\u001b[0m\u001b[1;33m)\u001b[0m\u001b[1;33m\u001b[0m\u001b[1;33m\u001b[0m\u001b[0m\n\u001b[0m",
      "\u001b[1;31mNameError\u001b[0m: name 'edad' is not defined"
     ]
    }
   ],
   "source": [
    "#Negación (Not)\n",
    "print( not True)\n",
    "print( not False)\n",
    "\n",
    "print(not(edad>=8 and genero==\"femenino\"))"
   ]
  },
  {
   "cell_type": "markdown",
   "id": "4e59cb53",
   "metadata": {},
   "source": [
    "## Bloques de Decision (IF, ELIF, ELSE)"
   ]
  },
  {
   "cell_type": "code",
   "execution_count": 68,
   "id": "862792d6",
   "metadata": {},
   "outputs": [
    {
     "name": "stdout",
     "output_type": "stream",
     "text": [
      "Dime el nombre de una accionbaba\n",
      "Fin del programa\n"
     ]
    }
   ],
   "source": [
    "accion = input(\"Dime el nombre de una accion\")\n",
    "#accion=accion.upper()  ## convertir el texto todo a mayusculas\n",
    "\n",
    "#bloque if\n",
    "if accion == \"BABA\":\n",
    "    print(\"La accion seleccionada es Alibaba\")\n",
    "#fin del bloque\n",
    "print(\"Fin del programa\")"
   ]
  },
  {
   "cell_type": "code",
   "execution_count": 72,
   "id": "657e9d5d",
   "metadata": {},
   "outputs": [
    {
     "name": "stdout",
     "output_type": "stream",
     "text": [
      "Escriba su edad  para indicarle la exposicion al riesgo que deberia tener-1\n",
      "Usted deberia asumir un riesgo No se puede determinar\n"
     ]
    }
   ],
   "source": [
    "edad =int(input(\"Escriba su edad  para indicarle la exposicion al riesgo que deberia tener\"))\n",
    "\n",
    "# inicio de bloque condicional\n",
    "if (edad >0 and edad < 35):\n",
    "    riesgo =\"Alto\"\n",
    "elif edad >=35 and edad <=55:\n",
    "    riesgo =\"Moderado\"\n",
    "elif edad >55:\n",
    "    riesgo =\"Bajo\"\n",
    "else:\n",
    "    riesgo =\"No se puede determinar\"\n",
    "#final del bloque\n",
    "\n",
    "print(f\"Usted deberia asumir un riesgo {riesgo}\")"
   ]
  },
  {
   "cell_type": "markdown",
   "id": "25eeddac",
   "metadata": {},
   "source": [
    "## Estructura de Repeteción\n",
    "\n",
    "Se usa para repetir una acción de código muchas veces. Iterar"
   ]
  },
  {
   "cell_type": "code",
   "execution_count": 88,
   "id": "592c000b",
   "metadata": {},
   "outputs": [
    {
     "name": "stdout",
     "output_type": "stream",
     "text": [
      "El valor de contador es 0\n",
      "El valor de contador es 1\n",
      "El valor de contador es 2\n",
      "El valor de contador es 3\n",
      "El valor de contador es 4\n",
      "El valor de contador es 5\n",
      "El valor de contador es 6\n",
      "El valor de contador es 7\n",
      "El valor de contador es 8\n",
      "El valor de contador es 9\n",
      "El valor de contador es 10\n",
      "El valor de contador es 11\n",
      "El valor de contador es 12\n",
      "El valor de contador es 13\n",
      "El valor de contador es 14\n",
      "El valor de contador es 15\n",
      "El valor de contador es 16\n",
      "El valor de contador es 17\n",
      "El valor de contador es 18\n",
      "El valor de contador es 19\n",
      "El valor de contador es 20\n",
      "El valor de contador es 21\n",
      "El valor de contador es 22\n",
      "El valor de contador es 23\n",
      "El valor de contador es 24\n",
      "El valor de contador es 25\n",
      "Programa Terminado\n"
     ]
    }
   ],
   "source": [
    "## While  => repetir hasta que se cumpla una condicion.\n",
    "# IMPORTANTE: asegurarse que exista la condicion de parada del while, porque sino es infinito\n",
    "\n",
    "contador =0\n",
    "\n",
    "#inicio del bloque de repetición\n",
    "while (contador<=25): # condición de parada\n",
    "    print(f\"El valor de contador es {contador}\")\n",
    "    contador+=1   #variable de parada.\n",
    "#fin del bloque de repetición\n",
    "print('Programa Terminado')\n",
    "\n"
   ]
  },
  {
   "cell_type": "markdown",
   "id": "dd43c3b1",
   "metadata": {},
   "source": [
    "## Automatización de emails"
   ]
  },
  {
   "cell_type": "code",
   "execution_count": 8,
   "id": "516a531b",
   "metadata": {},
   "outputs": [],
   "source": [
    "import smtplib, ssl\n",
    "import getpass # para solicitar contraseña\n",
    "from datetime import datetime\n",
    "\n",
    "from email.mime.text import MIMEText\n",
    "from email.mime.multipart import MIMEMultipart\n",
    "\n",
    "import csv"
   ]
  },
  {
   "cell_type": "code",
   "execution_count": 6,
   "id": "d5bebb9f",
   "metadata": {
    "scrolled": true
   },
   "outputs": [
    {
     "name": "stdout",
     "output_type": "stream",
     "text": [
      "Introduce la contraseña del correo········\n"
     ]
    }
   ],
   "source": [
    "port = 587\n",
    "smtp_server = \"smtp.gmail.com\"\n",
    "receptor = \"3sesentamundo@gmail.com\"\n",
    "emisor = \"pythonmassaber@gmail.com\"\n",
    "password = getpass.getpass(\"Introduce la contraseña del correo\")\n",
    "nombre = \"William\"\n",
    "apellido = \"Nadales\"\n",
    "fecha =datetime.now()\n",
    "mensaje =f\"\"\"\\\n",
    "To: {nombre}{apellido}\n",
    "\\\n",
    "Subject:  Correo automatico de la Clase de Pyton \n",
    "\n",
    "Hola {nombre},{apellido} este mensaje se envió directamente con un script de Python.\n",
    "Fecha: {fecha}\n",
    "\n",
    "Saludos cordiales,\n",
    "\n",
    "Python Bot\n",
    "\n",
    "\"\"\"\n",
    "\n",
    "# Enviar el correo\n",
    "\n",
    "context = ssl.create_default_context()\n",
    "\n",
    "with smtplib.SMTP(smtp_server,port) as server:\n",
    "    server.ehlo()\n",
    "    server.starttls(context=context)\n",
    "    server.ehlo()\n",
    "    server.login(emisor,password)\n",
    "    server.sendmail(emisor, receptor, mensaje.encode('utf-8'))"
   ]
  },
  {
   "cell_type": "code",
   "execution_count": 87,
   "id": "7f21d8d1",
   "metadata": {},
   "outputs": [],
   "source": [
    "#enviar el email html\n",
    "nombre = \"Carmelo\"\n",
    "apellido = \"Marzullo\"\n",
    "receptor = \"cmarzullos@gmail.com\"\n",
    "archivo = open(\"email_template.html\",\"r\")\n",
    "html = archivo.read()\n",
    "archivo.close()\n",
    "#print(html)\n",
    "html = html.replace(\"{nombre}\",nombre)\n",
    "html = html.replace(\"{apellido}\",apellido)\n",
    "#print(html)\n",
    "\n",
    "message = MIMEMultipart(\"alternative\")\n",
    "message[\"Subject\"] = \"Email enviado desde Python Bot! 2\"\n",
    "message[\"From\"] = emisor\n",
    "message[\"To\"]=receptor\n",
    "\n",
    "message.attach(MIMEText(html,\"html\"))\n",
    "\n",
    "context = ssl.create_default_context()\n",
    "\n",
    "with smtplib.SMTP(smtp_server,port) as server:\n",
    "    server.ehlo()\n",
    "    server.starttls(context=context)\n",
    "    server.ehlo()\n",
    "    server.login(emisor,password)\n",
    "    server.sendmail(emisor, receptor, message.as_string())"
   ]
  },
  {
   "cell_type": "code",
   "execution_count": null,
   "id": "53c5aadf",
   "metadata": {},
   "outputs": [],
   "source": []
  }
 ],
 "metadata": {
  "kernelspec": {
   "display_name": "Python 3",
   "language": "python",
   "name": "python3"
  },
  "language_info": {
   "codemirror_mode": {
    "name": "ipython",
    "version": 3
   },
   "file_extension": ".py",
   "mimetype": "text/x-python",
   "name": "python",
   "nbconvert_exporter": "python",
   "pygments_lexer": "ipython3",
   "version": "3.8.5"
  }
 },
 "nbformat": 4,
 "nbformat_minor": 5
}
