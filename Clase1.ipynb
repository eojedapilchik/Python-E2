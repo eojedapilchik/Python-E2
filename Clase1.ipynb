{
 "cells": [
  {
   "cell_type": "markdown",
   "id": "4fa4a532",
   "metadata": {},
   "source": [
    "# Primera Clase"
   ]
  },
  {
   "cell_type": "markdown",
   "id": "2a148e8d",
   "metadata": {},
   "source": [
    "## Aprendiendo de Python"
   ]
  },
  {
   "cell_type": "markdown",
   "id": "6a5a1039",
   "metadata": {},
   "source": [
    "Primer cuaderno de **Pyhton** "
   ]
  },
  {
   "cell_type": "code",
   "execution_count": 6,
   "id": "a0d9e794",
   "metadata": {},
   "outputs": [
    {
     "name": "stdout",
     "output_type": "stream",
     "text": [
      "Hola Mundo\n"
     ]
    }
   ],
   "source": [
    "print(\"Hola Mundo\")"
   ]
  },
  {
   "cell_type": "markdown",
   "id": "eecdc139",
   "metadata": {},
   "source": [
    "### Comentarios"
   ]
  },
  {
   "cell_type": "code",
   "execution_count": 10,
   "id": "81b0ad2f",
   "metadata": {},
   "outputs": [
    {
     "name": "stdout",
     "output_type": "stream",
     "text": [
      "Esto es un texto\n"
     ]
    }
   ],
   "source": [
    "# Print es una funcion de Python para imprimir un texto por pantalla\n",
    "print(\"Esto es un texto\")"
   ]
  },
  {
   "cell_type": "code",
   "execution_count": 11,
   "id": "44cb39b6",
   "metadata": {},
   "outputs": [
    {
     "data": {
      "text/plain": [
       "'Esto es un comentario\\nde multiples lineas\\n'"
      ]
     },
     "execution_count": 11,
     "metadata": {},
     "output_type": "execute_result"
    }
   ],
   "source": [
    "\"\"\"Esto es un comentario\n",
    "de multiples lineas\n",
    "\"\"\""
   ]
  },
  {
   "cell_type": "markdown",
   "id": "9d8e5009",
   "metadata": {},
   "source": [
    "## Variables"
   ]
  },
  {
   "cell_type": "code",
   "execution_count": 16,
   "id": "e7c75f5b",
   "metadata": {},
   "outputs": [
    {
     "name": "stdout",
     "output_type": "stream",
     "text": [
      "Estas seguro que quieres analizar a  APPL\n"
     ]
    }
   ],
   "source": [
    "#Asignacion de una variable\n",
    "simbolo=\"APPL\"\n",
    "# Esto es una forma de ver en que posicion de memoria esta el dato almacenado o la variable -> Apuntador\n",
    "#hex(id(simbolo))\n",
    "print(\"Estas seguro que quieres analizar a \",simbolo)"
   ]
  },
  {
   "cell_type": "code",
   "execution_count": 17,
   "id": "6741b0af",
   "metadata": {},
   "outputs": [
    {
     "name": "stdout",
     "output_type": "stream",
     "text": [
      "45\n"
     ]
    }
   ],
   "source": [
    "edad = 35\n",
    "print(edad+10)"
   ]
  },
  {
   "cell_type": "code",
   "execution_count": 27,
   "id": "b5a3e4b3",
   "metadata": {},
   "outputs": [
    {
     "name": "stdout",
     "output_type": "stream",
     "text": [
      "dime tu nombreAlcides\n"
     ]
    }
   ],
   "source": [
    "primer_nombre=input(\"dime tu nombre\")\n",
    "#camelcase\n",
    "segundoNombre = \"Eduardo\""
   ]
  },
  {
   "cell_type": "code",
   "execution_count": 30,
   "id": "98699bc4",
   "metadata": {},
   "outputs": [],
   "source": [
    "accion = \"AAPL\""
   ]
  },
  {
   "cell_type": "code",
   "execution_count": null,
   "id": "fc5a16a9",
   "metadata": {},
   "outputs": [],
   "source": []
  }
 ],
 "metadata": {
  "kernelspec": {
   "display_name": "Python 3",
   "language": "python",
   "name": "python3"
  },
  "language_info": {
   "codemirror_mode": {
    "name": "ipython",
    "version": 3
   },
   "file_extension": ".py",
   "mimetype": "text/x-python",
   "name": "python",
   "nbconvert_exporter": "python",
   "pygments_lexer": "ipython3",
   "version": "3.8.5"
  }
 },
 "nbformat": 4,
 "nbformat_minor": 5
}
