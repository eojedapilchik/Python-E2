{
 "cells": [
  {
   "cell_type": "markdown",
   "id": "218e4495",
   "metadata": {},
   "source": [
    "## While con Decisiones"
   ]
  },
  {
   "cell_type": "code",
   "execution_count": 14,
   "id": "547013e8",
   "metadata": {
    "scrolled": true
   },
   "outputs": [
    {
     "name": "stdout",
     "output_type": "stream",
     "text": [
      "Imprimir los numeros divisibles entre 5\n",
      "El numero 235 es divisible entre 5\n",
      "Fin del programa\n"
     ]
    }
   ],
   "source": [
    "import random # no necesariamente hay que ponerle un alias\n",
    "print(\"Imprimir los numeros divisibles entre 5\")\n",
    "contador =0\n",
    "while (contador <10):\n",
    "    number = random.randint(1,1000)\n",
    "    #print(number)\n",
    "    contador+=1\n",
    "    if((number%5)==0):\n",
    "        print(f\"El numero {number} es divisible entre 5\") \n",
    "        break\n",
    "print(\"Fin del programa\")"
   ]
  },
  {
   "cell_type": "code",
   "execution_count": 46,
   "id": "398c2158",
   "metadata": {},
   "outputs": [
    {
     "name": "stdout",
     "output_type": "stream",
     "text": [
      "Imprimir los numeros divisibles entre 5\n",
      "El numero 960 es divisible entre 5\n",
      "No es divisible entre 5\n",
      "Otro codigo a ejecutar\n",
      "Numero: 667 1\n",
      "No es divisible entre 5\n",
      "Otro codigo a ejecutar\n",
      "Numero: 409 2\n",
      "No es divisible entre 5\n",
      "Otro codigo a ejecutar\n",
      "Numero: 553 3\n",
      "El numero 290 es divisible entre 5\n",
      "No es divisible entre 5\n",
      "Otro codigo a ejecutar\n",
      "Numero: 871 4\n",
      "No es divisible entre 5\n",
      "Otro codigo a ejecutar\n",
      "Numero: 217 5\n",
      "El numero 632 es divisible entre 2\n",
      "Otro codigo a ejecutar\n",
      "Numero: 632 6\n",
      "El numero 738 es divisible entre 3\n",
      "Otro codigo a ejecutar\n",
      "Numero: 738 7\n",
      "El numero 987 es divisible entre 3\n",
      "Otro codigo a ejecutar\n",
      "Numero: 987 8\n",
      "Fin del programa\n"
     ]
    }
   ],
   "source": [
    "import random # no necesariamente hay que ponerle un alias\n",
    "print(\"Imprimir los numeros divisibles entre 5\")\n",
    "contador =0\n",
    "x=0\n",
    "#  Inicio del bloque while\n",
    "while (contador <10):\n",
    "    number = random.randint(1,1000)\n",
    "    #print(number)\n",
    "    contador+=1\n",
    "    \n",
    "    #bloque if\n",
    "    if((number%5)==0):\n",
    "        print(f\"El numero {number} es divisible entre 5\") \n",
    "        continue\n",
    "    elif((number%3)==0):\n",
    "         print(f\"El numero {number} es divisible entre 3\") \n",
    "    elif((number%2)==0):\n",
    "         print(f\"El numero {number} es divisible entre 2\") \n",
    "    else:\n",
    "        print(\"No es divisible entre 5\")\n",
    "    ## fin del bloque if\n",
    "    \n",
    "    print(\"Otro codigo a ejecutar\")\n",
    "    x=x+1\n",
    "    print(f\"Numero: {number} {x}\" )\n",
    "### Fin del bloque while\n",
    "\n",
    "print(\"Fin del programa\")"
   ]
  },
  {
   "cell_type": "code",
   "execution_count": 39,
   "id": "6507ca02",
   "metadata": {},
   "outputs": [
    {
     "name": "stdout",
     "output_type": "stream",
     "text": [
      "Hackear una contraseña\n",
      "La contraseña es 895858\n",
      "Fin del programa\n"
     ]
    }
   ],
   "source": [
    "print(\"Hackear una contraseña\")\n",
    "contrasena = 895858\n",
    "hack =0\n",
    "while (hack != contrasena):\n",
    "    hack+=1\n",
    "    if(hack==contrasena):\n",
    "        print(f\"La contraseña es {hack}\") \n",
    "        break\n",
    "print(\"Fin del programa\")"
   ]
  },
  {
   "cell_type": "markdown",
   "id": "abae1ddd",
   "metadata": {},
   "source": [
    "## For loops"
   ]
  },
  {
   "cell_type": "code",
   "execution_count": 21,
   "id": "6c7a03da",
   "metadata": {},
   "outputs": [
    {
     "name": "stdout",
     "output_type": "stream",
     "text": [
      "El flujo de efectivo es -100\n",
      "El flujo de efectivo es 10\n",
      "El flujo de efectivo es 20\n",
      "El flujo de efectivo es 50\n",
      "El flujo de efectivo es 40\n",
      "El flujo de efectivo es 75\n",
      "El flujo de efectivo es 3\n",
      "El flujo de efectivo es 4\n",
      "El flujo de efectivo es 6\n",
      "Cantidad de iteraciones 9\n"
     ]
    }
   ],
   "source": [
    "cont=0\n",
    "flujos = [-100,10,20,50,40,75,3,4,6]\n",
    "for flujo in flujos:\n",
    "    print(f\"El flujo de efectivo es {flujo}\")\n",
    "    cont+=1\n",
    "\n",
    "print(f\"Cantidad de iteraciones {cont}\")\n",
    "    "
   ]
  },
  {
   "cell_type": "code",
   "execution_count": 49,
   "id": "a90a3f6c",
   "metadata": {},
   "outputs": [
    {
     "name": "stdout",
     "output_type": "stream",
     "text": [
      "El flujo de efectivo es 10\n",
      "El flujo de efectivo es 20\n",
      "El flujo de efectivo es 50\n",
      "El flujo de efectivo es 40\n",
      "El flujo de efectivo es 75\n",
      "El flujo de efectivo es 3\n",
      "El flujo de efectivo es 4\n",
      "El flujo de efectivo es 6\n",
      "Cantidad de iteraciones 8\n"
     ]
    }
   ],
   "source": [
    "cont=0\n",
    "flujos = [-100,10,20,50,40,75,3,4,6]\n",
    "for flujo in flujos:\n",
    "    if(flujo<0):\n",
    "        continue\n",
    "    print(f\"El flujo de efectivo es {flujo}\")\n",
    "    cont+=1\n",
    "\n",
    "print(f\"Cantidad de iteraciones {cont}\")\n",
    "    "
   ]
  },
  {
   "cell_type": "code",
   "execution_count": 50,
   "id": "f847023f",
   "metadata": {},
   "outputs": [
    {
     "name": "stdout",
     "output_type": "stream",
     "text": [
      "El flujo de efectivo es -100\n",
      "Cantidad de iteraciones 1\n"
     ]
    }
   ],
   "source": [
    "cont=0\n",
    "flujos = [-100,10,20,50,40,75,3,4,6]\n",
    "for flujo in flujos:\n",
    "    if(flujo>0):\n",
    "        break\n",
    "    print(f\"El flujo de efectivo es {flujo}\")\n",
    "    cont+=1\n",
    "\n",
    "print(f\"Cantidad de iteraciones {cont}\")"
   ]
  },
  {
   "cell_type": "markdown",
   "id": "2768019c",
   "metadata": {},
   "source": [
    "## Range\n",
    "\n",
    "range(n) = genera una secuencia de numero del [0 , n)"
   ]
  },
  {
   "cell_type": "code",
   "execution_count": 36,
   "id": "8b4a31f2",
   "metadata": {
    "scrolled": true
   },
   "outputs": [
    {
     "name": "stdout",
     "output_type": "stream",
     "text": [
      "[0, 1, 2, 3, 4, 5]\n"
     ]
    }
   ],
   "source": [
    "x=range(6)\n",
    "print(list(x))"
   ]
  },
  {
   "cell_type": "code",
   "execution_count": 29,
   "id": "d681f9bd",
   "metadata": {},
   "outputs": [
    {
     "name": "stdout",
     "output_type": "stream",
     "text": [
      "cantidad de veces a ejecutar5\n",
      "El dato es 0\n",
      "El dato es 1\n",
      "El dato es 2\n",
      "El dato es 3\n",
      "El dato es 4\n"
     ]
    }
   ],
   "source": [
    "cantidad = int(input(\"cantidad de veces a ejecutar\"))\n",
    "for dato in range(cantidad):\n",
    "    print(f\"El dato es {dato}\")"
   ]
  },
  {
   "cell_type": "code",
   "execution_count": 38,
   "id": "dcb73393",
   "metadata": {},
   "outputs": [
    {
     "name": "stdout",
     "output_type": "stream",
     "text": [
      "El valor presente neto  56.94296471052592\n"
     ]
    }
   ],
   "source": [
    "flujos = [-100,10,20,50,40,75]\n",
    "r =0.06 #tasa de retorno\n",
    "npv=0\n",
    "range(len(flujos))\n",
    "for periodo in range(len(flujos)):    \n",
    "    npv += flujos[periodo] / ((1+r)**periodo)\n",
    "\n",
    "print(\"El valor presente neto \",npv)"
   ]
  },
  {
   "cell_type": "markdown",
   "id": "6ac92263",
   "metadata": {},
   "source": [
    "# Listas\n",
    "listas son conjuntos de datos (vectores, arreglos, secuencia de datos)"
   ]
  },
  {
   "cell_type": "code",
   "execution_count": 52,
   "id": "0ed6cd44",
   "metadata": {},
   "outputs": [],
   "source": [
    "flujos = [-100,10,20,50,40,75]\n",
    "# para evitar algo como esto: (Flujos de caja)\n",
    "t0 = -100\n",
    "t1 = 10\n",
    "t2 = 20\n",
    "t3 = 25"
   ]
  },
  {
   "cell_type": "code",
   "execution_count": 53,
   "id": "2af139c0",
   "metadata": {},
   "outputs": [],
   "source": [
    "flujos = [t0,t1,t2,t3]"
   ]
  },
  {
   "cell_type": "code",
   "execution_count": 56,
   "id": "08f9c0fb",
   "metadata": {},
   "outputs": [
    {
     "data": {
      "text/plain": [
       "[250, 'APPLE', 'Palo Alto', 'Estados Unidos', 300, 'MSFT']"
      ]
     },
     "execution_count": 56,
     "metadata": {},
     "output_type": "execute_result"
    }
   ],
   "source": [
    "datos = [250,\"APPLE\",\"Palo Alto\",\"Estados Unidos\",300, \"MSFT\"]\n",
    "datos"
   ]
  },
  {
   "cell_type": "code",
   "execution_count": 58,
   "id": "fb3250f6",
   "metadata": {},
   "outputs": [],
   "source": [
    "ticker =[\"APPL\",\"MSFT\",\"GOOGL\"] # tratar de que la data guarde una relacion"
   ]
  },
  {
   "cell_type": "code",
   "execution_count": 62,
   "id": "935d03c5",
   "metadata": {},
   "outputs": [
    {
     "name": "stdout",
     "output_type": "stream",
     "text": [
      "APPL\n",
      "MSFT\n",
      "GOOGL\n"
     ]
    }
   ],
   "source": [
    "## Acceso a los elementos de la lista - INDICE ARRANQUE EN CERO (0)\n",
    "print(ticker[0])\n",
    "print(ticker[1])\n",
    "print(ticker[2])"
   ]
  },
  {
   "cell_type": "code",
   "execution_count": 63,
   "id": "43a3a717",
   "metadata": {},
   "outputs": [
    {
     "ename": "IndexError",
     "evalue": "list index out of range",
     "output_type": "error",
     "traceback": [
      "\u001b[1;31m---------------------------------------------------------------------------\u001b[0m",
      "\u001b[1;31mIndexError\u001b[0m                                Traceback (most recent call last)",
      "\u001b[1;32m<ipython-input-63-b82f3b99ed4e>\u001b[0m in \u001b[0;36m<module>\u001b[1;34m\u001b[0m\n\u001b[1;32m----> 1\u001b[1;33m \u001b[0mprint\u001b[0m\u001b[1;33m(\u001b[0m\u001b[0mticker\u001b[0m\u001b[1;33m[\u001b[0m\u001b[1;36m3\u001b[0m\u001b[1;33m]\u001b[0m\u001b[1;33m)\u001b[0m\u001b[1;33m\u001b[0m\u001b[1;33m\u001b[0m\u001b[0m\n\u001b[0m",
      "\u001b[1;31mIndexError\u001b[0m: list index out of range"
     ]
    }
   ],
   "source": [
    "print(ticker[3])"
   ]
  },
  {
   "cell_type": "code",
   "execution_count": 65,
   "id": "6583a76f",
   "metadata": {},
   "outputs": [
    {
     "name": "stdout",
     "output_type": "stream",
     "text": [
      "75\n",
      "40\n"
     ]
    }
   ],
   "source": [
    "flujo = [100,10,20,50,40,75]\n",
    "print(flujo[-1])\n",
    "print(flujo[-2])"
   ]
  },
  {
   "cell_type": "code",
   "execution_count": 66,
   "id": "5722294d",
   "metadata": {},
   "outputs": [
    {
     "ename": "IndexError",
     "evalue": "list index out of range",
     "output_type": "error",
     "traceback": [
      "\u001b[1;31m---------------------------------------------------------------------------\u001b[0m",
      "\u001b[1;31mIndexError\u001b[0m                                Traceback (most recent call last)",
      "\u001b[1;32m<ipython-input-66-531b9f3be2f5>\u001b[0m in \u001b[0;36m<module>\u001b[1;34m\u001b[0m\n\u001b[1;32m----> 1\u001b[1;33m \u001b[0mprint\u001b[0m\u001b[1;33m(\u001b[0m\u001b[0mflujo\u001b[0m\u001b[1;33m[\u001b[0m\u001b[1;33m-\u001b[0m\u001b[1;36m25\u001b[0m\u001b[1;33m]\u001b[0m\u001b[1;33m)\u001b[0m\u001b[1;33m\u001b[0m\u001b[1;33m\u001b[0m\u001b[0m\n\u001b[0m",
      "\u001b[1;31mIndexError\u001b[0m: list index out of range"
     ]
    }
   ],
   "source": [
    "print(flujo[-25])"
   ]
  },
  {
   "cell_type": "code",
   "execution_count": 68,
   "id": "da6cfc06",
   "metadata": {},
   "outputs": [
    {
     "name": "stdout",
     "output_type": "stream",
     "text": [
      "80\n"
     ]
    }
   ],
   "source": [
    "## Se pueden hacer las operaciones que se hacen con variables, de la misma forma.\n",
    "print(flujo[-2]*2)"
   ]
  },
  {
   "cell_type": "code",
   "execution_count": 70,
   "id": "c320525d",
   "metadata": {},
   "outputs": [
    {
     "data": {
      "text/plain": [
       "295"
      ]
     },
     "execution_count": 70,
     "metadata": {},
     "output_type": "execute_result"
    }
   ],
   "source": [
    "## SUMA:\n",
    "sum(flujo)"
   ]
  },
  {
   "cell_type": "code",
   "execution_count": 71,
   "id": "86999105",
   "metadata": {},
   "outputs": [
    {
     "ename": "TypeError",
     "evalue": "unsupported operand type(s) for +: 'int' and 'str'",
     "output_type": "error",
     "traceback": [
      "\u001b[1;31m---------------------------------------------------------------------------\u001b[0m",
      "\u001b[1;31mTypeError\u001b[0m                                 Traceback (most recent call last)",
      "\u001b[1;32m<ipython-input-71-ac4171e570dd>\u001b[0m in \u001b[0;36m<module>\u001b[1;34m\u001b[0m\n\u001b[1;32m----> 1\u001b[1;33m \u001b[0msum\u001b[0m\u001b[1;33m(\u001b[0m\u001b[0mticker\u001b[0m\u001b[1;33m)\u001b[0m\u001b[1;33m\u001b[0m\u001b[1;33m\u001b[0m\u001b[0m\n\u001b[0m",
      "\u001b[1;31mTypeError\u001b[0m: unsupported operand type(s) for +: 'int' and 'str'"
     ]
    }
   ],
   "source": [
    "# Aplican las mismas restricciones de tipo de datos que hay con las variables normales.\n",
    "sum(ticker)  "
   ]
  },
  {
   "cell_type": "code",
   "execution_count": 78,
   "id": "410ed96e",
   "metadata": {},
   "outputs": [
    {
     "name": "stdout",
     "output_type": "stream",
     "text": [
      "345\n",
      "100\n",
      "10\n",
      "7\n",
      "La cantidad de ocurrencias es: 2\n"
     ]
    }
   ],
   "source": [
    "## Operaciones\n",
    "flujo = [100,10,20,50,40,75,50]\n",
    "\n",
    "#Suma\n",
    "print(sum(flujo))\n",
    "\n",
    "#Maximo\n",
    "print(max(flujo))\n",
    "\n",
    "#Minimo\n",
    "print(min(flujo))\n",
    "\n",
    "#Tamaño / cantidad de elementos\n",
    "print(len(flujo))\n",
    "\n",
    "#Contar ocurrencias\n",
    "cant_ocurrencias = flujo.count(50)\n",
    "print(f\"La cantidad de ocurrencias es: {cant_ocurrencias}\")"
   ]
  },
  {
   "cell_type": "code",
   "execution_count": null,
   "id": "8dabe2b1",
   "metadata": {},
   "outputs": [],
   "source": []
  }
 ],
 "metadata": {
  "kernelspec": {
   "display_name": "Python 3",
   "language": "python",
   "name": "python3"
  },
  "language_info": {
   "codemirror_mode": {
    "name": "ipython",
    "version": 3
   },
   "file_extension": ".py",
   "mimetype": "text/x-python",
   "name": "python",
   "nbconvert_exporter": "python",
   "pygments_lexer": "ipython3",
   "version": "3.8.5"
  }
 },
 "nbformat": 4,
 "nbformat_minor": 5
}
