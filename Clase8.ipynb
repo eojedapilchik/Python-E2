{
 "cells": [
  {
   "cell_type": "markdown",
   "id": "67185398",
   "metadata": {},
   "source": [
    "## Blockchain"
   ]
  },
  {
   "cell_type": "code",
   "execution_count": 25,
   "id": "bc2a650f",
   "metadata": {},
   "outputs": [
    {
     "name": "stdout",
     "output_type": "stream",
     "text": [
      "{'id': 0, 'BlogPrev': 'genesis', 'Transacciones': ['Alcides:Pedro:0.01', 'Pedro:Antonio:0.0002', 'Luis:Carlos:0.05'], 'nonce': 0}\n"
     ]
    }
   ],
   "source": [
    "import hashlib\n",
    "import json\n",
    "\n",
    "block1 ={\n",
    "    'id':0,\n",
    "    'BlogPrev': 'genesis',\n",
    "    'Transacciones': ['Alcides:Pedro:0.01','Pedro:Antonio:0.0002', 'Luis:Carlos:0.05'],\n",
    "    'nonce': 0\n",
    "}\n",
    "\n",
    "print(block1)"
   ]
  },
  {
   "cell_type": "code",
   "execution_count": 26,
   "id": "516e005f",
   "metadata": {
    "scrolled": true
   },
   "outputs": [
    {
     "name": "stdout",
     "output_type": "stream",
     "text": [
      "dc301ab89019b0b6f085a2db96aff366d9c17fc696410c96366fb6ed4ac0b68f\n"
     ]
    }
   ],
   "source": [
    "block1_string = json.dumps(block1) # transformado el diccionario a texto para poder usarlo en hashlib\n",
    "block1_raw_hash = hashlib.sha256(block1_string.encode('utf-8')) # convirtiendo el texto de bloque1 a un hash usando sha 256\n",
    "block1_hash =block1_raw_hash.hexdigest() #transforma el objeto de tipo hash sha 256 en un string\n",
    "block1['Hash'] = block1_hash\n",
    "print(block1_hash)\n",
    "\n"
   ]
  },
  {
   "cell_type": "code",
   "execution_count": 27,
   "id": "22d9c542",
   "metadata": {},
   "outputs": [
    {
     "data": {
      "text/plain": [
       "{'id': 0,\n",
       " 'BlogPrev': 'genesis',\n",
       " 'Transacciones': ['Alcides:Pedro:0.01',\n",
       "  'Pedro:Antonio:0.0002',\n",
       "  'Luis:Carlos:0.05'],\n",
       " 'nonce': 0,\n",
       " 'Hash': 'dc301ab89019b0b6f085a2db96aff366d9c17fc696410c96366fb6ed4ac0b68f'}"
      ]
     },
     "execution_count": 27,
     "metadata": {},
     "output_type": "execute_result"
    }
   ],
   "source": [
    "block1"
   ]
  },
  {
   "cell_type": "code",
   "execution_count": 28,
   "id": "212981a9",
   "metadata": {},
   "outputs": [
    {
     "name": "stdout",
     "output_type": "stream",
     "text": [
      "8134a41580e341abec3416b06cfb7fa47c8916c25e586076a661c2584e0d39a0\n"
     ]
    }
   ],
   "source": [
    "block2 = {\n",
    "    'id':1,\n",
    "    'BlogPrev': block1_hash,\n",
    "    'Transacciones': ['P1:X2:0.03','A2:B3:0.1', 'Z3:B2:0.25'],\n",
    "    'nonce': 2\n",
    "}\n",
    "\n",
    "block2_string = json.dumps(block2) # transformado el diccionario a texto para poder usarlo en hashlib\n",
    "block2_raw_hash = hashlib.sha256(block2_string.encode('utf-8')) # convirtiendo el texto de bloque1 a un hash usando sha 256\n",
    "block2_hash =block2_raw_hash.hexdigest() #transforma el objeto de tipo hash sha 256 en un string\n",
    "block2['Hash'] = block2_hash\n",
    "print(block2_hash)\n",
    "\n"
   ]
  },
  {
   "cell_type": "code",
   "execution_count": 29,
   "id": "5fe3bd0e",
   "metadata": {},
   "outputs": [
    {
     "name": "stdout",
     "output_type": "stream",
     "text": [
      "{'id': 1, 'BlogPrev': 'dc301ab89019b0b6f085a2db96aff366d9c17fc696410c96366fb6ed4ac0b68f', 'Transacciones': ['P1:X2:0.03', 'A2:B3:0.1', 'Z3:B2:0.25'], 'nonce': 2, 'Hash': '8134a41580e341abec3416b06cfb7fa47c8916c25e586076a661c2584e0d39a0'}\n"
     ]
    }
   ],
   "source": [
    "print(block2)"
   ]
  },
  {
   "cell_type": "code",
   "execution_count": 30,
   "id": "6324c053",
   "metadata": {},
   "outputs": [
    {
     "name": "stdout",
     "output_type": "stream",
     "text": [
      "[{'id': 0, 'BlogPrev': 'genesis', 'Transacciones': ['Alcides:Pedro:0.01', 'Pedro:Antonio:0.0002', 'Luis:Carlos:0.05'], 'nonce': 0, 'Hash': 'dc301ab89019b0b6f085a2db96aff366d9c17fc696410c96366fb6ed4ac0b68f'}, {'id': 1, 'BlogPrev': 'dc301ab89019b0b6f085a2db96aff366d9c17fc696410c96366fb6ed4ac0b68f', 'Transacciones': ['P1:X2:0.03', 'A2:B3:0.1', 'Z3:B2:0.25'], 'nonce': 2, 'Hash': '8134a41580e341abec3416b06cfb7fa47c8916c25e586076a661c2584e0d39a0'}]\n"
     ]
    }
   ],
   "source": [
    "blockchain = [block1, block2]\n",
    "print(blockchain)"
   ]
  },
  {
   "cell_type": "code",
   "execution_count": 48,
   "id": "4bb47f65",
   "metadata": {},
   "outputs": [
    {
     "ename": "KeyboardInterrupt",
     "evalue": "",
     "output_type": "error",
     "traceback": [
      "\u001b[1;31m---------------------------------------------------------------------------\u001b[0m",
      "\u001b[1;31mKeyboardInterrupt\u001b[0m                         Traceback (most recent call last)",
      "\u001b[1;32m<ipython-input-48-7949adf5a5b4>\u001b[0m in \u001b[0;36m<module>\u001b[1;34m\u001b[0m\n\u001b[0;32m      8\u001b[0m \u001b[1;32mwhile\u001b[0m \u001b[1;32mTrue\u001b[0m\u001b[1;33m:\u001b[0m\u001b[1;33m\u001b[0m\u001b[1;33m\u001b[0m\u001b[0m\n\u001b[0;32m      9\u001b[0m     \u001b[1;31m#print(\"Bloque  \"+(str(nonce)+transaccion+prev_block_hash))\u001b[0m\u001b[1;33m\u001b[0m\u001b[1;33m\u001b[0m\u001b[1;33m\u001b[0m\u001b[0m\n\u001b[1;32m---> 10\u001b[1;33m     \u001b[0mbloque_hash\u001b[0m \u001b[1;33m=\u001b[0m \u001b[0mhashlib\u001b[0m\u001b[1;33m.\u001b[0m\u001b[0msha256\u001b[0m\u001b[1;33m(\u001b[0m\u001b[1;33m(\u001b[0m\u001b[0mstr\u001b[0m\u001b[1;33m(\u001b[0m\u001b[0mnonce\u001b[0m\u001b[1;33m)\u001b[0m\u001b[1;33m+\u001b[0m\u001b[0mtransaccion\u001b[0m\u001b[1;33m+\u001b[0m\u001b[0mprev_block_hash\u001b[0m\u001b[1;33m)\u001b[0m\u001b[1;33m.\u001b[0m\u001b[0mencode\u001b[0m\u001b[1;33m(\u001b[0m\u001b[1;34m'utf-8'\u001b[0m\u001b[1;33m)\u001b[0m\u001b[1;33m)\u001b[0m\u001b[1;33m.\u001b[0m\u001b[0mhexdigest\u001b[0m\u001b[1;33m(\u001b[0m\u001b[1;33m)\u001b[0m\u001b[1;33m\u001b[0m\u001b[1;33m\u001b[0m\u001b[0m\n\u001b[0m\u001b[0;32m     11\u001b[0m     \u001b[1;31m#print(f\"El hash del bloque es {bloque_hash}\\n\")\u001b[0m\u001b[1;33m\u001b[0m\u001b[1;33m\u001b[0m\u001b[1;33m\u001b[0m\u001b[0m\n\u001b[0;32m     12\u001b[0m     \u001b[1;32mif\u001b[0m \u001b[0mbloque_hash\u001b[0m\u001b[1;33m[\u001b[0m\u001b[1;36m0\u001b[0m\u001b[1;33m:\u001b[0m\u001b[1;36m8\u001b[0m\u001b[1;33m]\u001b[0m \u001b[1;33m==\u001b[0m \u001b[1;34m'00000000'\u001b[0m\u001b[1;33m:\u001b[0m\u001b[1;33m\u001b[0m\u001b[1;33m\u001b[0m\u001b[0m\n",
      "\u001b[1;31mKeyboardInterrupt\u001b[0m: "
     ]
    }
   ],
   "source": [
    "import hashlib\n",
    "nombre = \"aojeda7\"\n",
    "cantidad = 1_000_000\n",
    "transaccion = \"satoshi42:\"+nombre+\":\"+str(cantidad)\n",
    "prev_block_hash = '50e596f81a28cc983150697558e4ce694b7788f5ae784a1ba31e07e955c98162'\n",
    "nonce =0\n",
    "\n",
    "while True:\n",
    "    #print(\"Bloque  \"+(str(nonce)+transaccion+prev_block_hash))\n",
    "    bloque_hash = hashlib.sha256((str(nonce)+transaccion+prev_block_hash).encode('utf-8')).hexdigest()\n",
    "    #print(f\"El hash del bloque es {bloque_hash}\\n\")\n",
    "    if bloque_hash[0:8] == '00000000':\n",
    "        break    \n",
    "    nonce+=1"
   ]
  },
  {
   "cell_type": "code",
   "execution_count": 46,
   "id": "b71d1f62",
   "metadata": {},
   "outputs": [
    {
     "name": "stdout",
     "output_type": "stream",
     "text": [
      "00000032aec1e82c6ef02c132efeb36d022a863cd90f65f6a41f19163a6ab1bf\n"
     ]
    }
   ],
   "source": [
    "print(bloque_hash)"
   ]
  },
  {
   "cell_type": "code",
   "execution_count": 47,
   "id": "71db577b",
   "metadata": {},
   "outputs": [
    {
     "name": "stdout",
     "output_type": "stream",
     "text": [
      "1838107\n"
     ]
    }
   ],
   "source": [
    "print(nonce)"
   ]
  },
  {
   "cell_type": "markdown",
   "id": "bd7901ed",
   "metadata": {},
   "source": [
    "## Validación con try except "
   ]
  },
  {
   "cell_type": "code",
   "execution_count": 52,
   "id": "a32b64f9",
   "metadata": {},
   "outputs": [
    {
     "name": "stdout",
     "output_type": "stream",
     "text": [
      "[63, 87, 600]\n"
     ]
    }
   ],
   "source": [
    "import random\n",
    "NUMEROS_VALIDOS = [23,61,180]\n",
    "NUMEROS_VALIDOS = [random.randint(1,200), random.randint(50,300),random.randint(500,1000) ]\n",
    "print(NUMEROS_VALIDOS)"
   ]
  },
  {
   "cell_type": "code",
   "execution_count": 56,
   "id": "34fecf68",
   "metadata": {},
   "outputs": [
    {
     "name": "stdout",
     "output_type": "stream",
     "text": [
      "Adivina el número - Escriba X para Finalizar25\n",
      "No lo lograste, intenta de nuevo\n",
      "Adivina el número - Escriba X para Finalizarcincuenta\n",
      "El dato ingresado no es valido. Asegurate de escribir solo números o 'X' para salir\n",
      "Adivina el número - Escriba X para Finalizar12\n",
      "No lo lograste, intenta de nuevo\n",
      "Adivina el número - Escriba X para Finalizar63\n",
      "Has Ganado\n"
     ]
    }
   ],
   "source": [
    "while True:\n",
    "    dato = input(\"Adivina el número - Escriba X para Finalizar\")\n",
    "    if dato.lower()=='x':\n",
    "       break\n",
    "    else:\n",
    "        try:\n",
    "            numero = int(dato)\n",
    "            if numero in NUMEROS_VALIDOS:\n",
    "                print('Has Ganado')\n",
    "                break\n",
    "            else:\n",
    "                print(\"No lo lograste, intenta de nuevo\")\n",
    "        except:\n",
    "            print(\"El dato ingresado no es valido. Asegurate de escribir solo números o 'X' para salir\")\n",
    "            \n",
    "    "
   ]
  },
  {
   "cell_type": "code",
   "execution_count": 63,
   "id": "5c50c6ec",
   "metadata": {},
   "outputs": [
    {
     "name": "stdout",
     "output_type": "stream",
     "text": [
      "Adivina el número - Escriba X para Finalizar0\n",
      "Has Ganado\n"
     ]
    },
    {
     "ename": "ZeroDivisionError",
     "evalue": "division by zero",
     "output_type": "error",
     "traceback": [
      "\u001b[1;31m---------------------------------------------------------------------------\u001b[0m",
      "\u001b[1;31mZeroDivisionError\u001b[0m                         Traceback (most recent call last)",
      "\u001b[1;32m<ipython-input-63-8039d7e0d411>\u001b[0m in \u001b[0;36m<module>\u001b[1;34m\u001b[0m\n\u001b[0;32m      9\u001b[0m             \u001b[1;32mif\u001b[0m \u001b[0mnumero\u001b[0m \u001b[1;32min\u001b[0m \u001b[0mNUMEROS_VALIDOS\u001b[0m\u001b[1;33m:\u001b[0m\u001b[1;33m\u001b[0m\u001b[1;33m\u001b[0m\u001b[0m\n\u001b[0;32m     10\u001b[0m                 \u001b[0mprint\u001b[0m\u001b[1;33m(\u001b[0m\u001b[1;34m'Has Ganado'\u001b[0m\u001b[1;33m)\u001b[0m\u001b[1;33m\u001b[0m\u001b[1;33m\u001b[0m\u001b[0m\n\u001b[1;32m---> 11\u001b[1;33m                 \u001b[1;36m25\u001b[0m\u001b[1;33m/\u001b[0m\u001b[0mnumero\u001b[0m\u001b[1;33m\u001b[0m\u001b[1;33m\u001b[0m\u001b[0m\n\u001b[0m\u001b[0;32m     12\u001b[0m                 \u001b[0mprint\u001b[0m\u001b[1;33m(\u001b[0m\u001b[1;34m\"despues de division\"\u001b[0m\u001b[1;33m)\u001b[0m\u001b[1;33m\u001b[0m\u001b[1;33m\u001b[0m\u001b[0m\n\u001b[0;32m     13\u001b[0m                 \u001b[1;32mbreak\u001b[0m\u001b[1;33m\u001b[0m\u001b[1;33m\u001b[0m\u001b[0m\n",
      "\u001b[1;31mZeroDivisionError\u001b[0m: division by zero"
     ]
    }
   ],
   "source": [
    "NUMEROS_VALIDOS = [0,1,2]\n",
    "while True:\n",
    "    dato = input(\"Adivina el número - Escriba X para Finalizar\")\n",
    "    if dato.lower()=='x':\n",
    "       break\n",
    "    else:\n",
    "        try:\n",
    "            numero = int(dato)\n",
    "            if numero in NUMEROS_VALIDOS:\n",
    "                print('Has Ganado')\n",
    "                25/numero\n",
    "                break\n",
    "            else:\n",
    "                print(\"No lo lograste, intenta de nuevo\")\n",
    "        except ValueError:\n",
    "            print(\"Debe colocar un numero, y no un texto\")\n",
    "            numero = 1\n",
    "        except ZeroDivisionError:\n",
    "            print(\"El numero no puede ser 0\")\n",
    "            numero = 25\n",
    "            "
   ]
  },
  {
   "cell_type": "markdown",
   "id": "9eed7612",
   "metadata": {},
   "source": [
    "## Funciones \n",
    "\n",
    "DRY -> Don't repeat yourself -> no repetir codigo\n",
    "\n",
    "Son bloques de código que tienen nombre, puede recibir argumentos y se reusan. Ayudan a organizar el código"
   ]
  },
  {
   "cell_type": "code",
   "execution_count": 64,
   "id": "7d5949e4",
   "metadata": {},
   "outputs": [],
   "source": [
    "def mi_func():\n",
    "    msj = \"Hola mundo desde mi_func\"\n",
    "    print(msj)"
   ]
  },
  {
   "cell_type": "code",
   "execution_count": 65,
   "id": "441c4d12",
   "metadata": {},
   "outputs": [
    {
     "name": "stdout",
     "output_type": "stream",
     "text": [
      "Hola mundo desde mi_func\n"
     ]
    }
   ],
   "source": [
    "mi_func()"
   ]
  },
  {
   "cell_type": "code",
   "execution_count": 79,
   "id": "fb383349",
   "metadata": {},
   "outputs": [
    {
     "name": "stdout",
     "output_type": "stream",
     "text": [
      "Hola Mundo\n",
      "Hola Mundo\n",
      "Hola Mundo\n",
      "\n",
      "Escriba el mensaje que desea imprimirHello\n",
      "Hello\n",
      "Hello\n",
      "Hello\n",
      "\n"
     ]
    }
   ],
   "source": [
    "# Funcion con parametros\n",
    "# parametros son variables que usan las funciones\n",
    "# argumentos son los valores que se pasan cuando se llama la función\n",
    "\n",
    "def mi_func2(mensaje, numero):\n",
    "    try:\n",
    "        msg = (mensaje+'\\n')*numero\n",
    "        print(msg)\n",
    "    except:\n",
    "        print(mensaje)\n",
    "    \n",
    "mi_func2(\"Hola Mundo\",3)\n",
    "\n",
    "\n",
    "texto = input(\"Escriba el mensaje que desea imprimir\")\n",
    "mi_func2(texto,3)\n"
   ]
  },
  {
   "cell_type": "code",
   "execution_count": 82,
   "id": "8d8e1d34",
   "metadata": {},
   "outputs": [
    {
     "name": "stdout",
     "output_type": "stream",
     "text": [
      "Sin mensaje\n",
      "Sin mensaje\n",
      "Sin mensaje\n",
      "\n",
      "Si tiene mensaje pero no tiene numero\n",
      "Si tiene mensaje pero no tiene numero\n",
      "Si tiene mensaje pero no tiene numero\n",
      "\n"
     ]
    }
   ],
   "source": [
    "# funcion con parametros default (por defecto)\n",
    "def mi_func3(mensaje=\"Sin mensaje\", numero=3):\n",
    "    try:\n",
    "        msg = (mensaje+'\\n')*numero\n",
    "        print(msg)\n",
    "    except:\n",
    "        print(mensaje)\n",
    "        \n",
    "# llamando la funcion sin argumentos, activa los valores por default definidos en la firma de la funcion\n",
    "mi_func3()\n",
    "\n",
    "# llamando la funcion con 1 solo argumento\n",
    "mi_func3(\"Si tiene mensaje pero no tiene numero\")\n",
    "#mi_func3(,3)"
   ]
  },
  {
   "cell_type": "code",
   "execution_count": 90,
   "id": "ce95a6b3",
   "metadata": {},
   "outputs": [
    {
     "name": "stdout",
     "output_type": "stream",
     "text": [
      "125.97120000000001\n",
      "1.01\n",
      "107.0\n",
      "101.0\n"
     ]
    }
   ],
   "source": [
    "# Función que calcula el valor futuro.\n",
    "# retorna decimal, el valor futuro calculado a tasa y numero periodos \n",
    "def valor_futuro(valor_presente=1, tasa =0.01, nper=1):\n",
    "    vf = valor_presente*((1+tasa)**nper)\n",
    "    return vf\n",
    "\n",
    "\n",
    "valor = valor_futuro(100, 0.08, 3)\n",
    "print(valor)\n",
    "\n",
    "valor2 = valor_futuro()\n",
    "print(vf)\n",
    "\n",
    "valor3 = valor_futuro(100, 0.07)\n",
    "print(valor3)\n",
    "\n",
    "valor3 = valor_futuro(100)\n",
    "print(valor3)"
   ]
  },
  {
   "cell_type": "code",
   "execution_count": 96,
   "id": "6bbe67b8",
   "metadata": {},
   "outputs": [
    {
     "name": "stdout",
     "output_type": "stream",
     "text": [
      "251.81701168189804\n",
      "108.0\n",
      "101.0\n",
      "101.0\n"
     ]
    }
   ],
   "source": [
    "# Parametros no especificados por posicion (parametros posicionales)\n",
    "def valor_futuro(valor_presente=100, tasa =0.01, nper=1):\n",
    "    vf = valor_presente*((1+tasa)**nper)\n",
    "    return vf\n",
    "\n",
    "print(valor_futuro(tasa =0.08, nper=12))\n",
    "\n",
    "print(valor_futuro(tasa =0.08))\n",
    "\n",
    "print(valor_futuro(nper=1))\n",
    "\n",
    "print(valor_futuro())"
   ]
  },
  {
   "cell_type": "code",
   "execution_count": 102,
   "id": "e96b5b15",
   "metadata": {},
   "outputs": [
    {
     "name": "stdout",
     "output_type": "stream",
     "text": [
      "El valor a dentro de confusion es5\n",
      "El valor a dentro de anidada es6\n",
      "1\n"
     ]
    }
   ],
   "source": [
    "# Contexto de las variables - Scope\n",
    "a =1 # contexto global\n",
    "\n",
    "def confusion():\n",
    "    a =5\n",
    "    print(f\"El valor a dentro de confusion es{a}\")\n",
    "    def anidada():\n",
    "        a=6\n",
    "        print(f\"El valor a dentro de anidada es{a}\")\n",
    "    \n",
    "    anidada()\n",
    "\n",
    "confusion()\n",
    "print(a)\n"
   ]
  }
 ],
 "metadata": {
  "kernelspec": {
   "display_name": "Python 3",
   "language": "python",
   "name": "python3"
  },
  "language_info": {
   "codemirror_mode": {
    "name": "ipython",
    "version": 3
   },
   "file_extension": ".py",
   "mimetype": "text/x-python",
   "name": "python",
   "nbconvert_exporter": "python",
   "pygments_lexer": "ipython3",
   "version": "3.8.5"
  }
 },
 "nbformat": 4,
 "nbformat_minor": 5
}
