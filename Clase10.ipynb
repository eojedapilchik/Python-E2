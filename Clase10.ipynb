{
 "cells": [
  {
   "cell_type": "markdown",
   "id": "bdced735",
   "metadata": {},
   "source": [
    "## Clase 10: Pandas (Panel Data)\n"
   ]
  },
  {
   "cell_type": "markdown",
   "id": "e177b4f9",
   "metadata": {},
   "source": [
    "https://en.wikipedia.org/wiki/Pandas_(software)"
   ]
  },
  {
   "cell_type": "code",
   "execution_count": 1,
   "id": "78f056bb",
   "metadata": {},
   "outputs": [],
   "source": [
    "import pandas as pd\n",
    "import numpy as np"
   ]
  },
  {
   "cell_type": "code",
   "execution_count": 2,
   "id": "3d60cc58",
   "metadata": {},
   "outputs": [],
   "source": [
    "etiquetas = ['X','YZ','ZB']\n",
    "mi_lista = [10,20,30]\n",
    "arr_np = np.array(mi_lista)\n",
    "d ={'X':10,'YZ':20, 'ZB':30}"
   ]
  },
  {
   "cell_type": "markdown",
   "id": "4670e8aa",
   "metadata": {},
   "source": [
    "Dataframe es la estructura esencial de Pandas, que es un conjunto de Series"
   ]
  },
  {
   "cell_type": "code",
   "execution_count": 4,
   "id": "b236808e",
   "metadata": {},
   "outputs": [
    {
     "data": {
      "text/plain": [
       "0    10\n",
       "1    20\n",
       "2    30\n",
       "dtype: int64"
      ]
     },
     "execution_count": 4,
     "metadata": {},
     "output_type": "execute_result"
    }
   ],
   "source": [
    "df = pd.Series(mi_lista)\n",
    "df"
   ]
  },
  {
   "cell_type": "code",
   "execution_count": 10,
   "id": "3da699ca",
   "metadata": {},
   "outputs": [
    {
     "data": {
      "text/plain": [
       "X     10\n",
       "YZ    20\n",
       "ZB    30\n",
       "dtype: int32"
      ]
     },
     "execution_count": 10,
     "metadata": {},
     "output_type": "execute_result"
    }
   ],
   "source": [
    "df2 = pd.Series(data=mi_lista, index=etiquetas, dtype='int32')\n",
    "df2"
   ]
  },
  {
   "cell_type": "code",
   "execution_count": 7,
   "id": "ce03f9b4",
   "metadata": {},
   "outputs": [
    {
     "data": {
      "text/plain": [
       "X     10\n",
       "YZ    20\n",
       "ZB    30\n",
       "dtype: int32"
      ]
     },
     "execution_count": 7,
     "metadata": {},
     "output_type": "execute_result"
    }
   ],
   "source": [
    "df3 = pd.Series(arr_np,etiquetas)\n",
    "df3"
   ]
  },
  {
   "cell_type": "code",
   "execution_count": 9,
   "id": "0a77c896",
   "metadata": {},
   "outputs": [
    {
     "data": {
      "text/plain": [
       "X     10\n",
       "YZ    20\n",
       "ZB    30\n",
       "dtype: int64"
      ]
     },
     "execution_count": 9,
     "metadata": {},
     "output_type": "execute_result"
    }
   ],
   "source": [
    "df4 = pd.Series(d)\n",
    "df4"
   ]
  },
  {
   "cell_type": "markdown",
   "id": "0abc7e18",
   "metadata": {},
   "source": [
    "## Indices y Acceso a datos"
   ]
  },
  {
   "cell_type": "code",
   "execution_count": 13,
   "id": "dd4c3acd",
   "metadata": {},
   "outputs": [
    {
     "data": {
      "text/plain": [
       "USA         1\n",
       "CHINA       2\n",
       "BRAZIL      3\n",
       "ALEMANIA    4\n",
       "dtype: int32"
      ]
     },
     "execution_count": 13,
     "metadata": {},
     "output_type": "execute_result"
    }
   ],
   "source": [
    "import pandas as pd\n",
    "serie1 = pd.Series(data=[1,2,3,4], index=[\"USA\",\"CHINA\",\"BRAZIL\",\"ALEMANIA\"], dtype=\"int32\")\n",
    "serie1"
   ]
  },
  {
   "cell_type": "code",
   "execution_count": 17,
   "id": "72580fbe",
   "metadata": {},
   "outputs": [
    {
     "name": "stdout",
     "output_type": "stream",
     "text": [
      "2\n",
      "2\n",
      "4\n",
      "4\n"
     ]
    }
   ],
   "source": [
    "print(serie1[1]) ## acceso por posicion numerica del indice (arranca en cero)\n",
    "print(serie1[\"CHINA\"]) ## acceso por nombre del indice\n",
    "print(serie1[-1])\n",
    "print(serie1[\"ALEMANIA\"])"
   ]
  },
  {
   "cell_type": "code",
   "execution_count": 21,
   "id": "e4b5dd42",
   "metadata": {},
   "outputs": [],
   "source": [
    "#print(serie1[\"VENEZUELA\"]) #no existen y arroja el Index out of bound\n",
    "#print(serie1[10])"
   ]
  },
  {
   "cell_type": "code",
   "execution_count": 28,
   "id": "10714ef4",
   "metadata": {},
   "outputs": [
    {
     "name": "stdout",
     "output_type": "stream",
     "text": [
      "No existe ese indice en la serie\n"
     ]
    }
   ],
   "source": [
    "try:\n",
    "    pib_vzla=serie1[\"venezuela\"]\n",
    "except KeyError:\n",
    "    print(\"No existe ese indice en la serie\")\n",
    "except:\n",
    "    print(\"No se pudo acceder al dato\")\n",
    "    "
   ]
  },
  {
   "cell_type": "code",
   "execution_count": 31,
   "id": "1be8a92c",
   "metadata": {},
   "outputs": [
    {
     "name": "stdout",
     "output_type": "stream",
     "text": [
      "Si Existe\n"
     ]
    }
   ],
   "source": [
    "if(serie1.get('CHINA')):\n",
    "    print(\"Si Existe\")\n",
    "    pib = serie1[\"CHINA\"]\n",
    "else:\n",
    "    print(\"No existe\")"
   ]
  },
  {
   "cell_type": "code",
   "execution_count": 35,
   "id": "5658962a",
   "metadata": {},
   "outputs": [],
   "source": [
    "serie2 = pd.Series([1,2,3,4], index=['USA','Venezuela','Republica Checa','Japon'])"
   ]
  },
  {
   "cell_type": "code",
   "execution_count": 36,
   "id": "71a2cc6a",
   "metadata": {},
   "outputs": [
    {
     "data": {
      "text/plain": [
       "USA                1\n",
       "Venezuela          2\n",
       "Republica Checa    3\n",
       "Japon              4\n",
       "dtype: int64"
      ]
     },
     "execution_count": 36,
     "metadata": {},
     "output_type": "execute_result"
    }
   ],
   "source": [
    "serie2"
   ]
  },
  {
   "cell_type": "code",
   "execution_count": 42,
   "id": "64a97f88",
   "metadata": {},
   "outputs": [
    {
     "name": "stdout",
     "output_type": "stream",
     "text": [
      "1\n",
      "3\n",
      "1\n"
     ]
    }
   ],
   "source": [
    "## Notación dot (punto)\n",
    "print(serie2.USA)\n",
    "\n",
    "# Notacion brackets/ corchetes\n",
    "print(serie2['Republica Checa'])  ## llave\n",
    "print(serie2[0]) ## indices numericos"
   ]
  },
  {
   "cell_type": "code",
   "execution_count": 74,
   "id": "838ce785",
   "metadata": {},
   "outputs": [
    {
     "name": "stdout",
     "output_type": "stream",
     "text": [
      "INDICES NUMERICOS \n",
      " 0    10\n",
      "1    20\n",
      "2    30\n",
      "3    40\n",
      "dtype: int64\n",
      "-------------------\n",
      "INDICES LLAVE \n",
      " USA                1\n",
      "Venezuela          2\n",
      "Republica Checa    3\n",
      "Japon              4\n",
      "dtype: int64\n",
      "-------------------\n",
      "1\n",
      "20\n",
      "20\n",
      "2\n"
     ]
    }
   ],
   "source": [
    "## Metodos de acceso\n",
    "\n",
    "serie3 = pd.Series([10,20,30,40])\n",
    "print(f\"INDICES NUMERICOS \\n {serie3}\")\n",
    "print(\"-------------------\")\n",
    "print(f\"INDICES LLAVE \\n {serie2}\")\n",
    "print(\"-------------------\")\n",
    "## Funcion loc (Location)  se usa cuando los indices son llaves textuales (String)\n",
    "print(serie2.loc[\"USA\"]) ## serie 2 tiene indices de tipo texto o llaves\n",
    "print(serie3.loc[1])  # no funciona porque la columna indice es tipo llave de texto\n",
    "\n",
    "## Funcion iloc (index location) se usa cuando los indices son númericos y para acceder cuando se tiene el numero de la posicion.\n",
    "# numero entero\n",
    "print(serie3.iloc[1]) ## no funciona porque los indices son de tipo numerico\n",
    "print(serie2.iloc[1])\n",
    "\n",
    "# Regla general, siempre que quieran acceder por el numero de la posicion se usa iloc\n",
    "# Cuando se quiere acceder por la llave (debe ser del mismo tipo de datos que el index -string, datetime, float, integer) se usa location\n"
   ]
  },
  {
   "cell_type": "code",
   "execution_count": 86,
   "id": "9748ce58",
   "metadata": {},
   "outputs": [
    {
     "name": "stdout",
     "output_type": "stream",
     "text": [
      "1    20\n",
      "2    30\n",
      "3    40\n",
      "dtype: int64\n",
      "USA          1\n",
      "Venezuela    2\n",
      "dtype: int64\n",
      "1    20\n",
      "2    30\n",
      "dtype: int64\n",
      "Venezuela          2\n",
      "Republica Checa    3\n",
      "dtype: int64\n",
      "0    10\n",
      "1    20\n",
      "2    30\n",
      "dtype: int64\n",
      "0    10\n",
      "1    20\n",
      "2    30\n",
      "3    40\n",
      "dtype: int64\n"
     ]
    }
   ],
   "source": [
    "# Slicing con location - incluye el indice de la derecha\n",
    "print(serie3.loc[1:3])  #\n",
    "print(serie2.loc[\"USA\":\"Venezuela\"]) # si incluye el indice de la derecha, aqui funciona porque estoy\n",
    "#usando loc (para llaves) y la columna indice es de tipo string\n",
    "#serie3.iloc[1:3]\n",
    "\n",
    "\n",
    "# Slicing con ilocation - no incluye el indice de la derecha\n",
    "print(serie3.iloc[1:3])\n",
    "print(serie2.iloc[1:3])\n",
    "print(serie3.iloc[:3])\n",
    "print(serie3.iloc[:])"
   ]
  },
  {
   "cell_type": "markdown",
   "id": "a40d7e23",
   "metadata": {},
   "source": [
    "## Dataframe"
   ]
  },
  {
   "cell_type": "code",
   "execution_count": 87,
   "id": "2793adc5",
   "metadata": {},
   "outputs": [],
   "source": [
    "import numpy as np\n",
    "import pandas as pd"
   ]
  },
  {
   "cell_type": "code",
   "execution_count": 88,
   "id": "f64ba077",
   "metadata": {},
   "outputs": [],
   "source": [
    "acciones_list =[\n",
    "    ['AAPL','Apple', 135],\n",
    "    ['MSFT','Microsoft', 100]\n",
    "]"
   ]
  },
  {
   "cell_type": "code",
   "execution_count": 91,
   "id": "3b9bf6a6",
   "metadata": {},
   "outputs": [
    {
     "data": {
      "text/html": [
       "<div>\n",
       "<style scoped>\n",
       "    .dataframe tbody tr th:only-of-type {\n",
       "        vertical-align: middle;\n",
       "    }\n",
       "\n",
       "    .dataframe tbody tr th {\n",
       "        vertical-align: top;\n",
       "    }\n",
       "\n",
       "    .dataframe thead th {\n",
       "        text-align: right;\n",
       "    }\n",
       "</style>\n",
       "<table border=\"1\" class=\"dataframe\">\n",
       "  <thead>\n",
       "    <tr style=\"text-align: right;\">\n",
       "      <th></th>\n",
       "      <th>0</th>\n",
       "      <th>1</th>\n",
       "      <th>2</th>\n",
       "    </tr>\n",
       "  </thead>\n",
       "  <tbody>\n",
       "    <tr>\n",
       "      <th>0</th>\n",
       "      <td>AAPL</td>\n",
       "      <td>Apple</td>\n",
       "      <td>135</td>\n",
       "    </tr>\n",
       "    <tr>\n",
       "      <th>1</th>\n",
       "      <td>MSFT</td>\n",
       "      <td>Microsoft</td>\n",
       "      <td>100</td>\n",
       "    </tr>\n",
       "  </tbody>\n",
       "</table>\n",
       "</div>"
      ],
      "text/plain": [
       "      0          1    2\n",
       "0  AAPL      Apple  135\n",
       "1  MSFT  Microsoft  100"
      ]
     },
     "execution_count": 91,
     "metadata": {},
     "output_type": "execute_result"
    }
   ],
   "source": [
    "df1 = pd.DataFrame(acciones_list)\n",
    "df1"
   ]
  },
  {
   "cell_type": "code",
   "execution_count": 94,
   "id": "a8262ea5",
   "metadata": {},
   "outputs": [],
   "source": [
    "df2 = pd.DataFrame(acciones_list, index=[\"Accion1\",\"Accion2\"], columns=[\"Ticker\",\"Nombre\", \"Valor\"])"
   ]
  },
  {
   "cell_type": "code",
   "execution_count": 95,
   "id": "79ea893f",
   "metadata": {},
   "outputs": [
    {
     "data": {
      "text/html": [
       "<div>\n",
       "<style scoped>\n",
       "    .dataframe tbody tr th:only-of-type {\n",
       "        vertical-align: middle;\n",
       "    }\n",
       "\n",
       "    .dataframe tbody tr th {\n",
       "        vertical-align: top;\n",
       "    }\n",
       "\n",
       "    .dataframe thead th {\n",
       "        text-align: right;\n",
       "    }\n",
       "</style>\n",
       "<table border=\"1\" class=\"dataframe\">\n",
       "  <thead>\n",
       "    <tr style=\"text-align: right;\">\n",
       "      <th></th>\n",
       "      <th>Ticker</th>\n",
       "      <th>Nombre</th>\n",
       "      <th>Valor</th>\n",
       "    </tr>\n",
       "  </thead>\n",
       "  <tbody>\n",
       "    <tr>\n",
       "      <th>Accion1</th>\n",
       "      <td>AAPL</td>\n",
       "      <td>Apple</td>\n",
       "      <td>135</td>\n",
       "    </tr>\n",
       "    <tr>\n",
       "      <th>Accion2</th>\n",
       "      <td>MSFT</td>\n",
       "      <td>Microsoft</td>\n",
       "      <td>100</td>\n",
       "    </tr>\n",
       "  </tbody>\n",
       "</table>\n",
       "</div>"
      ],
      "text/plain": [
       "        Ticker     Nombre  Valor\n",
       "Accion1   AAPL      Apple    135\n",
       "Accion2   MSFT  Microsoft    100"
      ]
     },
     "execution_count": 95,
     "metadata": {},
     "output_type": "execute_result"
    }
   ],
   "source": [
    "df2"
   ]
  },
  {
   "cell_type": "code",
   "execution_count": 98,
   "id": "1a1b1c68",
   "metadata": {},
   "outputs": [
    {
     "name": "stdout",
     "output_type": "stream",
     "text": [
      "Accion1    AAPL\n",
      "Accion2    MSFT\n",
      "Name: Ticker, dtype: object\n",
      "Accion1        Apple\n",
      "Accion2    Microsoft\n",
      "Name: Nombre, dtype: object\n"
     ]
    },
    {
     "data": {
      "text/plain": [
       "pandas.core.series.Series"
      ]
     },
     "execution_count": 98,
     "metadata": {},
     "output_type": "execute_result"
    }
   ],
   "source": [
    "print(df2.Ticker)\n",
    "print(df2['Nombre'])\n",
    "type(df2.Ticker)"
   ]
  },
  {
   "cell_type": "code",
   "execution_count": 99,
   "id": "93c10610",
   "metadata": {},
   "outputs": [],
   "source": [
    "dic = {\n",
    "    'ticker':['AAPL','MSFT'],\n",
    "    'nombre':['Apple','Microsoft'],\n",
    "    'precio':[135,100]\n",
    "}"
   ]
  },
  {
   "cell_type": "code",
   "execution_count": 100,
   "id": "3631a2eb",
   "metadata": {},
   "outputs": [
    {
     "data": {
      "text/html": [
       "<div>\n",
       "<style scoped>\n",
       "    .dataframe tbody tr th:only-of-type {\n",
       "        vertical-align: middle;\n",
       "    }\n",
       "\n",
       "    .dataframe tbody tr th {\n",
       "        vertical-align: top;\n",
       "    }\n",
       "\n",
       "    .dataframe thead th {\n",
       "        text-align: right;\n",
       "    }\n",
       "</style>\n",
       "<table border=\"1\" class=\"dataframe\">\n",
       "  <thead>\n",
       "    <tr style=\"text-align: right;\">\n",
       "      <th></th>\n",
       "      <th>ticker</th>\n",
       "      <th>nombre</th>\n",
       "      <th>precio</th>\n",
       "    </tr>\n",
       "  </thead>\n",
       "  <tbody>\n",
       "    <tr>\n",
       "      <th>Accion1</th>\n",
       "      <td>AAPL</td>\n",
       "      <td>Apple</td>\n",
       "      <td>135</td>\n",
       "    </tr>\n",
       "    <tr>\n",
       "      <th>Accion2</th>\n",
       "      <td>MSFT</td>\n",
       "      <td>Microsoft</td>\n",
       "      <td>100</td>\n",
       "    </tr>\n",
       "  </tbody>\n",
       "</table>\n",
       "</div>"
      ],
      "text/plain": [
       "        ticker     nombre  precio\n",
       "Accion1   AAPL      Apple     135\n",
       "Accion2   MSFT  Microsoft     100"
      ]
     },
     "execution_count": 100,
     "metadata": {},
     "output_type": "execute_result"
    }
   ],
   "source": [
    "df3 = pd.DataFrame(dic, index=[\"Accion1\",\"Accion2\"])\n",
    "df3"
   ]
  },
  {
   "cell_type": "code",
   "execution_count": 101,
   "id": "d4b739f3",
   "metadata": {},
   "outputs": [
    {
     "data": {
      "text/plain": [
       "ticker     AAPL\n",
       "nombre    Apple\n",
       "precio      135\n",
       "Name: Accion1, dtype: object"
      ]
     },
     "execution_count": 101,
     "metadata": {},
     "output_type": "execute_result"
    }
   ],
   "source": [
    "df3.iloc[0]"
   ]
  },
  {
   "cell_type": "markdown",
   "id": "e20da940",
   "metadata": {},
   "source": [
    "En el caso del dataframe la notacion Dot o Brackets se usa para las columnas.  \n",
    "Los metodos loc, iloc se usan para las filas."
   ]
  },
  {
   "cell_type": "code",
   "execution_count": 102,
   "id": "a7948052",
   "metadata": {},
   "outputs": [
    {
     "data": {
      "text/plain": [
       "pandas.core.series.Series"
      ]
     },
     "execution_count": 102,
     "metadata": {},
     "output_type": "execute_result"
    }
   ],
   "source": [
    "type(df3.iloc[0])"
   ]
  },
  {
   "cell_type": "code",
   "execution_count": 105,
   "id": "49f792d1",
   "metadata": {},
   "outputs": [
    {
     "data": {
      "text/plain": [
       "'Apple'"
      ]
     },
     "execution_count": 105,
     "metadata": {},
     "output_type": "execute_result"
    }
   ],
   "source": [
    "## Acceso Fila, Columna\n",
    "df3.iloc[0][\"nombre\"]"
   ]
  },
  {
   "cell_type": "code",
   "execution_count": 106,
   "id": "8a51d562",
   "metadata": {},
   "outputs": [
    {
     "data": {
      "text/plain": [
       "'Apple'"
      ]
     },
     "execution_count": 106,
     "metadata": {},
     "output_type": "execute_result"
    }
   ],
   "source": [
    "df3.loc[\"Accion1\"][\"nombre\"]"
   ]
  },
  {
   "cell_type": "code",
   "execution_count": 108,
   "id": "60a53e17",
   "metadata": {},
   "outputs": [
    {
     "data": {
      "text/plain": [
       "'Apple'"
      ]
     },
     "execution_count": 108,
     "metadata": {},
     "output_type": "execute_result"
    }
   ],
   "source": [
    "df3.iloc[0][1]"
   ]
  },
  {
   "cell_type": "code",
   "execution_count": 113,
   "id": "b2756cce",
   "metadata": {},
   "outputs": [
    {
     "data": {
      "text/plain": [
       "0"
      ]
     },
     "execution_count": 113,
     "metadata": {},
     "output_type": "execute_result"
    }
   ],
   "source": [
    "df3.precio.argmax()"
   ]
  },
  {
   "cell_type": "markdown",
   "id": "27a4d6d1",
   "metadata": {},
   "source": [
    "## Web Scraping - Beautifulsoup4"
   ]
  },
  {
   "cell_type": "code",
   "execution_count": 117,
   "id": "cd1275e6",
   "metadata": {},
   "outputs": [],
   "source": [
    "import requests\n",
    "from bs4 import BeautifulSoup\n",
    "from datetime import datetime"
   ]
  },
  {
   "cell_type": "code",
   "execution_count": 127,
   "id": "f9f5f939",
   "metadata": {
    "scrolled": true
   },
   "outputs": [
    {
     "name": "stdout",
     "output_type": "stream",
     "text": [
      "$185.15\n"
     ]
    }
   ],
   "source": [
    "url=\"https://coinmarketcap.com/currencies/solana/\"\n",
    "\n",
    "respuesta = requests.get(url) # hacer el request a la url (servidor y recurso) usando get que es para\n",
    "#traer el html del servidor\n",
    "\n",
    "#print(respuesta.status_code)\n",
    "#print(respuesta.content)\n",
    "\n",
    "if(respuesta.status_code == 200):\n",
    "    soup = BeautifulSoup(respuesta.text, 'html.parser')\n",
    "    precio = soup.find('div', {'class':'priceValue'}).text\n",
    "    porcentaje_var = soup.find('span', {'class':'icon-Caret-down'}).text\n",
    "    print(precio)\n",
    "else:\n",
    "    print(\"Hubo un error en el request\")"
   ]
  },
  {
   "cell_type": "code",
   "execution_count": 144,
   "id": "f87dd5c6",
   "metadata": {},
   "outputs": [],
   "source": [
    "def obtenerDatos(crypto):\n",
    "    url=f\"https://coinmarketcap.com/currencies/{crypto}/\"\n",
    "    \n",
    "    respuesta = requests.get(url)\n",
    "    if(respuesta.status_code == 200):\n",
    "        soup = BeautifulSoup(respuesta.text, 'html.parser')\n",
    "        precio = soup.find('div', {'class':'priceValue'}).text\n",
    "        porcentaje_var = soup.find('span', {'class':'sc-15yy2pl-0'}).text\n",
    "    else:\n",
    "        precio=\"NA\"\n",
    "    return {\n",
    "        'crypto':crypto,\n",
    "        'precio':precio,\n",
    "        'porcentaje':porcentaje_var,\n",
    "        'time': datetime.now().strftime(\"%d-%m-%Y %H:%M:%S\")\n",
    "    };"
   ]
  },
  {
   "cell_type": "code",
   "execution_count": 146,
   "id": "d5f7fda2",
   "metadata": {
    "scrolled": true
   },
   "outputs": [
    {
     "name": "stdout",
     "output_type": "stream",
     "text": [
      "{'crypto': 'solana', 'precio': '$185.58', 'porcentaje': '3.03%', 'time': '09-09-2021 20:37:49'}\n",
      "{'crypto': 'cardano', 'precio': '$2.51', 'porcentaje': '1.20%', 'time': '09-09-2021 20:37:50'}\n",
      "{'crypto': 'bitcoin', 'precio': '$46,538.46', 'porcentaje': '0.86%', 'time': '09-09-2021 20:37:51'}\n"
     ]
    }
   ],
   "source": [
    "sol = obtenerDatos(\"solana\")\n",
    "car = obtenerDatos(\"cardano\")\n",
    "btc = obtenerDatos(\"bitcoin\")\n",
    "print(sol)\n",
    "print(car)\n",
    "print(btc)"
   ]
  },
  {
   "cell_type": "code",
   "execution_count": 147,
   "id": "55f96658",
   "metadata": {},
   "outputs": [
    {
     "data": {
      "text/plain": [
       "['09-09-2021 20:37:49  CRYPTO: solana con PRECIO: $185.58 %: 3.03% \\n',\n",
       " '09-09-2021 20:37:50  CRYPTO: cardano con PRECIO: $2.51 %: 1.20% \\n',\n",
       " '09-09-2021 20:37:51  CRYPTO: bitcoin con PRECIO: $46,538.46 %: 0.86% \\n']"
      ]
     },
     "execution_count": 147,
     "metadata": {},
     "output_type": "execute_result"
    }
   ],
   "source": [
    "data=[]\n",
    "data.append(f'{sol[\"time\"]}  CRYPTO: {sol[\"crypto\"]} con PRECIO: {sol[\"precio\"]} %: {sol[\"porcentaje\"]} \\n')\n",
    "data.append(f'{car[\"time\"]}  CRYPTO: {car[\"crypto\"]} con PRECIO: {car[\"precio\"]} %: {car[\"porcentaje\"]} \\n')\n",
    "data.append(f'{btc[\"time\"]}  CRYPTO: {btc[\"crypto\"]} con PRECIO: {btc[\"precio\"]} %: {btc[\"porcentaje\"]} \\n')\n",
    "data"
   ]
  },
  {
   "cell_type": "code",
   "execution_count": 148,
   "id": "3b79eb20",
   "metadata": {},
   "outputs": [],
   "source": [
    "#'w' modo escritura write\n",
    "#'r' modo de lectura read\n",
    "#'a' modo de agregar append\n",
    "with open('cryptodata.txt', 'w') as file:\n",
    "    file.writelines(data)\n",
    "    file.close()"
   ]
  },
  {
   "cell_type": "code",
   "execution_count": 150,
   "id": "8a211442",
   "metadata": {},
   "outputs": [
    {
     "data": {
      "text/plain": [
       "'D:\\\\Documents\\\\Capacitaciones\\\\Python\\\\Clases MasSaber\\\\Clases E2'"
      ]
     },
     "execution_count": 150,
     "metadata": {},
     "output_type": "execute_result"
    }
   ],
   "source": [
    "import os  ## esto es para saber en donde estoy trabajando y donde se guarda el archivo\n",
    "os.getcwd()"
   ]
  },
  {
   "cell_type": "code",
   "execution_count": 149,
   "id": "56a7fe3a",
   "metadata": {},
   "outputs": [],
   "source": [
    "import time"
   ]
  },
  {
   "cell_type": "code",
   "execution_count": 157,
   "id": "47e93417",
   "metadata": {},
   "outputs": [
    {
     "name": "stdout",
     "output_type": "stream",
     "text": [
      "09-09-2021 21:02:21  CRYPTO: solana con PRECIO: $189.17 %: 0.88% \n",
      "\n",
      "09-09-2021 21:02:22  CRYPTO: bitcoin con PRECIO: $46,637.46 %: 0.98% \n",
      "\n",
      "09-09-2021 21:02:23  CRYPTO: cardano con PRECIO: $2.53 %: 5.37% \n",
      "\n",
      "09-09-2021 21:02:55  CRYPTO: solana con PRECIO: $189.17 %: 0.88% \n",
      "\n",
      "09-09-2021 21:02:56  CRYPTO: bitcoin con PRECIO: $46,654.93 %: 1.11% \n",
      "\n",
      "09-09-2021 21:02:57  CRYPTO: cardano con PRECIO: $2.53 %: 5.37% \n",
      "\n",
      "09-09-2021 21:03:28  CRYPTO: solana con PRECIO: $189.17 %: 0.88% \n",
      "\n",
      "09-09-2021 21:03:29  CRYPTO: bitcoin con PRECIO: $46,637.46 %: 0.98% \n",
      "\n",
      "09-09-2021 21:03:30  CRYPTO: cardano con PRECIO: $2.53 %: 5.16% \n",
      "\n",
      "09-09-2021 21:04:01  CRYPTO: solana con PRECIO: $189.17 %: 0.88% \n",
      "\n",
      "09-09-2021 21:04:01  CRYPTO: bitcoin con PRECIO: $46,637.46 %: 0.98% \n",
      "\n",
      "09-09-2021 21:04:02  CRYPTO: cardano con PRECIO: $2.53 %: 5.37% \n",
      "\n"
     ]
    }
   ],
   "source": [
    "contador = 0\n",
    "criptomonedas = ['solana','bitcoin','cardano']\n",
    "with open('cryptodata.txt', 'a') as file:\n",
    "    while contador <4:\n",
    "        for item in criptomonedas:\n",
    "            crypto= obtenerDatos(item)\n",
    "            text = f'{crypto[\"time\"]}  CRYPTO: {crypto[\"crypto\"]} con PRECIO: {crypto[\"precio\"]} %: {crypto[\"porcentaje\"]} \\n'\n",
    "            print(text)\n",
    "            file.write(text)\n",
    "        time.sleep(30)\n",
    "        contador+=1\n",
    "    file.close()"
   ]
  },
  {
   "cell_type": "code",
   "execution_count": null,
   "id": "82551bb7",
   "metadata": {},
   "outputs": [],
   "source": []
  }
 ],
 "metadata": {
  "kernelspec": {
   "display_name": "Python 3",
   "language": "python",
   "name": "python3"
  },
  "language_info": {
   "codemirror_mode": {
    "name": "ipython",
    "version": 3
   },
   "file_extension": ".py",
   "mimetype": "text/x-python",
   "name": "python",
   "nbconvert_exporter": "python",
   "pygments_lexer": "ipython3",
   "version": "3.8.5"
  }
 },
 "nbformat": 4,
 "nbformat_minor": 5
}
