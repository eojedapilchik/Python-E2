{
 "cells": [
  {
   "cell_type": "markdown",
   "id": "5675daa6",
   "metadata": {},
   "source": [
    "# Listas (cont)\n"
   ]
  },
  {
   "cell_type": "code",
   "execution_count": 9,
   "id": "4fb4f853",
   "metadata": {},
   "outputs": [],
   "source": [
    "acciones_a = [\"AAPL\",\"GOOGL\",\"MSFT\",\"AMZN\"]\n",
    "acciones_b = [\"MRO\", \"RDS/B\", \"CVX\"]"
   ]
  },
  {
   "cell_type": "code",
   "execution_count": 5,
   "id": "d7874bb4",
   "metadata": {},
   "outputs": [
    {
     "name": "stdout",
     "output_type": "stream",
     "text": [
      "['AAPL', 'GOOGL', 'MSFT', 'AMZN', 'MRO', 'RDS/B', 'CVX']\n",
      "['MRO', 'RDS/B', 'CVX', 'AAPL', 'GOOGL', 'MSFT', 'AMZN']\n"
     ]
    }
   ],
   "source": [
    "# Combinar las listas\n",
    "acciones_todas = acciones_a + acciones_b\n",
    "print(acciones_todas)\n",
    "\n",
    "acciones_todas2 = acciones_b +acciones_a\n",
    "print(acciones_todas2)"
   ]
  },
  {
   "cell_type": "code",
   "execution_count": 10,
   "id": "7eea6775",
   "metadata": {},
   "outputs": [
    {
     "data": {
      "text/plain": [
       "['MRO', 'RDS/B', 'CVX', 'BABA', 'TM']"
      ]
     },
     "execution_count": 10,
     "metadata": {},
     "output_type": "execute_result"
    }
   ],
   "source": [
    "# extension - agregar mas elementos a una lista\n",
    "acciones_b.extend([\"BABA\",\"TM\"])  # acciones_b = acciones_b + [elementos]\n",
    "print(acciones_b)"
   ]
  },
  {
   "cell_type": "code",
   "execution_count": 11,
   "id": "5f8effa4",
   "metadata": {},
   "outputs": [
    {
     "name": "stdout",
     "output_type": "stream",
     "text": [
      "['MRO', 'RDS/B', 'CVX', 'BABA', 'TM', 'KWEB']\n"
     ]
    }
   ],
   "source": [
    "# append - agregar un elemento a la lista\n",
    "acciones_b.append('KWEB')\n",
    "print(acciones_b)"
   ]
  },
  {
   "cell_type": "code",
   "execution_count": 12,
   "id": "fca11bb4",
   "metadata": {},
   "outputs": [],
   "source": [
    "acciones_b.append(['KWEB','QQQ']) ## agregar una lista como elemento (lista anidada)"
   ]
  },
  {
   "cell_type": "code",
   "execution_count": 13,
   "id": "bf601e63",
   "metadata": {},
   "outputs": [
    {
     "data": {
      "text/plain": [
       "['MRO', 'RDS/B', 'CVX', 'BABA', 'TM', 'KWEB', ['KWEB', 'QQQ']]"
      ]
     },
     "execution_count": 13,
     "metadata": {},
     "output_type": "execute_result"
    }
   ],
   "source": [
    "acciones_b"
   ]
  },
  {
   "cell_type": "code",
   "execution_count": 15,
   "id": "a0e26d61",
   "metadata": {},
   "outputs": [
    {
     "name": "stdout",
     "output_type": "stream",
     "text": [
      "['AAPL', 'AMZN', 'GOOGL', 'MSFT']\n"
     ]
    }
   ],
   "source": [
    "# Ordenar\n",
    "acciones_a.sort()\n",
    "print(acciones_a)"
   ]
  },
  {
   "cell_type": "code",
   "execution_count": 18,
   "id": "f1130eab",
   "metadata": {},
   "outputs": [
    {
     "ename": "TypeError",
     "evalue": "'<' not supported between instances of 'list' and 'str'",
     "output_type": "error",
     "traceback": [
      "\u001b[1;31m---------------------------------------------------------------------------\u001b[0m",
      "\u001b[1;31mTypeError\u001b[0m                                 Traceback (most recent call last)",
      "\u001b[1;32m<ipython-input-18-77f610bef0a5>\u001b[0m in \u001b[0;36m<module>\u001b[1;34m\u001b[0m\n\u001b[0;32m      1\u001b[0m \u001b[1;31m# Cuando los tipos de datos son distintos, da error\u001b[0m\u001b[1;33m\u001b[0m\u001b[1;33m\u001b[0m\u001b[1;33m\u001b[0m\u001b[0m\n\u001b[1;32m----> 2\u001b[1;33m \u001b[0macciones_b\u001b[0m\u001b[1;33m.\u001b[0m\u001b[0msort\u001b[0m\u001b[1;33m(\u001b[0m\u001b[1;33m)\u001b[0m\u001b[1;33m\u001b[0m\u001b[1;33m\u001b[0m\u001b[0m\n\u001b[0m\u001b[0;32m      3\u001b[0m \u001b[0mprint\u001b[0m\u001b[1;33m(\u001b[0m\u001b[0macciones_b\u001b[0m\u001b[1;33m)\u001b[0m\u001b[1;33m\u001b[0m\u001b[1;33m\u001b[0m\u001b[0m\n",
      "\u001b[1;31mTypeError\u001b[0m: '<' not supported between instances of 'list' and 'str'"
     ]
    }
   ],
   "source": [
    "# Cuando los tipos de datos son distintos, da error\n",
    "acciones_b.sort()\n",
    "print(acciones_b)"
   ]
  },
  {
   "cell_type": "code",
   "execution_count": 47,
   "id": "95d30859",
   "metadata": {},
   "outputs": [
    {
     "name": "stdout",
     "output_type": "stream",
     "text": [
      "['AMZN', 'MSFT', 'GOOGL', 'AAPL']\n"
     ]
    }
   ],
   "source": [
    "## Metodo para revertir y asignar\n",
    "acciones_a = [\"AAPL\",\"GOOGL\",\"MSFT\",\"AMZN\"]\n",
    "acciones_a.reverse()\n",
    "print(acciones_a)"
   ]
  },
  {
   "cell_type": "code",
   "execution_count": 20,
   "id": "a8628a0d",
   "metadata": {},
   "outputs": [
    {
     "name": "stdout",
     "output_type": "stream",
     "text": [
      "True\n",
      "False\n"
     ]
    }
   ],
   "source": [
    "## Verificar si un elemento esta en una lista\n",
    "print('AAPL' in acciones_a)\n",
    "print('AAPL' in acciones_b)"
   ]
  },
  {
   "cell_type": "code",
   "execution_count": 21,
   "id": "4c016a0e",
   "metadata": {},
   "outputs": [
    {
     "name": "stdout",
     "output_type": "stream",
     "text": [
      "['BABA', 'RDS.A', 'KWEB', 'MRO', 'RDS/B', 'TM', ['KWEB', 'QQQ']]\n"
     ]
    }
   ],
   "source": [
    "## Mutabilidad / cambiar elementos de la lista / Reemplazar\n",
    "acciones_b[1]=\"RDS.A\"\n",
    "print(acciones_b)\n"
   ]
  },
  {
   "cell_type": "code",
   "execution_count": 26,
   "id": "b401383e",
   "metadata": {},
   "outputs": [
    {
     "name": "stdout",
     "output_type": "stream",
     "text": [
      "S\n"
     ]
    },
    {
     "ename": "TypeError",
     "evalue": "'str' object does not support item assignment",
     "output_type": "error",
     "traceback": [
      "\u001b[1;31m---------------------------------------------------------------------------\u001b[0m",
      "\u001b[1;31mTypeError\u001b[0m                                 Traceback (most recent call last)",
      "\u001b[1;32m<ipython-input-26-bd84c9116408>\u001b[0m in \u001b[0;36m<module>\u001b[1;34m\u001b[0m\n\u001b[0;32m      4\u001b[0m \u001b[1;33m\u001b[0m\u001b[0m\n\u001b[0;32m      5\u001b[0m \u001b[1;31m#No existe la mutabilidad\u001b[0m\u001b[1;33m\u001b[0m\u001b[1;33m\u001b[0m\u001b[1;33m\u001b[0m\u001b[0m\n\u001b[1;32m----> 6\u001b[1;33m \u001b[0mtexto\u001b[0m\u001b[1;33m[\u001b[0m\u001b[1;36m2\u001b[0m\u001b[1;33m]\u001b[0m\u001b[1;33m=\u001b[0m\u001b[1;34m\"B\"\u001b[0m\u001b[1;33m\u001b[0m\u001b[1;33m\u001b[0m\u001b[0m\n\u001b[0m\u001b[0;32m      7\u001b[0m \u001b[0mtexto\u001b[0m\u001b[1;33m.\u001b[0m\u001b[0msort\u001b[0m\u001b[1;33m(\u001b[0m\u001b[1;33m)\u001b[0m\u001b[1;33m\u001b[0m\u001b[1;33m\u001b[0m\u001b[0m\n",
      "\u001b[1;31mTypeError\u001b[0m: 'str' object does not support item assignment"
     ]
    }
   ],
   "source": [
    "## Cadenas de texto como listas\n",
    "texto =  \"RDSA\"\n",
    "print(texto[2])\n",
    "\n",
    "#No existe la mutabilidad\n",
    "texto[2]=\"B\""
   ]
  },
  {
   "cell_type": "code",
   "execution_count": 32,
   "id": "7aa92d80",
   "metadata": {},
   "outputs": [
    {
     "name": "stdout",
     "output_type": "stream",
     "text": [
      "60.2\n",
      "[12, 35, 5.1]\n",
      "35\n",
      "[12, 5.1]\n"
     ]
    }
   ],
   "source": [
    "#Quitar Elementos\n",
    "blockchain = [12,35,5.1,60.2]\n",
    "\n",
    "#Remover el ultimo elemento de la lista -> pop() \n",
    "# devuelve el elemento removido\n",
    "ultimo = blockchain.pop()\n",
    "print(ultimo)\n",
    "print(blockchain)\n",
    "\n",
    "# Remover elemento en una posicion especifica -> pop(indice)\n",
    "segundo = blockchain.pop(1)\n",
    "print(segundo)\n",
    "print(blockchain)"
   ]
  },
  {
   "cell_type": "code",
   "execution_count": 40,
   "id": "3670d041",
   "metadata": {},
   "outputs": [
    {
     "name": "stdout",
     "output_type": "stream",
     "text": [
      "[35, 5.1]\n",
      "[35, 5.1, 60.2]\n",
      "[12, 35, 5.1, 60.2]\n",
      "[12, 35, 5.1]\n",
      "[12, 35, 5.1, 60.2]\n",
      "[35, 5.1, 60.2]\n"
     ]
    }
   ],
   "source": [
    "# Cortar, slicing de una lista - El Ultimo indice indicado no se incluye dentro del slicing [1,n)\n",
    "blockchain = [12,35,5.1,60.2]\n",
    "print(blockchain[1:3])  # trae los elementos desde el indice 1 hasta el indice 2 (n-1)\n",
    "\n",
    "print(blockchain[1:])  # trae los elementos desde el indice 1 hasta el final\n",
    "\n",
    "print(blockchain[:4]) # trae los elementos desde el indice inicial hasta el 3 (n-1)\n",
    "\n",
    "print(blockchain[:-1]) # trae todos menos el ultimo\n",
    "\n",
    "print(blockchain[:]) # trae todos los elementos de la lista\n",
    "\n",
    "print(blockchain[-3:]) # trae desde el  antepenultimo hasta el ultimo\n"
   ]
  },
  {
   "cell_type": "code",
   "execution_count": 43,
   "id": "edd1bdcc",
   "metadata": {},
   "outputs": [
    {
     "name": "stdout",
     "output_type": "stream",
     "text": [
      "[12, 5.1, 6, 25]\n",
      "[25, 7, 6, 60.2, 5.1, 35, 12]\n",
      "[12, 35, 5.1, 60.2, 6, 7, 25]\n"
     ]
    }
   ],
   "source": [
    "blockchain = [12,35,5.1,60.2,6,7,25]\n",
    "\n",
    "#Step , salto\n",
    "print(blockchain[::2]) # traer cada dos los elementos de la lista\n",
    "\n",
    "print(blockchain[::-1]) # invierte el orden de la lista\n",
    "print(blockchain)"
   ]
  },
  {
   "cell_type": "code",
   "execution_count": 46,
   "id": "dbf408ff",
   "metadata": {},
   "outputs": [
    {
     "name": "stdout",
     "output_type": "stream",
     "text": [
      "OTXET\n"
     ]
    }
   ],
   "source": [
    "texto = \"TEXTO\"\n",
    "texto=texto[::-1]\n",
    "print(texto)"
   ]
  },
  {
   "cell_type": "code",
   "execution_count": 52,
   "id": "c2e254ec",
   "metadata": {},
   "outputs": [
    {
     "name": "stdout",
     "output_type": "stream",
     "text": [
      "['X', 'GOOGL', 'MSFT', 'AMZN']\n",
      "['X', 'GOOGL', 'MSFT', 'AMZN']\n",
      "['X', 'AAPL', 'MSFT', 'AMZN']\n",
      "['X', 'AAPL', 'MSFT', 'AMZN']\n"
     ]
    }
   ],
   "source": [
    "acciones_a = [\"AAPL\",\"GOOGL\",\"MSFT\",\"AMZN\"]\n",
    "\n",
    "copia = acciones_a\n",
    "acciones_a[0]=\"X\"\n",
    "print(acciones_a)\n",
    "print(copia)\n",
    "copia[1]=\"AAPL\"\n",
    "print(acciones_a)\n",
    "print(copia)"
   ]
  },
  {
   "cell_type": "code",
   "execution_count": 55,
   "id": "5488a7a7",
   "metadata": {},
   "outputs": [
    {
     "name": "stdout",
     "output_type": "stream",
     "text": [
      "['X', 'GOOGL', 'MSFT', 'AMZN']\n",
      "['AMZN', 'MSFT', 'GOOGL', 'AAPL']\n"
     ]
    }
   ],
   "source": [
    "# Copiar la lista para poder tener separacion de las listas\n",
    "acciones_a = [\"AAPL\",\"GOOGL\",\"MSFT\",\"AMZN\"]\n",
    "copia = acciones_a.copy()\n",
    "\n",
    "copia[0]=\"X\"\n",
    "acciones_a.reverse()\n",
    "\n",
    "print(copia)\n",
    "print(acciones_a)"
   ]
  },
  {
   "cell_type": "markdown",
   "id": "e8c0d4ee",
   "metadata": {},
   "source": [
    "## Diccionarios - Dictionary\n",
    "\n",
    "es una estructura de datos\n",
    "1) no son secuenciales como las listas, es decir, no tienen un ordene sepecifico  \n",
    "2) permiten organizar data que esta relacionada"
   ]
  },
  {
   "cell_type": "code",
   "execution_count": 84,
   "id": "f81e3a4c",
   "metadata": {},
   "outputs": [
    {
     "name": "stdout",
     "output_type": "stream",
     "text": [
      "{'ticker': 'AAPL', 'nombre': 'Apple', 'precio': 200, 'fundadores': ['Steve Jobs', 'Steve W.'], 'eps': [1.5, 1.5, 1.5, 1.5], 'velas': [[210, 189, 190, 200], [205, 200, 201, 190], [205, 205, 201, 190], [205, 215, 201, 190]]}\n"
     ]
    }
   ],
   "source": [
    "#{ \n",
    "# 'key':'value', \n",
    "# 'llave':'valor'\n",
    "#}\n",
    "accion = {\n",
    "    'ticker':'AAPL',\n",
    "    'nombre': 'Apple',\n",
    "    'precio': 200,\n",
    "    'fundadores': ['Steve Jobs', 'Steve W.'],\n",
    "    'eps': [1.5,1.5,1.5,1.5],\n",
    "    'velas': [[210,189,190,200],[205,200,201,190],[205,205,201,190],[205,215,201,190]] #lista de listas o listas anidadas\n",
    "}\n",
    "\n",
    "print(accion)"
   ]
  },
  {
   "cell_type": "code",
   "execution_count": 85,
   "id": "fd49cedc",
   "metadata": {},
   "outputs": [
    {
     "name": "stdout",
     "output_type": "stream",
     "text": [
      "Apple\n",
      "[1.5, 1.5, 1.5, 1.5]\n",
      "1.5\n",
      "[1.5, 1.5]\n",
      "189\n"
     ]
    }
   ],
   "source": [
    "## Acceder a los elementos/valores del diccionario\n",
    "\n",
    "print(accion['nombre'])\n",
    "print(accion['eps'])\n",
    "print(accion['eps'][0]) #accediendo al primer elemento de la lista\n",
    "print(accion['eps'][1:3]) # esto lo puedo hacer porque el valor asociado a la llave 'eps' es una lista\n",
    "\n",
    "print(accion['velas'][0][1]) # esto es trae la sublista de indice 0 de la llave velas, y el elemento \n",
    "# del indice 1 (2do elemento) de esa sublista."
   ]
  },
  {
   "cell_type": "code",
   "execution_count": 86,
   "id": "27d5dff8",
   "metadata": {
    "scrolled": true
   },
   "outputs": [
    {
     "name": "stdout",
     "output_type": "stream",
     "text": [
      "189 200\n",
      "189\n",
      "200\n",
      "205\n",
      "215\n"
     ]
    }
   ],
   "source": [
    "#acceder el segundo elemento de cada sublista de velas\n",
    "print(accion['velas'][0][1],accion['velas'][1][1])\n",
    "\n",
    "#acceder el segundo elemento de cada sublista de velas\n",
    "for sublista in accion['velas']:\n",
    "    print(sublista[1])"
   ]
  },
  {
   "cell_type": "code",
   "execution_count": null,
   "id": "a4213dc2",
   "metadata": {},
   "outputs": [],
   "source": []
  }
 ],
 "metadata": {
  "kernelspec": {
   "display_name": "Python 3",
   "language": "python",
   "name": "python3"
  },
  "language_info": {
   "codemirror_mode": {
    "name": "ipython",
    "version": 3
   },
   "file_extension": ".py",
   "mimetype": "text/x-python",
   "name": "python",
   "nbconvert_exporter": "python",
   "pygments_lexer": "ipython3",
   "version": "3.8.5"
  }
 },
 "nbformat": 4,
 "nbformat_minor": 5
}
