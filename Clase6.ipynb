{
 "cells": [
  {
   "cell_type": "code",
   "execution_count": 1,
   "id": "11ed4c96",
   "metadata": {},
   "outputs": [
    {
     "name": "stdout",
     "output_type": "stream",
     "text": [
      "iteracion 0\n",
      "iteracion 1\n",
      "iteracion 2\n",
      "iteracion 3\n",
      "iteracion 4\n"
     ]
    }
   ],
   "source": [
    "import time\n",
    "for i in range(5):\n",
    "    time.sleep(10)\n",
    "    print(f\"iteracion {i}\")"
   ]
  },
  {
   "cell_type": "code",
   "execution_count": 2,
   "id": "992a1f58",
   "metadata": {},
   "outputs": [
    {
     "name": "stdout",
     "output_type": "stream",
     "text": [
      "iteracion 0\n",
      "iteracion 1\n",
      "iteracion 2\n",
      "iteracion 3\n",
      "iteracion 4\n"
     ]
    }
   ],
   "source": [
    "import time\n",
    "for i in [0,1,2,3,4]:\n",
    "    time.sleep(2)\n",
    "    print(f\"iteracion {i}\")"
   ]
  },
  {
   "cell_type": "markdown",
   "id": "0c1900c6",
   "metadata": {},
   "source": [
    "## Enviar Correos Masivamente"
   ]
  },
  {
   "cell_type": "code",
   "execution_count": 3,
   "id": "372477f8",
   "metadata": {},
   "outputs": [],
   "source": [
    "import smtplib, ssl\n",
    "import time\n",
    "import getpass # para solicitar contraseña\n",
    "from datetime import datetime\n",
    "\n",
    "from email.mime.text import MIMEText\n",
    "from email.mime.multipart import MIMEMultipart\n",
    "\n",
    "import csv"
   ]
  },
  {
   "cell_type": "code",
   "execution_count": 21,
   "id": "8be01da1",
   "metadata": {},
   "outputs": [
    {
     "name": "stdout",
     "output_type": "stream",
     "text": [
      "Introduce la contraseña del correo········\n"
     ]
    }
   ],
   "source": [
    "port = 587\n",
    "smtp_server = \"smtp.gmail.com\"\n",
    "emisor = \"pythonmassaber@gmail.com\"\n",
    "password = getpass.getpass(\"Introduce la contraseña del correo\")\n",
    "fecha =datetime.now()\n",
    "\n",
    "plantilla =\"\"\"\\\n",
    "To: {nombre} {apellido}\n",
    "\\\n",
    "Subject:  Correo masivo desde python \n",
    "\n",
    "Hola {nombre},{apellido} este mensaje se envió directamente con un script de Python.\n",
    "Fecha: {fecha}\n",
    "\n",
    "Saludos cordiales,\n",
    "\n",
    "Python Bot\n",
    "\n",
    "\"\"\"\n",
    "\n",
    "context = ssl.create_default_context()\n",
    "\n",
    "with smtplib.SMTP(smtp_server, port) as server:\n",
    "    server.ehlo()\n",
    "    server.starttls(context=context)\n",
    "    server.ehlo()\n",
    "    server.login(emisor,password)\n",
    "    with open(\"Data.csv\") as file:\n",
    "        reader = csv.reader(file)\n",
    "        next(reader) # saltar la linea de los header(titulos)\n",
    "        for nombre, apellido, correo in reader:\n",
    "            mensaje = plantilla.format(nombre=nombre, apellido = apellido, fecha = fecha.strftime(\"%b %d %Y %H:%M:%S\"))\n",
    "            time.sleep(10)\n",
    "            server.sendmail(emisor, correo, mensaje.encode('utf-8'))\n",
    "\n"
   ]
  },
  {
   "cell_type": "markdown",
   "id": "02b9ef50",
   "metadata": {},
   "source": [
    "## Ejercicio Streamlit"
   ]
  },
  {
   "cell_type": "markdown",
   "id": "e49329e6",
   "metadata": {},
   "source": [
    "https://streamlit.io/\n",
    "\n",
    "INSTALACION:\n",
    "\n",
    "pip install streamlit \n",
    "streamlit hello"
   ]
  },
  {
   "cell_type": "code",
   "execution_count": null,
   "id": "8ab719fb",
   "metadata": {},
   "outputs": [],
   "source": []
  }
 ],
 "metadata": {
  "kernelspec": {
   "display_name": "Python 3",
   "language": "python",
   "name": "python3"
  },
  "language_info": {
   "codemirror_mode": {
    "name": "ipython",
    "version": 3
   },
   "file_extension": ".py",
   "mimetype": "text/x-python",
   "name": "python",
   "nbconvert_exporter": "python",
   "pygments_lexer": "ipython3",
   "version": "3.8.5"
  }
 },
 "nbformat": 4,
 "nbformat_minor": 5
}
