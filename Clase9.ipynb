{
 "cells": [
  {
   "cell_type": "markdown",
   "id": "b36d24ed",
   "metadata": {},
   "source": [
    "## Numpy\n",
    "\n",
    "Libreria numero de Python que permite el procesado rapido de datos. Numpy tiene estructura de datos (arreglos) propias que son mas eficientes para almacenar la data.  \n",
    "Mas eficientes que trabajar con listas simples de Python.  \n",
    "A parte tiene sub librerias o derivadas numpy-financial, que tienen funciones de calculo financiero (TIR, NPER, NPV).  \n",
    "Es la base de Pandas"
   ]
  },
  {
   "cell_type": "markdown",
   "id": "e3857a59",
   "metadata": {},
   "source": [
    "https://numpy.org/numpy-financial/latest/"
   ]
  },
  {
   "cell_type": "markdown",
   "id": "7dbb7de7",
   "metadata": {},
   "source": [
    "## Arreglos y Vectores"
   ]
  },
  {
   "cell_type": "code",
   "execution_count": 1,
   "id": "a337998d",
   "metadata": {},
   "outputs": [],
   "source": [
    "import numpy as np"
   ]
  },
  {
   "cell_type": "code",
   "execution_count": 7,
   "id": "3d66d8ca",
   "metadata": {},
   "outputs": [
    {
     "name": "stdout",
     "output_type": "stream",
     "text": [
      "[-200, 100, 200, 50, 30, 200]\n",
      "[-200  100  200   50   30  200]\n"
     ]
    },
    {
     "data": {
      "text/plain": [
       "numpy.ndarray"
      ]
     },
     "execution_count": 7,
     "metadata": {},
     "output_type": "execute_result"
    }
   ],
   "source": [
    "flujos = [-200,100,200,50,30,200] # lista de python\n",
    "#vector es un arreglo de 1 dimension\n",
    "np_flujos = np.array(flujos)\n",
    "\n",
    "print(flujos) #imprimir la lista de python\n",
    "print(np_flujos) # imprimir el vector/arreglo de numpy (proveniente de la lista flujos)\n",
    "\n",
    "type(np_flujos)\n",
    "#type(flujos)"
   ]
  },
  {
   "cell_type": "code",
   "execution_count": 11,
   "id": "fe0e43cf",
   "metadata": {},
   "outputs": [],
   "source": [
    "import numpy_financial as npf"
   ]
  },
  {
   "cell_type": "code",
   "execution_count": 13,
   "id": "13199023",
   "metadata": {},
   "outputs": [
    {
     "data": {
      "text/plain": [
       "261.9195036946019"
      ]
     },
     "execution_count": 13,
     "metadata": {},
     "output_type": "execute_result"
    }
   ],
   "source": [
    "npf.npv(0.08, np_flujos)"
   ]
  },
  {
   "cell_type": "code",
   "execution_count": 15,
   "id": "0ef7ba96",
   "metadata": {},
   "outputs": [
    {
     "name": "stdout",
     "output_type": "stream",
     "text": [
      "['APPL', 135, 'Apple', 'Cupertino, CA', 3500]\n"
     ]
    }
   ],
   "source": [
    "lista = ['APPL',135,'Apple','Cupertino, CA', 3500] # lista de python\n",
    "print(lista)"
   ]
  },
  {
   "cell_type": "code",
   "execution_count": 16,
   "id": "695b283c",
   "metadata": {},
   "outputs": [
    {
     "name": "stdout",
     "output_type": "stream",
     "text": [
      "['APPL' '135' 'Apple' 'Cupertino, CA' '3500']\n"
     ]
    }
   ],
   "source": [
    "np_lista = np.array(lista)\n",
    "print(np_lista)"
   ]
  },
  {
   "cell_type": "code",
   "execution_count": 17,
   "id": "c9c0f141",
   "metadata": {},
   "outputs": [
    {
     "data": {
      "text/plain": [
       "array(['APPL', '135', 'Apple', 'Cupertino, CA', '3500'], dtype='<U13')"
      ]
     },
     "execution_count": 17,
     "metadata": {},
     "output_type": "execute_result"
    }
   ],
   "source": [
    "np_lista"
   ]
  },
  {
   "cell_type": "markdown",
   "id": "8f34cac1",
   "metadata": {},
   "source": [
    "## Indexado / Slicing\n",
    "\n",
    "similar a las listas normales"
   ]
  },
  {
   "cell_type": "code",
   "execution_count": 25,
   "id": "b68cceab",
   "metadata": {},
   "outputs": [
    {
     "name": "stdout",
     "output_type": "stream",
     "text": [
      "[-200  100  230   50   30  250]\n",
      "-200\n",
      "230\n",
      "250\n",
      "[230  50]\n",
      "[-200  100  230   50   30]\n",
      "[230  50  30 250]\n"
     ]
    }
   ],
   "source": [
    "np_flujos = np.array([-200,'100',230,50,30,250],dtype=int)\n",
    "print(np_flujos)\n",
    "print(np_flujos[0])\n",
    "print(np_flujos[2])\n",
    "print(np_flujos[-1])\n",
    "print(np_flujos[2:4])\n",
    "print(np_flujos[:5])\n",
    "print(np_flujos[2:])"
   ]
  },
  {
   "cell_type": "markdown",
   "id": "64a14639",
   "metadata": {},
   "source": [
    "## Operaciones vectorizadas con Arreglos Numpy"
   ]
  },
  {
   "cell_type": "code",
   "execution_count": 29,
   "id": "f4cccdc4",
   "metadata": {},
   "outputs": [],
   "source": [
    "cf = np.array([-200,100,230,50,30,250])\n",
    "flujos = [-200,100,230,50,30,250]"
   ]
  },
  {
   "cell_type": "code",
   "execution_count": 32,
   "id": "891f55e9",
   "metadata": {},
   "outputs": [
    {
     "name": "stdout",
     "output_type": "stream",
     "text": [
      "[-220   80  210   30   10  230]\n"
     ]
    }
   ],
   "source": [
    "#RESTA\n",
    "print(cf -20)\n",
    "# flujos-20 ## no se puede hacer con las listas de Python"
   ]
  },
  {
   "cell_type": "code",
   "execution_count": 35,
   "id": "71d4d77b",
   "metadata": {},
   "outputs": [
    {
     "name": "stdout",
     "output_type": "stream",
     "text": [
      "[-220, 80, 210, 30, 10, 230]\n"
     ]
    }
   ],
   "source": [
    "## para lograr el mismo efecto con listas de Python\n",
    "flujos_n = []\n",
    "for flujo in flujos:\n",
    "    flujos_n.append(flujo-20)\n",
    "print(flujos_n)"
   ]
  },
  {
   "cell_type": "code",
   "execution_count": 36,
   "id": "f300679b",
   "metadata": {},
   "outputs": [
    {
     "name": "stdout",
     "output_type": "stream",
     "text": [
      "[-400  200  460  100   60  500]\n"
     ]
    }
   ],
   "source": [
    "# MULTIPLICACIÓN\n",
    "print(cf * 2)"
   ]
  },
  {
   "cell_type": "code",
   "execution_count": 54,
   "id": "e6efaa9f",
   "metadata": {},
   "outputs": [
    {
     "name": "stdout",
     "output_type": "stream",
     "text": [
      "[-200.     92.59  197.19   39.69   22.05  170.15]\n",
      "El valor presente neto es de: $321.668828155343\n"
     ]
    }
   ],
   "source": [
    "## calcular el valor presente neto\n",
    "np.set_printoptions(precision=2) # setear la precision de los decimales para la libreria que esta en ejecucion\n",
    "flujo_caja = np.array([-200,100,230,50,30,250])\n",
    "r = 0.08\n",
    "n = np.array([0,1,2,3,4,5])\n",
    "#n = np.array(range(len(flujo_caja)))\n",
    "\n",
    "vp = flujo_caja/((1+r)**n)\n",
    "\n",
    "print(vp)\n",
    "vp_neto = sum(vp)\n",
    "print(f'El valor presente neto es de: ${ vp_neto}')"
   ]
  },
  {
   "cell_type": "code",
   "execution_count": 55,
   "id": "3d584494",
   "metadata": {},
   "outputs": [
    {
     "data": {
      "text/plain": [
       "321.668828155343"
      ]
     },
     "execution_count": 55,
     "metadata": {},
     "output_type": "execute_result"
    }
   ],
   "source": [
    "npf.npv(r,flujo_caja)"
   ]
  },
  {
   "cell_type": "code",
   "execution_count": 65,
   "id": "2c78369f",
   "metadata": {},
   "outputs": [
    {
     "name": "stdout",
     "output_type": "stream",
     "text": [
      "[-200   90  200   47   27  238]\n",
      "[-200  110  260   53   33  262]\n",
      "[   0 1000 6900  150   90 3000]\n",
      "[ -inf 10.    7.67 16.67 10.   20.83]\n"
     ]
    },
    {
     "name": "stderr",
     "output_type": "stream",
     "text": [
      "<ipython-input-65-45fca47e4031>:11: RuntimeWarning: divide by zero encountered in true_divide\n",
      "  print(ganancias_bruto / impuestos)\n"
     ]
    }
   ],
   "source": [
    "# suma de dos arreglos\n",
    "ganancias_bruto = np.array([-200,100,230,50,30,250])\n",
    "impuestos = np.array([0,10,30,3,3,12])\n",
    "\n",
    "ganancias_neta = ganancias_bruto - impuestos\n",
    "print(ganancias_neta)\n",
    "\n",
    "print(ganancias_bruto + impuestos)\n",
    "print(ganancias_bruto * impuestos)\n",
    "\n",
    "print(ganancias_bruto / impuestos)\n",
    "   "
   ]
  },
  {
   "cell_type": "code",
   "execution_count": 72,
   "id": "0e535dfc",
   "metadata": {},
   "outputs": [],
   "source": [
    "ganancias_bruto = np.array([[-200,100,230,50,30],\n",
    "                            [-200,100,230,50,30]])\n",
    "\n",
    "ganancias_bruto2 = np.array([[200,10,20,5,30],\n",
    "                            [200,100,30,5,30]])"
   ]
  },
  {
   "cell_type": "code",
   "execution_count": 73,
   "id": "9090cfb8",
   "metadata": {},
   "outputs": [
    {
     "name": "stdout",
     "output_type": "stream",
     "text": [
      "[[  0 110 250  55  60]\n",
      " [  0 200 260  55  60]]\n"
     ]
    }
   ],
   "source": [
    "print(ganancias_bruto+ganancias_bruto2)"
   ]
  },
  {
   "cell_type": "markdown",
   "id": "5474ff38",
   "metadata": {},
   "source": [
    "# Cambiar Valores (mutar)"
   ]
  },
  {
   "cell_type": "code",
   "execution_count": 76,
   "id": "4618888b",
   "metadata": {},
   "outputs": [
    {
     "name": "stdout",
     "output_type": "stream",
     "text": [
      "[-200   20   30   70  120   30]\n",
      "[[-200  400  230   50   30]\n",
      " [-200  100  230   50   30]]\n"
     ]
    }
   ],
   "source": [
    "cf= np.array([-200,20,50,70,120,30])\n",
    "\n",
    "ganancias_bruto = np.array([[-200,100,230,50,30],\n",
    "                            [-200,100,230,50,30]])\n",
    "\n",
    "cf[2] = 30\n",
    "print(cf)\n",
    "\n",
    "ganancias_bruto[0][1]=400\n",
    "print(ganancias_bruto)"
   ]
  },
  {
   "cell_type": "code",
   "execution_count": 77,
   "id": "c9646804",
   "metadata": {},
   "outputs": [
    {
     "name": "stdout",
     "output_type": "stream",
     "text": [
      "[-200  999  999  999  999  999]\n"
     ]
    }
   ],
   "source": [
    "cf[1:]=999\n",
    "print(cf)"
   ]
  },
  {
   "cell_type": "markdown",
   "id": "b10ef900",
   "metadata": {},
   "source": [
    "## Precaución al copiar arreglos de numpy"
   ]
  },
  {
   "cell_type": "code",
   "execution_count": 99,
   "id": "cc8d18a9",
   "metadata": {},
   "outputs": [],
   "source": [
    "cf1 = np.array([100,20,50,70])\n",
    "cf2 = cf1"
   ]
  },
  {
   "cell_type": "code",
   "execution_count": 100,
   "id": "13d58e4c",
   "metadata": {},
   "outputs": [
    {
     "name": "stdout",
     "output_type": "stream",
     "text": [
      "[100 151  50  70]\n"
     ]
    }
   ],
   "source": [
    "## n cantidad de lineas de codigo mas adelante\n",
    "cf1[1]=151\n",
    "print(cf1)"
   ]
  },
  {
   "cell_type": "code",
   "execution_count": 101,
   "id": "5b9a5e0c",
   "metadata": {},
   "outputs": [
    {
     "name": "stdout",
     "output_type": "stream",
     "text": [
      "[100 151  50  70]\n"
     ]
    }
   ],
   "source": [
    "## m cantidad de lineas de codigo mas adelante\n",
    "print(cf2)"
   ]
  },
  {
   "cell_type": "code",
   "execution_count": 102,
   "id": "814f8622",
   "metadata": {},
   "outputs": [
    {
     "name": "stdout",
     "output_type": "stream",
     "text": [
      "[100 991  50  70]\n",
      "[100  90  50  70]\n"
     ]
    }
   ],
   "source": [
    "## USAR COPY()\n",
    "cf1 = np.array([100,20,50,70])\n",
    "cf2 = cf1.copy()\n",
    "cf2[1]=991\n",
    "cf1[1]=90\n",
    "\n",
    "print(cf2)\n",
    "print(cf1)"
   ]
  },
  {
   "cell_type": "markdown",
   "id": "d3bea6c2",
   "metadata": {},
   "source": [
    "#### Especial cuidado con slicing"
   ]
  },
  {
   "cell_type": "code",
   "execution_count": 117,
   "id": "f9d736d5",
   "metadata": {
    "scrolled": true
   },
   "outputs": [
    {
     "name": "stdout",
     "output_type": "stream",
     "text": [
      "[50 30 25]\n",
      "[2 2 2]\n",
      "[100  10  20   2   2   2]\n"
     ]
    }
   ],
   "source": [
    "dividendos = np.array([100,10,20,50,30,25])\n",
    "ultimos_3 =dividendos[-3:]\n",
    "print(ultimos_3)\n",
    "\n",
    "ultimos_3[:]=2\n",
    "print(ultimos_3)\n",
    "\n",
    "print(dividendos)"
   ]
  },
  {
   "cell_type": "code",
   "execution_count": 118,
   "id": "0bd82dd1",
   "metadata": {
    "scrolled": true
   },
   "outputs": [
    {
     "name": "stdout",
     "output_type": "stream",
     "text": [
      "[50 30 25]\n",
      "[2 2 2]\n",
      "[100  10  20  50  30  25]\n"
     ]
    }
   ],
   "source": [
    "dividendos = np.array([100,10,20,50,30,25])\n",
    "ultimos_3 = dividendos[-3:].copy()\n",
    "print(ultimos_3)\n",
    "\n",
    "ultimos_3[:]=2\n",
    "print(ultimos_3)\n",
    "\n",
    "print(dividendos)"
   ]
  },
  {
   "cell_type": "markdown",
   "id": "647f58e1",
   "metadata": {},
   "source": [
    "## Metodos y atributos de arreglos numpy"
   ]
  },
  {
   "cell_type": "code",
   "execution_count": 111,
   "id": "e5404e7a",
   "metadata": {},
   "outputs": [
    {
     "name": "stdout",
     "output_type": "stream",
     "text": [
      "100\n",
      "100\n",
      "-200\n",
      "4\n",
      "0\n",
      "90\n",
      "[-200 -180 -130  -60   40   90]\n",
      "[-200   20   50   70  100   50]\n"
     ]
    }
   ],
   "source": [
    "import numpy as np\n",
    "cf = np.array([-200,20,50,70,100,50])\n",
    "\n",
    "#Maximo\n",
    "print(max(cf))\n",
    "print(cf.max())\n",
    "\n",
    "#minimo \n",
    "print(cf.min())\n",
    "\n",
    "#El indice con el valor mas alto del arreglo\n",
    "print(cf.argmax())\n",
    "\n",
    "#El indice con el valor mas bajo del arreglo\n",
    "print(cf.argmin())\n",
    "\n",
    "# la suma\n",
    "sum(cf)\n",
    "print(cf.sum())\n",
    "\n",
    "#la suma acumulada\n",
    "print(cf.cumsum())\n",
    "print(cf)"
   ]
  },
  {
   "cell_type": "code",
   "execution_count": 120,
   "id": "9872c33e",
   "metadata": {},
   "outputs": [
    {
     "name": "stdout",
     "output_type": "stream",
     "text": [
      "Los flujos de caja neto por periodo son  [-200   20   50   70  100   50]\n",
      "Los flujos de caja acumulado son  [-200 -180 -130  -60   40   90]\n"
     ]
    },
    {
     "data": {
      "image/png": "[encoded data removed]",
      "text/plain": [
       "<Figure size 864x576 with 1 Axes>"
      ]
     },
     "metadata": {
      "needs_background": "light"
     },
     "output_type": "display_data"
    }
   ],
   "source": [
    "import matplotlib.pyplot as plt\n",
    "import numpy as np\n",
    "cf = np.array([-200,20,50,70,100,50])\n",
    "cf_acum = cf.cumsum()\n",
    "print('Los flujos de caja neto por periodo son ',cf)\n",
    "print('Los flujos de caja acumulado son ',cf_acum)\n",
    "\n",
    "plt.figure(figsize =(12,8))\n",
    "plt.plot(cf_acum)\n",
    "plt.show()"
   ]
  },
  {
   "cell_type": "code",
   "execution_count": 126,
   "id": "fdc7435f",
   "metadata": {},
   "outputs": [
    {
     "name": "stdout",
     "output_type": "stream",
     "text": [
      "[  25   30   80  100 1000]\n"
     ]
    }
   ],
   "source": [
    "cf= np.array([80,30,100,25,1000])\n",
    "cf.sort() ## IMPORTANTE: esto si modifica el arreglo original\n",
    "print(cf)"
   ]
  },
  {
   "cell_type": "code",
   "execution_count": 127,
   "id": "1eab44fa",
   "metadata": {},
   "outputs": [
    {
     "data": {
      "text/plain": [
       "array([  25.01,   30.01,   80.01,  100.01, 1000.01])"
      ]
     },
     "execution_count": 127,
     "metadata": {},
     "output_type": "execute_result"
    }
   ],
   "source": [
    "cf2= cf+0.0125686868\n",
    "cf2.round(4) # puedo pasarle como parametro la cantidad de digitios a la que debe redondear"
   ]
  },
  {
   "cell_type": "code",
   "execution_count": 129,
   "id": "6326483c",
   "metadata": {},
   "outputs": [
    {
     "data": {
      "text/plain": [
       "5"
      ]
     },
     "execution_count": 129,
     "metadata": {},
     "output_type": "execute_result"
    }
   ],
   "source": [
    "# La longitud o tamaño del arreglo\n",
    "cf.size"
   ]
  },
  {
   "cell_type": "code",
   "execution_count": 130,
   "id": "481fd0c0",
   "metadata": {},
   "outputs": [
    {
     "name": "stdout",
     "output_type": "stream",
     "text": [
      "[3. 2. 8. 5.]\n"
     ]
    }
   ],
   "source": [
    "import numpy as np\n",
    "cf= np.array([9,4,64,25])\n",
    "\n",
    "# raiz cuadrada de cada elemento del arreglo\n",
    "print(np.sqrt(cf))"
   ]
  },
  {
   "cell_type": "markdown",
   "id": "5a14736b",
   "metadata": {},
   "source": [
    "## Arreglos boolean y Filtrado condicional"
   ]
  },
  {
   "cell_type": "code",
   "execution_count": 131,
   "id": "837b34e5",
   "metadata": {},
   "outputs": [],
   "source": [
    "import numpy as np\n",
    "cf = np.array([-200.6,20.53,50,70.87,100,50])"
   ]
  },
  {
   "cell_type": "code",
   "execution_count": 132,
   "id": "82d29e2d",
   "metadata": {},
   "outputs": [
    {
     "name": "stdout",
     "output_type": "stream",
     "text": [
      "[ True False False False False False]\n"
     ]
    }
   ],
   "source": [
    "print(cf<0)"
   ]
  },
  {
   "cell_type": "code",
   "execution_count": 134,
   "id": "c1fd61c7",
   "metadata": {},
   "outputs": [
    {
     "name": "stdout",
     "output_type": "stream",
     "text": [
      "[-200.6]\n",
      "[-200.6]\n"
     ]
    }
   ],
   "source": [
    "print(cf[cf<0])\n",
    "negativos = cf<0\n",
    "print(cf[negativos])"
   ]
  },
  {
   "cell_type": "code",
   "execution_count": 135,
   "id": "aa1cba55",
   "metadata": {},
   "outputs": [
    {
     "name": "stdout",
     "output_type": "stream",
     "text": [
      "[ 20.53  50.    70.87 100.    50.  ]\n"
     ]
    }
   ],
   "source": [
    "positivos = cf[cf>0]\n",
    "print(positivos)"
   ]
  },
  {
   "cell_type": "code",
   "execution_count": 138,
   "id": "88e835d0",
   "metadata": {},
   "outputs": [
    {
     "name": "stdout",
     "output_type": "stream",
     "text": [
      "[-200.6    20.53   50.     70.87  100.     50.  ]\n",
      "[ -1.    50.    70.87 100.    50.  ]\n"
     ]
    }
   ],
   "source": [
    "positivos[0]=-1\n",
    "print(cf)\n",
    "print(positivos)"
   ]
  },
  {
   "cell_type": "markdown",
   "id": "4184db82",
   "metadata": {},
   "source": [
    "##### En los Filtros se genera un arreglo distinto, como si hiciera .copy()  implicitamente"
   ]
  },
  {
   "cell_type": "code",
   "execution_count": null,
   "id": "341ef267",
   "metadata": {},
   "outputs": [],
   "source": []
  }
 ],
 "metadata": {
  "kernelspec": {
   "display_name": "Python 3",
   "language": "python",
   "name": "python3"
  },
  "language_info": {
   "codemirror_mode": {
    "name": "ipython",
    "version": 3
   },
   "file_extension": ".py",
   "mimetype": "text/x-python",
   "name": "python",
   "nbconvert_exporter": "python",
   "pygments_lexer": "ipython3",
   "version": "3.8.5"
  }
 },
 "nbformat": 4,
 "nbformat_minor": 5
}
